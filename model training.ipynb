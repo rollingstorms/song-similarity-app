{
 "cells": [
  {
   "cell_type": "code",
   "execution_count": 1,
   "id": "9018371a",
   "metadata": {},
   "outputs": [],
   "source": [
    "from src.Sonufy import *\n",
    "from src.AudioDataGenerator import AudioDataGenerator\n",
    "import matplotlib.pyplot as plt"
   ]
  },
  {
   "cell_type": "code",
   "execution_count": 2,
   "id": "77bc456a",
   "metadata": {},
   "outputs": [
    {
     "name": "stdout",
     "output_type": "stream",
     "text": [
      "Found 131278 files for prediction set\n"
     ]
    }
   ],
   "source": [
    "adg = AudioDataGenerator(batch_size=32, input_size=(64,1030), output_size=(64,64), directory='data/mels', shorten_factor=2)"
   ]
  },
  {
   "cell_type": "code",
   "execution_count": 68,
   "id": "9b932cb2",
   "metadata": {},
   "outputs": [],
   "source": [
    "sonufy = Sonufy(latent_dims=128, output_size=(64,64), final_shorten_factor=2)"
   ]
  },
  {
   "cell_type": "code",
   "execution_count": 69,
   "id": "0afa1804",
   "metadata": {},
   "outputs": [],
   "source": [
    "sonufy.build_model(filters=(16,32,64,256))"
   ]
  },
  {
   "cell_type": "code",
   "execution_count": null,
   "id": "bc1fcd6d",
   "metadata": {},
   "outputs": [
    {
     "name": "stdout",
     "output_type": "stream",
     "text": [
      "Found 98000 files for training set\n",
      "Found 2000 files for testing set\n",
      "Epoch 1/10\n",
      "765/765 [==============================] - 363s 473ms/step - loss: 0.0106 - val_loss: 0.0072\n",
      "Epoch 2/10\n",
      "765/765 [==============================] - 365s 477ms/step - loss: 0.0068 - val_loss: 0.0065\n",
      "Epoch 3/10\n",
      "765/765 [==============================] - 368s 480ms/step - loss: 0.0063 - val_loss: 0.0059\n",
      "Epoch 4/10\n",
      "765/765 [==============================] - 368s 481ms/step - loss: 0.0058 - val_loss: 0.0056\n",
      "Epoch 5/10\n",
      "765/765 [==============================] - 374s 489ms/step - loss: 0.0054 - val_loss: 0.0053\n",
      "Epoch 6/10\n",
      "765/765 [==============================] - 389s 508ms/step - loss: 0.0051 - val_loss: 0.0049\n",
      "Epoch 7/10\n",
      "765/765 [==============================] - 389s 508ms/step - loss: 0.0049 - val_loss: 0.0047\n",
      "Epoch 8/10\n",
      "736/765 [===========================>..] - ETA: 15s - loss: 0.0047"
     ]
    }
   ],
   "source": [
    "sonufy.train(mel_directory='data/mels', epochs=10, train_test_split=.02, batch_size=128, sample_size=100000)"
   ]
  },
  {
   "cell_type": "code",
   "execution_count": null,
   "id": "fcc895e3",
   "metadata": {},
   "outputs": [],
   "source": [
    "sonufy.save_encoder('data/test_128dim_256f')\n",
    "sonufy.build_vectors_from_model(mel_directory='data/mels', all_tracks_file='data/all_tracks_shuffled.feather')\n",
    "sonufy.save('data/test_128dim_256f')"
   ]
  },
  {
   "cell_type": "code",
   "execution_count": 35,
   "id": "52aeb292",
   "metadata": {},
   "outputs": [],
   "source": [
    "# sonufy.load('data/test_128dim_newmels/')"
   ]
  },
  {
   "cell_type": "code",
   "execution_count": null,
   "id": "45df502b",
   "metadata": {},
   "outputs": [],
   "source": [
    "test_img = adg.take(6)[0]\n",
    "test_img2 = adg.take(0)[0]"
   ]
  },
  {
   "cell_type": "markdown",
   "id": "04e0c7d4",
   "metadata": {},
   "source": [
    "Two separate images taken from different tracks:"
   ]
  },
  {
   "cell_type": "code",
   "execution_count": null,
   "id": "5f2c7321",
   "metadata": {},
   "outputs": [],
   "source": [
    "plt.imshow(test_img[0], origin='lower')\n",
    "plt.show()\n",
    "plt.imshow(test_img2[0], origin='lower')\n",
    "plt.show()"
   ]
  },
  {
   "cell_type": "markdown",
   "id": "3c590a0d",
   "metadata": {},
   "source": [
    "Autoencoder predictions for those images."
   ]
  },
  {
   "cell_type": "code",
   "execution_count": null,
   "id": "02d542c3",
   "metadata": {},
   "outputs": [],
   "source": [
    "plt.imshow(sonufy.autoencoder(test_img)[0], origin='lower')\n",
    "plt.show()\n",
    "plt.imshow(sonufy.autoencoder(test_img2)[0], origin='lower')\n",
    "plt.show()"
   ]
  },
  {
   "cell_type": "markdown",
   "id": "21756a9a",
   "metadata": {},
   "source": [
    "Distribution comparison between two images."
   ]
  },
  {
   "cell_type": "code",
   "execution_count": null,
   "id": "40f9931a",
   "metadata": {},
   "outputs": [],
   "source": [
    "plt.hist(np.array(test_img[0]).reshape(-1), alpha=0.5, label='img1')\n",
    "plt.hist(np.array(test_img2[0]).reshape(-1), alpha=0.5, label='img2')\n",
    "plt.legend()\n",
    "plt.show()"
   ]
  },
  {
   "cell_type": "markdown",
   "id": "d37ceaca",
   "metadata": {},
   "source": [
    "Distribution comparision between one image and the prediction."
   ]
  },
  {
   "cell_type": "code",
   "execution_count": null,
   "id": "56ba4386",
   "metadata": {},
   "outputs": [],
   "source": [
    "plt.hist(np.array(test_img[0]).reshape(-1), alpha=0.5, label='original')\n",
    "plt.hist(np.array(sonufy.autoencoder(test_img)[0]).reshape(-1), alpha=0.5, label='prediction')\n",
    "plt.legend()\n",
    "plt.show()"
   ]
  },
  {
   "cell_type": "markdown",
   "id": "7bb7c92e",
   "metadata": {},
   "source": [
    "comparison between encoded original and encoded prediction"
   ]
  },
  {
   "cell_type": "code",
   "execution_count": null,
   "id": "64d81539",
   "metadata": {},
   "outputs": [],
   "source": [
    "concat_img = np.array([sonufy.autoencoder.encoder(sonufy.autoencoder(test_img))[0], sonufy.autoencoder.encoder(test_img)[0]])\n",
    "plt.figure(figsize=(20,5))\n",
    "plt.imshow(concat_img, aspect=8)"
   ]
  },
  {
   "cell_type": "markdown",
   "id": "1342713e",
   "metadata": {},
   "source": [
    "compare encoded between two images"
   ]
  },
  {
   "cell_type": "code",
   "execution_count": null,
   "id": "25abdfc9",
   "metadata": {},
   "outputs": [],
   "source": [
    "concat_img_compare = np.array([sonufy.autoencoder.encoder(sonufy.autoencoder(test_img))[0], sonufy.autoencoder.encoder(sonufy.autoencoder(test_img2))[0]])\n",
    "plt.figure(figsize=(20,5))\n",
    "plt.imshow(concat_img_compare, aspect=8)"
   ]
  },
  {
   "cell_type": "markdown",
   "id": "a05a79a8",
   "metadata": {},
   "source": [
    "compare encoded between two images and the mean of the first image batch."
   ]
  },
  {
   "cell_type": "code",
   "execution_count": null,
   "id": "e8134660",
   "metadata": {},
   "outputs": [],
   "source": [
    "concat_img_compare = np.array([np.array(sonufy.autoencoder.encoder(sonufy.autoencoder(test_img))).mean(axis=0), sonufy.autoencoder.encoder(sonufy.autoencoder(test_img))[0], sonufy.autoencoder.encoder(sonufy.autoencoder(test_img2))[0]])\n",
    "plt.figure(figsize=(20,5))\n",
    "plt.imshow(concat_img_compare, aspect=8)"
   ]
  },
  {
   "cell_type": "markdown",
   "id": "3f42e56a",
   "metadata": {},
   "source": [
    "Look at the scale of each feature in the encoded space. Needs to be scaled which is what is happening later on."
   ]
  },
  {
   "cell_type": "code",
   "execution_count": null,
   "id": "bb5679b6",
   "metadata": {},
   "outputs": [],
   "source": [
    "pd.Series(np.array(sonufy.autoencoder.encoder(test_img)[0]).reshape(-1))"
   ]
  },
  {
   "cell_type": "code",
   "execution_count": null,
   "id": "97c38020",
   "metadata": {},
   "outputs": [],
   "source": [
    "concat_img_compare[0].shape"
   ]
  },
  {
   "cell_type": "markdown",
   "id": "9ca79a05",
   "metadata": {},
   "source": [
    "heat map cosine similarity between encoded images for entire batch vs batch"
   ]
  },
  {
   "cell_type": "code",
   "execution_count": null,
   "id": "7a4e1f69",
   "metadata": {},
   "outputs": [],
   "source": [
    "from sklearn.metrics.pairwise import cosine_similarity\n",
    "\n",
    "plt.figure(figsize=(10,10))\n",
    "plt.imshow(cosine_similarity(sonufy.autoencoder.encoder(test_img), sonufy.autoencoder.encoder(test_img2)), cmap='magma')\n",
    "plt.xticks(ticks=range(32))\n",
    "plt.yticks(ticks=range(32))\n",
    "plt.colorbar()\n",
    "plt.show()"
   ]
  },
  {
   "cell_type": "markdown",
   "id": "2c2dbb63",
   "metadata": {},
   "source": [
    "cosine similarity between mean and the entire batch of the second image."
   ]
  },
  {
   "cell_type": "code",
   "execution_count": null,
   "id": "b9da8d32",
   "metadata": {},
   "outputs": [],
   "source": [
    "plt.figure(figsize=(10,10))\n",
    "plt.imshow(cosine_similarity(np.array(sonufy.autoencoder.encoder(test_img)).mean(axis=0).reshape(1,-1), sonufy.autoencoder.encoder(test_img2)), cmap='magma')\n",
    "plt.xticks(ticks=range(32))\n",
    "plt.show()"
   ]
  },
  {
   "cell_type": "markdown",
   "id": "44c3618a",
   "metadata": {},
   "source": [
    "cosine similarity between encoded space of the mean of the two images."
   ]
  },
  {
   "cell_type": "code",
   "execution_count": null,
   "id": "999f5ae7",
   "metadata": {},
   "outputs": [],
   "source": [
    "cosine_similarity(np.array(sonufy.autoencoder.encoder(test_img)).mean(axis=0).reshape(1,-1), np.array(sonufy.autoencoder.encoder(test_img2)).mean(axis=0).reshape(1,-1))\n"
   ]
  },
  {
   "cell_type": "code",
   "execution_count": null,
   "id": "b5f7905e",
   "metadata": {},
   "outputs": [],
   "source": [
    "a, b, c, d = sonufy.search_for_recommendations(query='uncontrollable urge', get_time_and_freq=True)"
   ]
  },
  {
   "cell_type": "code",
   "execution_count": null,
   "id": "aa482ae6",
   "metadata": {},
   "outputs": [],
   "source": [
    "a['name']"
   ]
  },
  {
   "cell_type": "code",
   "execution_count": null,
   "id": "fb5804c7",
   "metadata": {},
   "outputs": [],
   "source": [
    "b"
   ]
  },
  {
   "cell_type": "code",
   "execution_count": 49,
   "id": "a06caefa",
   "metadata": {},
   "outputs": [],
   "source": [
    "similarity_img = np.concatenate([np.array(d), np.array(c[sonufy.latent_cols])])"
   ]
  },
  {
   "cell_type": "code",
   "execution_count": 50,
   "id": "1ab75303",
   "metadata": {},
   "outputs": [
    {
     "data": {
      "text/plain": [
       "<matplotlib.image.AxesImage at 0x2c35dc6a0>"
      ]
     },
     "execution_count": 50,
     "metadata": {},
     "output_type": "execute_result"
    },
    {
     "data": {
      "image/png": "[encoded data removed]",
      "text/plain": [
       "<Figure size 1440x720 with 1 Axes>"
      ]
     },
     "metadata": {
      "needs_background": "light"
     },
     "output_type": "display_data"
    }
   ],
   "source": [
    "plt.figure(figsize=(20,10))\n",
    "plt.imshow(similarity_img, aspect=5)"
   ]
  },
  {
   "cell_type": "code",
   "execution_count": 51,
   "id": "4f5ad0ba",
   "metadata": {},
   "outputs": [],
   "source": [
    "from sklearn.metrics import mean_squared_error, mean_absolute_error"
   ]
  },
  {
   "cell_type": "code",
   "execution_count": 52,
   "id": "877e6dde",
   "metadata": {},
   "outputs": [
    {
     "data": {
      "text/plain": [
       "0.0036256783996364405"
      ]
     },
     "execution_count": 52,
     "metadata": {},
     "output_type": "execute_result"
    }
   ],
   "source": [
    "mean_squared_error(test_img[0].reshape(64,64), np.array(sonufy.autoencoder(test_img)[0]).reshape(64,64))"
   ]
  },
  {
   "cell_type": "code",
   "execution_count": null,
   "id": "a797b87a",
   "metadata": {},
   "outputs": [],
   "source": []
  }
 ],
 "metadata": {
  "kernelspec": {
   "display_name": "Python 3 (ipykernel)",
   "language": "python",
   "name": "python3"
  },
  "language_info": {
   "codemirror_mode": {
    "name": "ipython",
    "version": 3
   },
   "file_extension": ".py",
   "mimetype": "text/x-python",
   "name": "python",
   "nbconvert_exporter": "python",
   "pygments_lexer": "ipython3",
   "version": "3.9.13"
  }
 },
 "nbformat": 4,
 "nbformat_minor": 5
}

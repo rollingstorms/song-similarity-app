{
 "cells": [
  {
   "cell_type": "code",
   "execution_count": 1,
   "id": "1ac80b7b",
   "metadata": {},
   "outputs": [],
   "source": [
    "from src.Sonufy import *\n",
    "from src.AudioDataGenerator import AudioDataGenerator\n",
    "import matplotlib.pyplot as plt"
   ]
  },
  {
   "cell_type": "code",
   "execution_count": 2,
   "id": "cbb91efe",
   "metadata": {},
   "outputs": [
    {
     "name": "stdout",
     "output_type": "stream",
     "text": [
      "Found 150182 files for prediction set\n"
     ]
    }
   ],
   "source": [
    "adg = AudioDataGenerator(batch_size=32, input_size=(64,1030), output_size=(64,64), directory='data/mels', shorten_factor=2)"
   ]
  },
  {
   "cell_type": "code",
   "execution_count": 3,
   "id": "4951c30a",
   "metadata": {},
   "outputs": [],
   "source": [
    "sonufy = Sonufy(latent_dims=256, output_size=(64,64), shorten_factor=2)"
   ]
  },
  {
   "cell_type": "code",
   "execution_count": 4,
   "id": "5546759f",
   "metadata": {},
   "outputs": [],
   "source": [
    "sonufy.build_model()"
   ]
  },
  {
   "cell_type": "code",
   "execution_count": null,
   "id": "11a3e23f",
   "metadata": {},
   "outputs": [
    {
     "name": "stdout",
     "output_type": "stream",
     "text": [
      "Found 98000 files for training set\n",
      "Found 2000 files for testing set\n",
      "Epoch 1/20\n"
     ]
    },
    {
     "name": "stderr",
     "output_type": "stream",
     "text": [
      "2022-09-02 14:56:46.691998: W tensorflow/core/platform/profile_utils/cpu_utils.cc:128] Failed to get CPU frequency: 0 Hz\n"
     ]
    },
    {
     "name": "stdout",
     "output_type": "stream",
     "text": [
      "765/765 [==============================] - 179s 232ms/step - loss: 0.0058 - val_loss: 0.0043\n",
      "Epoch 2/20\n",
      "765/765 [==============================] - 177s 232ms/step - loss: 0.0036 - val_loss: 0.0034\n",
      "Epoch 3/20\n",
      "765/765 [==============================] - 177s 231ms/step - loss: 0.0030 - val_loss: 0.0028\n",
      "Epoch 4/20\n",
      "765/765 [==============================] - 180s 235ms/step - loss: 0.0027 - val_loss: 0.0026\n",
      "Epoch 5/20\n",
      "765/765 [==============================] - 176s 230ms/step - loss: 0.0026 - val_loss: 0.0026\n",
      "Epoch 6/20\n",
      "765/765 [==============================] - 182s 237ms/step - loss: 0.0024 - val_loss: 0.0023\n",
      "Epoch 7/20\n",
      "765/765 [==============================] - 176s 231ms/step - loss: 0.0023 - val_loss: 0.0023\n",
      "Epoch 8/20\n",
      "765/765 [==============================] - 177s 231ms/step - loss: 0.0023 - val_loss: 0.0024\n",
      "Epoch 9/20\n",
      "765/765 [==============================] - 181s 236ms/step - loss: 0.0022 - val_loss: 0.0022\n",
      "Epoch 10/20\n",
      "765/765 [==============================] - 188s 246ms/step - loss: 0.0021 - val_loss: 0.0021\n",
      "Epoch 11/20\n",
      "765/765 [==============================] - 174s 228ms/step - loss: 0.0021 - val_loss: 0.0021\n",
      "Epoch 12/20\n",
      "765/765 [==============================] - 173s 226ms/step - loss: 0.0021 - val_loss: 0.0021\n",
      "Epoch 13/20\n",
      "472/765 [=================>............] - ETA: 1:07 - loss: 0.0021"
     ]
    }
   ],
   "source": [
    "sonufy.train(mel_directory='data/mels', epochs=20, train_test_split=.02, sample_size=100000)"
   ]
  },
  {
   "cell_type": "code",
   "execution_count": null,
   "id": "ea1536a8",
   "metadata": {},
   "outputs": [],
   "source": [
    "sonufy.save_full_model('data/test_model_256/')\n",
    "# sonufy.load_full_model('data/test_model_short/')"
   ]
  },
  {
   "cell_type": "code",
   "execution_count": null,
   "id": "d2014c7d",
   "metadata": {},
   "outputs": [],
   "source": [
    "sonufy.save_encoder('data/test_encoder_short_256')\n",
    "# sonufy.load_encoder('data/test_encoder_short2')\n",
    "sonufy.build_vectors_from_model(mel_directory='data/mels', all_tracks_file='data/all_tracks_shuffled.feather')\n",
    "sonufy.save_db('data/test_db_short_256')\n",
    "# sonufy.load_db('data/test_db_short2')"
   ]
  },
  {
   "cell_type": "code",
   "execution_count": null,
   "id": "a299b350",
   "metadata": {},
   "outputs": [],
   "source": [
    "test_img = adg.take(2)[0]\n",
    "\n",
    "plt.imshow(test_img[0], origin='lower')"
   ]
  },
  {
   "cell_type": "code",
   "execution_count": null,
   "id": "383bcc86",
   "metadata": {},
   "outputs": [],
   "source": [
    "plt.imshow(sonufy.autoencoder(test_img)[0], origin='lower')"
   ]
  },
  {
   "cell_type": "code",
   "execution_count": null,
   "id": "a124e4ab",
   "metadata": {},
   "outputs": [],
   "source": [
    "a, b, c, d = sonufy.search_for_recommendations(query='material girl madonna', get_time_and_freq=True)"
   ]
  },
  {
   "cell_type": "code",
   "execution_count": null,
   "id": "bb68ef78",
   "metadata": {},
   "outputs": [],
   "source": [
    "a['name']"
   ]
  },
  {
   "cell_type": "code",
   "execution_count": null,
   "id": "134fd5c6",
   "metadata": {},
   "outputs": [],
   "source": [
    "b"
   ]
  },
  {
   "cell_type": "code",
   "execution_count": null,
   "id": "0cd745c8",
   "metadata": {},
   "outputs": [],
   "source": [
    "similarity_img = np.concatenate([np.array(d), np.array(c[sonufy.latent_cols])])"
   ]
  },
  {
   "cell_type": "code",
   "execution_count": null,
   "id": "4e66ab65",
   "metadata": {},
   "outputs": [],
   "source": [
    "plt.figure(figsize=(20,10))\n",
    "plt.imshow(similarity_img, aspect=5)"
   ]
  },
  {
   "cell_type": "code",
   "execution_count": null,
   "id": "14da680e",
   "metadata": {},
   "outputs": [],
   "source": []
  }
 ],
 "metadata": {
  "kernelspec": {
   "display_name": "Python 3 (ipykernel)",
   "language": "python",
   "name": "python3"
  },
  "language_info": {
   "codemirror_mode": {
    "name": "ipython",
    "version": 3
   },
   "file_extension": ".py",
   "mimetype": "text/x-python",
   "name": "python",
   "nbconvert_exporter": "python",
   "pygments_lexer": "ipython3",
   "version": "3.9.13"
  }
 },
 "nbformat": 4,
 "nbformat_minor": 5
}

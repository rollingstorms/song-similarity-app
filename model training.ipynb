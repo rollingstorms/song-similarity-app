{
 "cells": [
  {
   "cell_type": "code",
   "execution_count": 1,
   "id": "9018371a",
   "metadata": {},
   "outputs": [],
   "source": [
    "from src.Sonufy import *\n",
    "from src.AudioDataGenerator import AudioDataGenerator\n",
    "import matplotlib.pyplot as plt"
   ]
  },
  {
   "cell_type": "code",
   "execution_count": 360,
   "id": "77bc456a",
   "metadata": {},
   "outputs": [
    {
     "name": "stdout",
     "output_type": "stream",
     "text": [
      "Found 67361 files for prediction set\n"
     ]
    }
   ],
   "source": [
    "adg = AudioDataGenerator(batch_size=32, input_size=(64,1030), output_size=(64,64), directory='data/mels', shorten_factor=2)"
   ]
  },
  {
   "cell_type": "code",
   "execution_count": 361,
   "id": "9b932cb2",
   "metadata": {},
   "outputs": [],
   "source": [
    "sonufy = Sonufy(latent_dims=128, output_size=(64,64), final_shorten_factor=2)"
   ]
  },
  {
   "cell_type": "code",
   "execution_count": 379,
   "id": "0afa1804",
   "metadata": {},
   "outputs": [],
   "source": [
    "sonufy.build_model(filters=(16,32,64))"
   ]
  },
  {
   "cell_type": "code",
   "execution_count": 381,
   "id": "bc1fcd6d",
   "metadata": {},
   "outputs": [
    {
     "name": "stdout",
     "output_type": "stream",
     "text": [
      "Found 66013 files for training set\n",
      "Found 1348 files for testing set\n",
      "Epoch 1/50\n",
      "515/515 [==============================] - 140s 272ms/step - loss: 0.0087 - val_loss: 0.0072\n",
      "Epoch 2/50\n",
      "515/515 [==============================] - 132s 256ms/step - loss: 0.0066 - val_loss: 0.0064\n",
      "Epoch 3/50\n",
      "515/515 [==============================] - 127s 246ms/step - loss: 0.0060 - val_loss: 0.0062\n",
      "Epoch 4/50\n",
      "515/515 [==============================] - 144s 279ms/step - loss: 0.0057 - val_loss: 0.0054\n",
      "Epoch 5/50\n",
      "515/515 [==============================] - 153s 297ms/step - loss: 0.0054 - val_loss: 0.0053\n",
      "Epoch 6/50\n",
      "515/515 [==============================] - 134s 260ms/step - loss: 0.0052 - val_loss: 0.0051\n",
      "Epoch 7/50\n",
      "515/515 [==============================] - 141s 273ms/step - loss: 0.0051 - val_loss: 0.0049\n",
      "Epoch 8/50\n",
      "515/515 [==============================] - 144s 280ms/step - loss: 0.0049 - val_loss: 0.0051\n",
      "Epoch 9/50\n",
      "515/515 [==============================] - 131s 254ms/step - loss: 0.0048 - val_loss: 0.0047\n",
      "Epoch 10/50\n",
      "515/515 [==============================] - 148s 288ms/step - loss: 0.0047 - val_loss: 0.0046\n",
      "Epoch 11/50\n",
      "515/515 [==============================] - 148s 287ms/step - loss: 0.0046 - val_loss: 0.0045\n",
      "Epoch 12/50\n",
      "515/515 [==============================] - 150s 291ms/step - loss: 0.0046 - val_loss: 0.0045\n",
      "Epoch 13/50\n",
      "515/515 [==============================] - 147s 285ms/step - loss: 0.0045 - val_loss: 0.0045\n",
      "Epoch 14/50\n",
      "515/515 [==============================] - 147s 285ms/step - loss: 0.0045 - val_loss: 0.0046\n",
      "Epoch 15/50\n",
      "515/515 [==============================] - 149s 288ms/step - loss: 0.0045 - val_loss: 0.0045\n",
      "Epoch 16/50\n",
      "515/515 [==============================] - 148s 286ms/step - loss: 0.0045 - val_loss: 0.0044\n",
      "Epoch 17/50\n",
      "515/515 [==============================] - 148s 287ms/step - loss: 0.0044 - val_loss: 0.0045\n",
      "Epoch 18/50\n",
      "515/515 [==============================] - 148s 287ms/step - loss: 0.0044 - val_loss: 0.0044\n",
      "Epoch 19/50\n",
      "515/515 [==============================] - 149s 289ms/step - loss: 0.0044 - val_loss: 0.0044\n",
      "Epoch 20/50\n",
      "515/515 [==============================] - 151s 294ms/step - loss: 0.0044 - val_loss: 0.0043\n",
      "Epoch 21/50\n",
      "515/515 [==============================] - 149s 288ms/step - loss: 0.0044 - val_loss: 0.0045\n",
      "Epoch 22/50\n",
      "515/515 [==============================] - 151s 293ms/step - loss: 0.0043 - val_loss: 0.0045\n",
      "Epoch 23/50\n",
      "515/515 [==============================] - 149s 289ms/step - loss: 0.0043 - val_loss: 0.0044\n",
      "Epoch 24/50\n",
      "515/515 [==============================] - 150s 291ms/step - loss: 0.0043 - val_loss: 0.0044\n",
      "Epoch 25/50\n",
      "515/515 [==============================] - 149s 289ms/step - loss: 0.0043 - val_loss: 0.0044\n",
      "Epoch 26/50\n",
      "515/515 [==============================] - 147s 286ms/step - loss: 0.0043 - val_loss: 0.0044\n",
      "Epoch 27/50\n",
      "515/515 [==============================] - 150s 290ms/step - loss: 0.0043 - val_loss: 0.0042\n",
      "Epoch 28/50\n",
      "515/515 [==============================] - 148s 287ms/step - loss: 0.0043 - val_loss: 0.0042\n",
      "Epoch 29/50\n",
      "515/515 [==============================] - 147s 285ms/step - loss: 0.0042 - val_loss: 0.0042\n",
      "Epoch 30/50\n",
      "515/515 [==============================] - 146s 284ms/step - loss: 0.0042 - val_loss: 0.0042\n",
      "Epoch 31/50\n",
      "515/515 [==============================] - 148s 288ms/step - loss: 0.0042 - val_loss: 0.0042\n",
      "Epoch 32/50\n",
      "515/515 [==============================] - 150s 290ms/step - loss: 0.0042 - val_loss: 0.0043\n",
      "Epoch 33/50\n",
      "515/515 [==============================] - 151s 294ms/step - loss: 0.0042 - val_loss: 0.0042\n",
      "Epoch 34/50\n",
      "515/515 [==============================] - 149s 289ms/step - loss: 0.0042 - val_loss: 0.0042\n",
      "Epoch 35/50\n",
      "515/515 [==============================] - 158s 307ms/step - loss: 0.0042 - val_loss: 0.0042\n",
      "Epoch 36/50\n",
      "515/515 [==============================] - 155s 301ms/step - loss: 0.0042 - val_loss: 0.0042\n",
      "Epoch 37/50\n",
      "515/515 [==============================] - 153s 297ms/step - loss: 0.0042 - val_loss: 0.0041\n",
      "Epoch 38/50\n",
      "515/515 [==============================] - 154s 298ms/step - loss: 0.0042 - val_loss: 0.0041\n",
      "Epoch 39/50\n",
      "515/515 [==============================] - 152s 296ms/step - loss: 0.0042 - val_loss: 0.0043\n",
      "Epoch 40/50\n",
      "515/515 [==============================] - 146s 284ms/step - loss: 0.0042 - val_loss: 0.0042\n",
      "Epoch 41/50\n",
      "515/515 [==============================] - 147s 286ms/step - loss: 0.0042 - val_loss: 0.0042\n",
      "Epoch 42/50\n",
      "515/515 [==============================] - 155s 301ms/step - loss: 0.0042 - val_loss: 0.0041\n",
      "Epoch 43/50\n",
      "515/515 [==============================] - 154s 299ms/step - loss: 0.0042 - val_loss: 0.0043\n",
      "Epoch 44/50\n",
      "515/515 [==============================] - 149s 289ms/step - loss: 0.0042 - val_loss: 0.0042\n",
      "Epoch 45/50\n",
      "515/515 [==============================] - 151s 293ms/step - loss: 0.0042 - val_loss: 0.0042\n",
      "Epoch 46/50\n",
      "515/515 [==============================] - 153s 297ms/step - loss: 0.0042 - val_loss: 0.0042\n",
      "Epoch 47/50\n",
      "515/515 [==============================] - 148s 287ms/step - loss: 0.0042 - val_loss: 0.0042\n",
      "Epoch 48/50\n",
      "515/515 [==============================] - 150s 290ms/step - loss: 0.0042 - val_loss: 0.0041\n",
      "Epoch 49/50\n",
      "515/515 [==============================] - 150s 291ms/step - loss: 0.0041 - val_loss: 0.0042\n",
      "Epoch 50/50\n",
      "515/515 [==============================] - 150s 291ms/step - loss: 0.0042 - val_loss: 0.0041\n"
     ]
    }
   ],
   "source": [
    "sonufy.train(mel_directory='data/mels', epochs=50, train_test_split=.02, batch_size=128)"
   ]
  },
  {
   "cell_type": "code",
   "execution_count": null,
   "id": "fcc895e3",
   "metadata": {},
   "outputs": [
    {
     "name": "stderr",
     "output_type": "stream",
     "text": [
      "2022-09-07 08:29:25.998 WARNING absl: Found untraced functions such as _jit_compiled_convolution_op, _jit_compiled_convolution_op, _jit_compiled_convolution_op, _jit_compiled_convolution_op, _jit_compiled_convolution_op while saving (showing 5 of 6). These functions will not be directly callable after loading.\n",
      "2022-09-07 08:29:26.432 INFO    tensorflow: Assets written to: /var/folders/jy/34vkbxz97tbgm78bc07fmx380000gn/T/tmp2mzda8ya/assets\n",
      "2022-09-07 08:29:27.951174: W tensorflow/compiler/mlir/lite/python/tf_tfl_flatbuffer_helpers.cc:362] Ignored output_format.\n",
      "2022-09-07 08:29:27.951451: W tensorflow/compiler/mlir/lite/python/tf_tfl_flatbuffer_helpers.cc:365] Ignored drop_control_dependency.\n",
      "2022-09-07 08:29:27.953408: I tensorflow/cc/saved_model/reader.cc:43] Reading SavedModel from: /var/folders/jy/34vkbxz97tbgm78bc07fmx380000gn/T/tmp2mzda8ya\n",
      "2022-09-07 08:29:27.964225: I tensorflow/cc/saved_model/reader.cc:81] Reading meta graph with tags { serve }\n",
      "2022-09-07 08:29:27.964243: I tensorflow/cc/saved_model/reader.cc:122] Reading SavedModel debug info (if present) from: /var/folders/jy/34vkbxz97tbgm78bc07fmx380000gn/T/tmp2mzda8ya\n",
      "2022-09-07 08:29:28.006006: I tensorflow/cc/saved_model/loader.cc:228] Restoring SavedModel bundle.\n",
      "2022-09-07 08:29:28.143115: I tensorflow/cc/saved_model/loader.cc:212] Running initialization op on SavedModel bundle at path: /var/folders/jy/34vkbxz97tbgm78bc07fmx380000gn/T/tmp2mzda8ya\n",
      "2022-09-07 08:29:28.188458: I tensorflow/cc/saved_model/loader.cc:301] SavedModel load for tags { serve }; Status: success: OK. Took 235314 microseconds.\n"
     ]
    },
    {
     "name": "stdout",
     "output_type": "stream",
     "text": [
      "Encoder saved to \"data/test_128dim_newmels\".\n",
      "Getting predictions from autoencoder...\n",
      "[>............................................................] 5 / 111553\r"
     ]
    },
    {
     "name": "stderr",
     "output_type": "stream",
     "text": [
      "INFO: Applying 1 TensorFlow Lite delegate(s) lazily.\n"
     ]
    },
    {
     "name": "stdout",
     "output_type": "stream",
     "text": [
      "[==================>..........................................] 33864 / 111553\r"
     ]
    }
   ],
   "source": [
    "sonufy.save_encoder('data/test_128dim_newmels')\n",
    "# sonufy.load_encoder('data/test_128dim_newmels')\n",
    "sonufy.build_vectors_from_model(mel_directory='data/mels', all_tracks_file='data/all_tracks_shuffled.feather')\n",
    "sonufy.save('data/test_128dim_newmels')"
   ]
  },
  {
   "cell_type": "code",
   "execution_count": 365,
   "id": "2e148183",
   "metadata": {},
   "outputs": [
    {
     "name": "stdout",
     "output_type": "stream",
     "text": [
      "Autoencoder loaded from \"data/test_128dim_newmels/\".\n",
      "loaded full model\n",
      "loaded encoder\n",
      "Loaded tracks.\n",
      "Loaded genres.\n",
      "loaded scaler\n",
      "loaded database files\n"
     ]
    }
   ],
   "source": [
    "sonufy.load('data/test_128dim_newmels/')"
   ]
  },
  {
   "cell_type": "code",
   "execution_count": 366,
   "id": "eb07270c",
   "metadata": {},
   "outputs": [],
   "source": [
    "test_img = adg.take(6)[0]\n",
    "test_img2 = adg.take(0)[0]"
   ]
  },
  {
   "cell_type": "markdown",
   "id": "cd951eb0",
   "metadata": {},
   "source": [
    "Two separate images taken from different tracks:"
   ]
  },
  {
   "cell_type": "code",
   "execution_count": 367,
   "id": "5f2c7321",
   "metadata": {},
   "outputs": [
    {
     "data": {
      "image/png": "[encoded data removed]",
      "text/plain": [
       "<Figure size 432x288 with 1 Axes>"
      ]
     },
     "metadata": {
      "needs_background": "light"
     },
     "output_type": "display_data"
    },
    {
     "data": {
      "image/png": "[encoded data removed]",
      "text/plain": [
       "<Figure size 432x288 with 1 Axes>"
      ]
     },
     "metadata": {
      "needs_background": "light"
     },
     "output_type": "display_data"
    }
   ],
   "source": [
    "plt.imshow(test_img[0], origin='lower')\n",
    "plt.show()\n",
    "plt.imshow(test_img2[0], origin='lower')\n",
    "plt.show()"
   ]
  },
  {
   "cell_type": "markdown",
   "id": "37ee8217",
   "metadata": {},
   "source": [
    "Autoencoder predictions for those images."
   ]
  },
  {
   "cell_type": "code",
   "execution_count": 368,
   "id": "02d542c3",
   "metadata": {},
   "outputs": [
    {
     "data": {
      "image/png": "[encoded data removed]",
      "text/plain": [
       "<Figure size 432x288 with 1 Axes>"
      ]
     },
     "metadata": {
      "needs_background": "light"
     },
     "output_type": "display_data"
    },
    {
     "data": {
      "image/png": "[encoded data removed]",
      "text/plain": [
       "<Figure size 432x288 with 1 Axes>"
      ]
     },
     "metadata": {
      "needs_background": "light"
     },
     "output_type": "display_data"
    }
   ],
   "source": [
    "plt.imshow(sonufy.autoencoder(test_img)[0], origin='lower')\n",
    "plt.show()\n",
    "plt.imshow(sonufy.autoencoder(test_img2)[0], origin='lower')\n",
    "plt.show()"
   ]
  },
  {
   "cell_type": "markdown",
   "id": "7b1cb880",
   "metadata": {},
   "source": [
    "Distribution comparison between two images."
   ]
  },
  {
   "cell_type": "code",
   "execution_count": 369,
   "id": "8c9325a5",
   "metadata": {},
   "outputs": [
    {
     "data": {
      "image/png": "[encoded data removed]",
      "text/plain": [
       "<Figure size 432x288 with 1 Axes>"
      ]
     },
     "metadata": {
      "needs_background": "light"
     },
     "output_type": "display_data"
    }
   ],
   "source": [
    "plt.hist(np.array(test_img[0]).reshape(-1), alpha=0.5, label='img1')\n",
    "plt.hist(np.array(test_img2[0]).reshape(-1), alpha=0.5, label='img2')\n",
    "plt.legend()\n",
    "plt.show()"
   ]
  },
  {
   "cell_type": "markdown",
   "id": "93b5fab7",
   "metadata": {},
   "source": [
    "Distribution comparision between one image and the prediction."
   ]
  },
  {
   "cell_type": "code",
   "execution_count": 370,
   "id": "05e6b213",
   "metadata": {},
   "outputs": [
    {
     "data": {
      "image/png": "[encoded data removed]",
      "text/plain": [
       "<Figure size 432x288 with 1 Axes>"
      ]
     },
     "metadata": {
      "needs_background": "light"
     },
     "output_type": "display_data"
    }
   ],
   "source": [
    "plt.hist(np.array(test_img[0]).reshape(-1), alpha=0.5, label='original')\n",
    "plt.hist(np.array(sonufy.autoencoder(test_img)[0]).reshape(-1), alpha=0.5, label='prediction')\n",
    "plt.legend()\n",
    "plt.show()"
   ]
  },
  {
   "cell_type": "markdown",
   "id": "fb82353c",
   "metadata": {},
   "source": [
    "comparison between encoded original and encoded prediction"
   ]
  },
  {
   "cell_type": "code",
   "execution_count": 371,
   "id": "f36125b3",
   "metadata": {},
   "outputs": [
    {
     "data": {
      "text/plain": [
       "<matplotlib.image.AxesImage at 0x341aed0d0>"
      ]
     },
     "execution_count": 371,
     "metadata": {},
     "output_type": "execute_result"
    },
    {
     "data": {
      "image/png": "[encoded data removed]",
      "text/plain": [
       "<Figure size 1440x360 with 1 Axes>"
      ]
     },
     "metadata": {
      "needs_background": "light"
     },
     "output_type": "display_data"
    }
   ],
   "source": [
    "concat_img = np.array([sonufy.autoencoder.encoder(sonufy.autoencoder(test_img))[0], sonufy.autoencoder.encoder(test_img)[0]])\n",
    "plt.figure(figsize=(20,5))\n",
    "plt.imshow(concat_img, aspect=8)"
   ]
  },
  {
   "cell_type": "markdown",
   "id": "b4975831",
   "metadata": {},
   "source": [
    "compare encoded between two images"
   ]
  },
  {
   "cell_type": "code",
   "execution_count": 372,
   "id": "605eed26",
   "metadata": {},
   "outputs": [
    {
     "data": {
      "text/plain": [
       "<matplotlib.image.AxesImage at 0x2dfb60ca0>"
      ]
     },
     "execution_count": 372,
     "metadata": {},
     "output_type": "execute_result"
    },
    {
     "data": {
      "image/png": "[encoded data removed]",
      "text/plain": [
       "<Figure size 1440x360 with 1 Axes>"
      ]
     },
     "metadata": {
      "needs_background": "light"
     },
     "output_type": "display_data"
    }
   ],
   "source": [
    "concat_img_compare = np.array([sonufy.autoencoder.encoder(sonufy.autoencoder(test_img))[0], sonufy.autoencoder.encoder(sonufy.autoencoder(test_img2))[0]])\n",
    "plt.figure(figsize=(20,5))\n",
    "plt.imshow(concat_img_compare, aspect=8)"
   ]
  },
  {
   "cell_type": "markdown",
   "id": "3a5a8551",
   "metadata": {},
   "source": [
    "compare encoded between two images and the mean of the first image batch."
   ]
  },
  {
   "cell_type": "code",
   "execution_count": 373,
   "id": "5c7c06c3",
   "metadata": {},
   "outputs": [
    {
     "data": {
      "text/plain": [
       "<matplotlib.image.AxesImage at 0x341981af0>"
      ]
     },
     "execution_count": 373,
     "metadata": {},
     "output_type": "execute_result"
    },
    {
     "data": {
      "image/png": "[encoded data removed]",
      "text/plain": [
       "<Figure size 1440x360 with 1 Axes>"
      ]
     },
     "metadata": {
      "needs_background": "light"
     },
     "output_type": "display_data"
    }
   ],
   "source": [
    "concat_img_compare = np.array([np.array(sonufy.autoencoder.encoder(sonufy.autoencoder(test_img))).mean(axis=0), sonufy.autoencoder.encoder(sonufy.autoencoder(test_img))[0], sonufy.autoencoder.encoder(sonufy.autoencoder(test_img2))[0]])\n",
    "plt.figure(figsize=(20,5))\n",
    "plt.imshow(concat_img_compare, aspect=8)"
   ]
  },
  {
   "cell_type": "markdown",
   "id": "36afe3e0",
   "metadata": {},
   "source": [
    "Look at the scale of each feature in the encoded space. Needs to be scaled which is what is happening later on."
   ]
  },
  {
   "cell_type": "code",
   "execution_count": 374,
   "id": "329bbd51",
   "metadata": {},
   "outputs": [
    {
     "data": {
      "text/plain": [
       "0     -2.159883\n",
       "1      2.124318\n",
       "2      0.064922\n",
       "3      2.451025\n",
       "4     -3.938225\n",
       "         ...   \n",
       "123   -4.000001\n",
       "124   -1.224287\n",
       "125    2.302783\n",
       "126   -4.562623\n",
       "127    2.428912\n",
       "Length: 128, dtype: float32"
      ]
     },
     "execution_count": 374,
     "metadata": {},
     "output_type": "execute_result"
    }
   ],
   "source": [
    "pd.Series(np.array(sonufy.autoencoder.encoder(test_img)[0]).reshape(-1))"
   ]
  },
  {
   "cell_type": "code",
   "execution_count": 375,
   "id": "9b848d1d",
   "metadata": {},
   "outputs": [
    {
     "data": {
      "text/plain": [
       "(128,)"
      ]
     },
     "execution_count": 375,
     "metadata": {},
     "output_type": "execute_result"
    }
   ],
   "source": [
    "concat_img_compare[0].shape"
   ]
  },
  {
   "cell_type": "markdown",
   "id": "6279afda",
   "metadata": {},
   "source": [
    "heat map cosine similarity between encoded images for entire batch vs batch"
   ]
  },
  {
   "cell_type": "code",
   "execution_count": 376,
   "id": "54d733fc",
   "metadata": {},
   "outputs": [
    {
     "data": {
      "image/png": "[encoded data removed]",
      "text/plain": [
       "<Figure size 720x720 with 2 Axes>"
      ]
     },
     "metadata": {
      "needs_background": "light"
     },
     "output_type": "display_data"
    }
   ],
   "source": [
    "from sklearn.metrics.pairwise import cosine_similarity\n",
    "\n",
    "plt.figure(figsize=(10,10))\n",
    "plt.imshow(cosine_similarity(sonufy.autoencoder.encoder(test_img), sonufy.autoencoder.encoder(test_img2)), cmap='magma')\n",
    "plt.xticks(ticks=range(32))\n",
    "plt.yticks(ticks=range(32))\n",
    "plt.colorbar()\n",
    "plt.show()"
   ]
  },
  {
   "cell_type": "markdown",
   "id": "76741d7c",
   "metadata": {},
   "source": [
    "cosine similarity between mean and the entire batch of the second image."
   ]
  },
  {
   "cell_type": "code",
   "execution_count": 377,
   "id": "86b31ba5",
   "metadata": {},
   "outputs": [
    {
     "data": {
      "image/png": "[encoded data removed]",
      "text/plain": [
       "<Figure size 720x720 with 1 Axes>"
      ]
     },
     "metadata": {
      "needs_background": "light"
     },
     "output_type": "display_data"
    }
   ],
   "source": [
    "plt.figure(figsize=(10,10))\n",
    "plt.imshow(cosine_similarity(np.array(sonufy.autoencoder.encoder(test_img)).mean(axis=0).reshape(1,-1), sonufy.autoencoder.encoder(test_img2)), cmap='magma')\n",
    "plt.xticks(ticks=range(32))\n",
    "plt.show()"
   ]
  },
  {
   "cell_type": "markdown",
   "id": "5ee3a6b4",
   "metadata": {},
   "source": [
    "cosine similarity between encoded space of the mean of the two images."
   ]
  },
  {
   "cell_type": "code",
   "execution_count": 378,
   "id": "8be72149",
   "metadata": {},
   "outputs": [
    {
     "data": {
      "text/plain": [
       "array([[0.91384816]], dtype=float32)"
      ]
     },
     "execution_count": 378,
     "metadata": {},
     "output_type": "execute_result"
    }
   ],
   "source": [
    "cosine_similarity(np.array(sonufy.autoencoder.encoder(test_img)).mean(axis=0).reshape(1,-1), np.array(sonufy.autoencoder.encoder(test_img2)).mean(axis=0).reshape(1,-1))\n"
   ]
  },
  {
   "cell_type": "code",
   "execution_count": 261,
   "id": "b5f7905e",
   "metadata": {},
   "outputs": [
    {
     "name": "stderr",
     "output_type": "stream",
     "text": [
      "/Users/michaelroth/miniforge3/envs/golden_env/lib/python3.9/site-packages/sklearn/base.py:450: UserWarning: X does not have valid feature names, but StandardScaler was fitted with feature names\n",
      "  warnings.warn(\n"
     ]
    }
   ],
   "source": [
    "a, b, c, d = sonufy.search_for_recommendations(query='beautiful and dangerous desmond dekker', get_time_and_freq=True)"
   ]
  },
  {
   "cell_type": "code",
   "execution_count": 116,
   "id": "aa482ae6",
   "metadata": {},
   "outputs": [
    {
     "data": {
      "text/plain": [
       "'Beautiful and Dangerous'"
      ]
     },
     "execution_count": 116,
     "metadata": {},
     "output_type": "execute_result"
    }
   ],
   "source": [
    "a['name']"
   ]
  },
  {
   "cell_type": "code",
   "execution_count": 117,
   "id": "fb5804c7",
   "metadata": {},
   "outputs": [
    {
     "data": {
      "text/html": [
       "<div>\n",
       "<style scoped>\n",
       "    .dataframe tbody tr th:only-of-type {\n",
       "        vertical-align: middle;\n",
       "    }\n",
       "\n",
       "    .dataframe tbody tr th {\n",
       "        vertical-align: top;\n",
       "    }\n",
       "\n",
       "    .dataframe thead th {\n",
       "        text-align: right;\n",
       "    }\n",
       "</style>\n",
       "<table border=\"1\" class=\"dataframe\">\n",
       "  <thead>\n",
       "    <tr style=\"text-align: right;\">\n",
       "      <th></th>\n",
       "      <th>track_name</th>\n",
       "      <th>track_uri</th>\n",
       "      <th>artist_name</th>\n",
       "      <th>similarity</th>\n",
       "      <th>track_popularity</th>\n",
       "      <th>time_similarity</th>\n",
       "      <th>frequency_similarity</th>\n",
       "    </tr>\n",
       "  </thead>\n",
       "  <tbody>\n",
       "    <tr>\n",
       "      <th>0</th>\n",
       "      <td>EAST CROYDON feat. James Maddren</td>\n",
       "      <td>spotify:track:350BnjEWhEBFeY5djjWmXq</td>\n",
       "      <td>Petter Eldh</td>\n",
       "      <td>0.521634</td>\n",
       "      <td>27</td>\n",
       "      <td>0.596679</td>\n",
       "      <td>0.503324</td>\n",
       "    </tr>\n",
       "    <tr>\n",
       "      <th>1</th>\n",
       "      <td>Southland</td>\n",
       "      <td>spotify:track:7Ib06lFizxlVPznTItb8Ca</td>\n",
       "      <td>Lindsay Lou</td>\n",
       "      <td>0.519166</td>\n",
       "      <td>39</td>\n",
       "      <td>0.720778</td>\n",
       "      <td>0.441406</td>\n",
       "    </tr>\n",
       "    <tr>\n",
       "      <th>2</th>\n",
       "      <td>Almost Fantasy</td>\n",
       "      <td>spotify:track:5lOuVGcqKeyc80RaIRs0p8</td>\n",
       "      <td>Fog Lake</td>\n",
       "      <td>0.507706</td>\n",
       "      <td>39</td>\n",
       "      <td>0.554174</td>\n",
       "      <td>0.494673</td>\n",
       "    </tr>\n",
       "    <tr>\n",
       "      <th>3</th>\n",
       "      <td>Mississippi Steamboat</td>\n",
       "      <td>spotify:track:26IxTOzwgq8Xpe1tPJw1lR</td>\n",
       "      <td>Ekoostik Hookah</td>\n",
       "      <td>0.506959</td>\n",
       "      <td>20</td>\n",
       "      <td>0.641059</td>\n",
       "      <td>0.460866</td>\n",
       "    </tr>\n",
       "    <tr>\n",
       "      <th>4</th>\n",
       "      <td>Kaçıyorum (feat. Gaye Su Akyol)</td>\n",
       "      <td>spotify:track:3yT7bm0SdnRluI4cxHPEe7</td>\n",
       "      <td>Debruit</td>\n",
       "      <td>0.496249</td>\n",
       "      <td>22</td>\n",
       "      <td>0.492604</td>\n",
       "      <td>0.504138</td>\n",
       "    </tr>\n",
       "    <tr>\n",
       "      <th>5</th>\n",
       "      <td>Drumming In Africa - Soukouss</td>\n",
       "      <td>spotify:track:5Z0Hpt4RL2o6JlCsE94kG4</td>\n",
       "      <td>Soukouss Ta: African Drums and Music</td>\n",
       "      <td>0.495554</td>\n",
       "      <td>12</td>\n",
       "      <td>0.620575</td>\n",
       "      <td>0.452950</td>\n",
       "    </tr>\n",
       "    <tr>\n",
       "      <th>6</th>\n",
       "      <td>Part 3</td>\n",
       "      <td>spotify:track:14o3h5jwg5U3Wa3mY7dOx9</td>\n",
       "      <td>Douglas Holmquist</td>\n",
       "      <td>0.494404</td>\n",
       "      <td>21</td>\n",
       "      <td>0.558606</td>\n",
       "      <td>0.472491</td>\n",
       "    </tr>\n",
       "    <tr>\n",
       "      <th>7</th>\n",
       "      <td>Back in the Goodle Days</td>\n",
       "      <td>spotify:track:0B6BeEUd6UwFlbsHMQKjob</td>\n",
       "      <td>John Hartford</td>\n",
       "      <td>0.492001</td>\n",
       "      <td>43</td>\n",
       "      <td>0.596071</td>\n",
       "      <td>0.456061</td>\n",
       "    </tr>\n",
       "    <tr>\n",
       "      <th>8</th>\n",
       "      <td>The House of the Rising Sun</td>\n",
       "      <td>spotify:track:22UqKaSfXbivrK2PDQzNJk</td>\n",
       "      <td>Pozo Seco Singers</td>\n",
       "      <td>0.474109</td>\n",
       "      <td>19</td>\n",
       "      <td>0.663367</td>\n",
       "      <td>0.399176</td>\n",
       "    </tr>\n",
       "    <tr>\n",
       "      <th>9</th>\n",
       "      <td>Life's A Little Blue</td>\n",
       "      <td>spotify:track:3Rayx79t9q4nTO2xzdO8IE</td>\n",
       "      <td>Booker Little</td>\n",
       "      <td>0.473242</td>\n",
       "      <td>16</td>\n",
       "      <td>0.683665</td>\n",
       "      <td>0.383972</td>\n",
       "    </tr>\n",
       "  </tbody>\n",
       "</table>\n",
       "</div>"
      ],
      "text/plain": [
       "                         track_name                             track_uri  \\\n",
       "0  EAST CROYDON feat. James Maddren  spotify:track:350BnjEWhEBFeY5djjWmXq   \n",
       "1                         Southland  spotify:track:7Ib06lFizxlVPznTItb8Ca   \n",
       "2                    Almost Fantasy  spotify:track:5lOuVGcqKeyc80RaIRs0p8   \n",
       "3             Mississippi Steamboat  spotify:track:26IxTOzwgq8Xpe1tPJw1lR   \n",
       "4   Kaçıyorum (feat. Gaye Su Akyol)  spotify:track:3yT7bm0SdnRluI4cxHPEe7   \n",
       "5     Drumming In Africa - Soukouss  spotify:track:5Z0Hpt4RL2o6JlCsE94kG4   \n",
       "6                            Part 3  spotify:track:14o3h5jwg5U3Wa3mY7dOx9   \n",
       "7           Back in the Goodle Days  spotify:track:0B6BeEUd6UwFlbsHMQKjob   \n",
       "8       The House of the Rising Sun  spotify:track:22UqKaSfXbivrK2PDQzNJk   \n",
       "9              Life's A Little Blue  spotify:track:3Rayx79t9q4nTO2xzdO8IE   \n",
       "\n",
       "                            artist_name  similarity  track_popularity  \\\n",
       "0                           Petter Eldh    0.521634                27   \n",
       "1                           Lindsay Lou    0.519166                39   \n",
       "2                              Fog Lake    0.507706                39   \n",
       "3                       Ekoostik Hookah    0.506959                20   \n",
       "4                               Debruit    0.496249                22   \n",
       "5  Soukouss Ta: African Drums and Music    0.495554                12   \n",
       "6                     Douglas Holmquist    0.494404                21   \n",
       "7                         John Hartford    0.492001                43   \n",
       "8                     Pozo Seco Singers    0.474109                19   \n",
       "9                         Booker Little    0.473242                16   \n",
       "\n",
       "   time_similarity  frequency_similarity  \n",
       "0         0.596679              0.503324  \n",
       "1         0.720778              0.441406  \n",
       "2         0.554174              0.494673  \n",
       "3         0.641059              0.460866  \n",
       "4         0.492604              0.504138  \n",
       "5         0.620575              0.452950  \n",
       "6         0.558606              0.472491  \n",
       "7         0.596071              0.456061  \n",
       "8         0.663367              0.399176  \n",
       "9         0.683665              0.383972  "
      ]
     },
     "execution_count": 117,
     "metadata": {},
     "output_type": "execute_result"
    }
   ],
   "source": [
    "b"
   ]
  },
  {
   "cell_type": "code",
   "execution_count": 118,
   "id": "a06caefa",
   "metadata": {},
   "outputs": [],
   "source": [
    "similarity_img = np.concatenate([np.array(d), np.array(c[sonufy.latent_cols])])"
   ]
  },
  {
   "cell_type": "code",
   "execution_count": 119,
   "id": "1ab75303",
   "metadata": {},
   "outputs": [
    {
     "data": {
      "text/plain": [
       "<matplotlib.image.AxesImage at 0x2c574a700>"
      ]
     },
     "execution_count": 119,
     "metadata": {},
     "output_type": "execute_result"
    },
    {
     "data": {
      "image/png": "[encoded data removed]",
      "text/plain": [
       "<Figure size 1440x720 with 1 Axes>"
      ]
     },
     "metadata": {
      "needs_background": "light"
     },
     "output_type": "display_data"
    }
   ],
   "source": [
    "plt.figure(figsize=(20,10))\n",
    "plt.imshow(similarity_img, aspect=5)"
   ]
  },
  {
   "cell_type": "code",
   "execution_count": 70,
   "id": "4ab9b80a",
   "metadata": {},
   "outputs": [],
   "source": [
    "from sklearn.metrics import mean_squared_error, mean_absolute_error"
   ]
  },
  {
   "cell_type": "code",
   "execution_count": 71,
   "id": "5c1f52d1",
   "metadata": {},
   "outputs": [
    {
     "data": {
      "text/plain": [
       "0.008464583422193032"
      ]
     },
     "execution_count": 71,
     "metadata": {},
     "output_type": "execute_result"
    }
   ],
   "source": [
    "mean_squared_error(test_img[0].reshape(64,64), np.array(sonufy.autoencoder(test_img)[0]).reshape(64,64))"
   ]
  },
  {
   "cell_type": "code",
   "execution_count": null,
   "id": "b72d6a02",
   "metadata": {},
   "outputs": [],
   "source": []
  }
 ],
 "metadata": {
  "kernelspec": {
   "display_name": "Python 3 (ipykernel)",
   "language": "python",
   "name": "python3"
  },
  "language_info": {
   "codemirror_mode": {
    "name": "ipython",
    "version": 3
   },
   "file_extension": ".py",
   "mimetype": "text/x-python",
   "name": "python",
   "nbconvert_exporter": "python",
   "pygments_lexer": "ipython3",
   "version": "3.9.13"
  }
 },
 "nbformat": 4,
 "nbformat_minor": 5
}

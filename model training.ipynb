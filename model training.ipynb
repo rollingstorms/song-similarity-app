{
 "cells": [
  {
   "cell_type": "code",
   "execution_count": 1,
   "id": "9018371a",
   "metadata": {},
   "outputs": [],
   "source": [
    "from src.Sonufy import *\n",
    "from src.AudioDataGenerator import AudioDataGenerator\n",
    "import matplotlib.pyplot as plt"
   ]
  },
  {
   "cell_type": "code",
   "execution_count": 2,
   "id": "77bc456a",
   "metadata": {},
   "outputs": [
    {
     "name": "stdout",
     "output_type": "stream",
     "text": [
      "Found 36926 files for prediction set\n"
     ]
    }
   ],
   "source": [
    "adg = AudioDataGenerator(batch_size=32, input_size=(64,1030), output_size=(64,64), directory='data/mels')"
   ]
  },
  {
   "cell_type": "code",
   "execution_count": 3,
   "id": "9b932cb2",
   "metadata": {},
   "outputs": [],
   "source": [
    "sonufy = Sonufy(latent_dims=128, output_size=(64,64))"
   ]
  },
  {
   "cell_type": "code",
   "execution_count": 4,
   "id": "0afa1804",
   "metadata": {},
   "outputs": [],
   "source": [
    "sonufy.build_model(filters=(16,32,64))"
   ]
  },
  {
   "cell_type": "code",
   "execution_count": 61,
   "id": "bc1fcd6d",
   "metadata": {},
   "outputs": [
    {
     "name": "stdout",
     "output_type": "stream",
     "text": [
      "Found 46572 files for training set\n",
      "Found 951 files for testing set\n",
      "Epoch 1/10\n",
      "363/363 [==============================] - 94s 257ms/step - loss: 0.0057 - val_loss: 0.0057\n",
      "Epoch 2/10\n",
      "363/363 [==============================] - 96s 264ms/step - loss: 0.0056 - val_loss: 0.0056\n",
      "Epoch 3/10\n",
      "363/363 [==============================] - 99s 271ms/step - loss: 0.0056 - val_loss: 0.0055\n",
      "Epoch 4/10\n",
      "363/363 [==============================] - 98s 271ms/step - loss: 0.0056 - val_loss: 0.0056\n",
      "Epoch 5/10\n",
      "363/363 [==============================] - 98s 269ms/step - loss: 0.0056 - val_loss: 0.0054\n",
      "Epoch 6/10\n",
      "363/363 [==============================] - 94s 260ms/step - loss: 0.0055 - val_loss: 0.0054\n",
      "Epoch 7/10\n",
      "363/363 [==============================] - 92s 253ms/step - loss: 0.0055 - val_loss: 0.0054\n",
      "Epoch 8/10\n",
      "363/363 [==============================] - 92s 253ms/step - loss: 0.0055 - val_loss: 0.0058\n",
      "Epoch 9/10\n",
      "363/363 [==============================] - 91s 249ms/step - loss: 0.0055 - val_loss: 0.0056\n",
      "Epoch 10/10\n",
      "363/363 [==============================] - 92s 254ms/step - loss: 0.0055 - val_loss: 0.0053\n"
     ]
    }
   ],
   "source": [
    "sonufy.train(mel_directory='data/mels', epochs=10, train_test_split=.02, batch_size=128)"
   ]
  },
  {
   "cell_type": "code",
   "execution_count": 62,
   "id": "fcc895e3",
   "metadata": {},
   "outputs": [
    {
     "name": "stderr",
     "output_type": "stream",
     "text": [
      "2022-09-06 15:25:04.560 WARNING absl: Found untraced functions such as _jit_compiled_convolution_op, _jit_compiled_convolution_op, _jit_compiled_convolution_op, _jit_compiled_convolution_op, _jit_compiled_convolution_op while saving (showing 5 of 6). These functions will not be directly callable after loading.\n",
      "2022-09-06 15:25:04.814 INFO    tensorflow: Assets written to: /var/folders/jy/34vkbxz97tbgm78bc07fmx380000gn/T/tmp041v5n6q/assets\n",
      "2022-09-06 15:25:05.878633: W tensorflow/compiler/mlir/lite/python/tf_tfl_flatbuffer_helpers.cc:362] Ignored output_format.\n",
      "2022-09-06 15:25:05.878842: W tensorflow/compiler/mlir/lite/python/tf_tfl_flatbuffer_helpers.cc:365] Ignored drop_control_dependency.\n",
      "2022-09-06 15:25:05.880146: I tensorflow/cc/saved_model/reader.cc:43] Reading SavedModel from: /var/folders/jy/34vkbxz97tbgm78bc07fmx380000gn/T/tmp041v5n6q\n",
      "2022-09-06 15:25:05.884114: I tensorflow/cc/saved_model/reader.cc:81] Reading meta graph with tags { serve }\n",
      "2022-09-06 15:25:05.884124: I tensorflow/cc/saved_model/reader.cc:122] Reading SavedModel debug info (if present) from: /var/folders/jy/34vkbxz97tbgm78bc07fmx380000gn/T/tmp041v5n6q\n",
      "2022-09-06 15:25:05.896713: I tensorflow/cc/saved_model/loader.cc:228] Restoring SavedModel bundle.\n",
      "2022-09-06 15:25:05.969972: I tensorflow/cc/saved_model/loader.cc:212] Running initialization op on SavedModel bundle at path: /var/folders/jy/34vkbxz97tbgm78bc07fmx380000gn/T/tmp041v5n6q\n",
      "2022-09-06 15:25:06.003433: I tensorflow/cc/saved_model/loader.cc:301] SavedModel load for tags { serve }; Status: success: OK. Took 123283 microseconds.\n"
     ]
    },
    {
     "name": "stdout",
     "output_type": "stream",
     "text": [
      "Encoder saved to \"data/test_128dim_newmels\".\n",
      "Getting predictions from autoencoder...\n",
      "[>............................................................] 127 / 48789\r"
     ]
    },
    {
     "name": "stderr",
     "output_type": "stream",
     "text": [
      "INFO: Applying 1 TensorFlow Lite delegate(s) lazily.\n"
     ]
    },
    {
     "name": "stdout",
     "output_type": "stream",
     "text": [
      "[>............................................................] 128 / 48789\r",
      "[>............................................................] 129 / 48789\r",
      "[>............................................................] 130 / 48789\r",
      "[>............................................................] 131 / 48789\r",
      "[>............................................................] 132 / 48789\r",
      "[>............................................................] 133 / 48789\r",
      "[>............................................................] 134 / 48789\r",
      "[>............................................................] 135 / 48789\r",
      "[>............................................................] 136 / 48789\r",
      "[>............................................................] 137 / 48789\r",
      "[>............................................................] 138 / 48789\r",
      "[>............................................................] 139 / 48789\r",
      "[>............................................................] 140 / 48789\r",
      "[>............................................................] 141 / 48789\r",
      "[>............................................................] 142 / 48789\r",
      "[>............................................................] 143 / 48789\r",
      "[>............................................................] 144 / 48789\r",
      "[>............................................................] 145 / 48789\r",
      "[>............................................................] 146 / 48789\r",
      "[>............................................................] 147 / 48789\r",
      "[>............................................................] 148 / 48789\r",
      "[>............................................................] 149 / 48789\r",
      "[>............................................................] 150 / 48789\r",
      "[>............................................................] 151 / 48789\r",
      "[>............................................................] 152 / 48789\r",
      "[>............................................................] 153 / 48789\r",
      "[>............................................................] 154 / 48789\r",
      "[>............................................................] 155 / 48789\r",
      "[>............................................................] 156 / 48789\r",
      "[>............................................................] 157 / 48789\r",
      "[>............................................................] 158 / 48789\r",
      "[>............................................................] 159 / 48789\r",
      "[>............................................................] 160 / 48789\r",
      "[>............................................................] 161 / 48789\r",
      "[>............................................................] 162 / 48789\r",
      "[>............................................................] 163 / 48789\r",
      "[>............................................................] 164 / 48789\r",
      "[>............................................................] 165 / 48789\r",
      "[>............................................................] 166 / 48789\r",
      "[>............................................................] 167 / 48789\r",
      "[>............................................................] 168 / 48789\r",
      "[>............................................................] 169 / 48789\r",
      "[>............................................................] 170 / 48789\r",
      "[>............................................................] 171 / 48789\r",
      "[>............................................................] 172 / 48789\r",
      "[>............................................................] 173 / 48789\r",
      "[>............................................................] 174 / 48789\r",
      "[>............................................................] 175 / 48789\r",
      "[>............................................................] 176 / 48789\r",
      "[>............................................................] 177 / 48789\r",
      "[>............................................................] 178 / 48789\r",
      "[>............................................................] 179 / 48789\r",
      "[>............................................................] 180 / 48789\r",
      "[>............................................................] 181 / 48789\r",
      "[>............................................................] 182 / 48789\r",
      "[>............................................................] 183 / 48789\r",
      "[>............................................................] 184 / 48789\r",
      "[>............................................................] 185 / 48789\r",
      "[>............................................................] 186 / 48789\r",
      "[>............................................................] 187 / 48789\r",
      "[>............................................................] 188 / 48789\r",
      "[>............................................................] 189 / 48789\r",
      "[>............................................................] 190 / 48789\r",
      "[>............................................................] 191 / 48789\r",
      "[>............................................................] 192 / 48789\r",
      "[>............................................................] 193 / 48789\r",
      "[>............................................................] 194 / 48789\r",
      "[>............................................................] 195 / 48789\r",
      "[>............................................................] 196 / 48789\r",
      "[>............................................................] 197 / 48789\r",
      "[>............................................................] 198 / 48789\r",
      "[>............................................................] 199 / 48789\r",
      "[>............................................................] 200 / 48789\r",
      "[>............................................................] 201 / 48789\r",
      "[>............................................................] 202 / 48789\r",
      "[>............................................................] 203 / 48789\r",
      "[>............................................................] 204 / 48789\r",
      "[>............................................................] 205 / 48789\r",
      "[>............................................................] 206 / 48789\r",
      "[>............................................................] 207 / 48789\r",
      "[>............................................................] 208 / 48789\r",
      "[>............................................................] 209 / 48789\r",
      "[>............................................................] 210 / 48789\r",
      "[>............................................................] 211 / 48789\r",
      "[>............................................................] 212 / 48789\r",
      "[>............................................................] 213 / 48789\r",
      "[>............................................................] 214 / 48789\r",
      "[>............................................................] 215 / 48789\r",
      "[>............................................................] 216 / 48789\r",
      "[>............................................................] 217 / 48789\r",
      "[>............................................................] 218 / 48789\r",
      "[>............................................................] 219 / 48789\r",
      "[>............................................................] 220 / 48789\r",
      "[>............................................................] 221 / 48789\r",
      "[>............................................................] 222 / 48789\r",
      "[>............................................................] 223 / 48789\r",
      "[>............................................................] 224 / 48789\r",
      "[>............................................................] 225 / 48789\r",
      "[>............................................................] 226 / 48789\r",
      "[>............................................................] 227 / 48789\r",
      "[>............................................................] 228 / 48789\r",
      "[>............................................................] 229 / 48789\r",
      "[>............................................................] 230 / 48789\r",
      "[>............................................................] 231 / 48789\r",
      "[>............................................................] 232 / 48789\r",
      "[>............................................................] 233 / 48789\r",
      "[>............................................................] 234 / 48789\r",
      "[>............................................................] 235 / 48789\r",
      "[>............................................................] 236 / 48789\r",
      "[>............................................................] 237 / 48789\r",
      "[>............................................................] 238 / 48789\r",
      "[>............................................................] 239 / 48789\r",
      "[>............................................................] 240 / 48789\r",
      "[>............................................................] 241 / 48789\r",
      "[>............................................................] 242 / 48789\r",
      "[>............................................................] 243 / 48789\r",
      "[>............................................................] 244 / 48789\r",
      "[>............................................................] 245 / 48789\r",
      "[>............................................................] 246 / 48789\r",
      "[>............................................................] 247 / 48789\r",
      "[>............................................................] 248 / 48789\r",
      "[>............................................................] 249 / 48789\r",
      "[>............................................................] 250 / 48789\r",
      "[>............................................................] 251 / 48789\r",
      "[>............................................................] 252 / 48789\r",
      "[>............................................................] 253 / 48789\r",
      "[>............................................................] 254 / 48789\r",
      "[>............................................................] 255 / 48789\r",
      "[>............................................................] 256 / 48789\r",
      "[>............................................................] 257 / 48789\r",
      "[>............................................................] 258 / 48789\r"
     ]
    },
    {
     "name": "stdout",
     "output_type": "stream",
     "text": [
      "[>............................................................] 259 / 48789\r",
      "[>............................................................] 260 / 48789\r",
      "[>............................................................] 261 / 48789\r",
      "[>............................................................] 262 / 48789\r",
      "[>............................................................] 263 / 48789\r",
      "[>............................................................] 264 / 48789\r",
      "[>............................................................] 265 / 48789\r",
      "[>............................................................] 266 / 48789\r",
      "[>............................................................] 267 / 48789\r",
      "[>............................................................] 268 / 48789\r",
      "[>............................................................] 269 / 48789\r",
      "[>............................................................] 270 / 48789\r",
      "[>............................................................] 271 / 48789\r",
      "[>............................................................] 272 / 48789\r",
      "[>............................................................] 273 / 48789\r",
      "[>............................................................] 274 / 48789\r",
      "[>............................................................] 275 / 48789\r",
      "[>............................................................] 276 / 48789\r",
      "[>............................................................] 277 / 48789\r",
      "[>............................................................] 278 / 48789\r",
      "[>............................................................] 279 / 48789\r",
      "[>............................................................] 280 / 48789\r",
      "[>............................................................] 281 / 48789\r",
      "[>............................................................] 282 / 48789\r",
      "[>............................................................] 283 / 48789\r",
      "[>............................................................] 284 / 48789\r",
      "[>............................................................] 285 / 48789\r",
      "[>............................................................] 286 / 48789\r",
      "[>............................................................] 287 / 48789\r",
      "[>............................................................] 288 / 48789\r",
      "[>............................................................] 289 / 48789\r",
      "[>............................................................] 290 / 48789\r",
      "[>............................................................] 291 / 48789\r",
      "[>............................................................] 292 / 48789\r",
      "[>............................................................] 293 / 48789\r",
      "[>............................................................] 294 / 48789\r",
      "[>............................................................] 295 / 48789\r",
      "[>............................................................] 296 / 48789\r",
      "[>............................................................] 297 / 48789\r",
      "[>............................................................] 298 / 48789\r",
      "[>............................................................] 299 / 48789\r",
      "[>............................................................] 300 / 48789\r",
      "[>............................................................] 301 / 48789\r",
      "[>............................................................] 302 / 48789\r",
      "[>............................................................] 303 / 48789\r",
      "[>............................................................] 304 / 48789\r",
      "[>............................................................] 305 / 48789\r",
      "[>............................................................] 306 / 48789\r",
      "[>............................................................] 307 / 48789\r",
      "[>............................................................] 308 / 48789\r",
      "[>............................................................] 309 / 48789\r",
      "[>............................................................] 310 / 48789\r",
      "[>............................................................] 311 / 48789\r",
      "[>............................................................] 312 / 48789\r",
      "[>............................................................] 313 / 48789\r",
      "[>............................................................] 314 / 48789\r",
      "[>............................................................] 315 / 48789\r",
      "[>............................................................] 316 / 48789\r",
      "[>............................................................] 317 / 48789\r",
      "[>............................................................] 318 / 48789\r",
      "[>............................................................] 319 / 48789\r",
      "[>............................................................] 320 / 48789\r",
      "[>............................................................] 321 / 48789\r",
      "[>............................................................] 322 / 48789\r",
      "[>............................................................] 323 / 48789\r",
      "[>............................................................] 324 / 48789\r",
      "[>............................................................] 325 / 48789\r",
      "[>............................................................] 326 / 48789\r",
      "[>............................................................] 327 / 48789\r",
      "[>............................................................] 328 / 48789\r",
      "[>............................................................] 329 / 48789\r",
      "[>............................................................] 330 / 48789\r",
      "[>............................................................] 331 / 48789\r",
      "[>............................................................] 332 / 48789\r",
      "[>............................................................] 333 / 48789\r",
      "[>............................................................] 334 / 48789\r",
      "[>............................................................] 335 / 48789\r",
      "[>............................................................] 336 / 48789\r",
      "[>............................................................] 337 / 48789\r",
      "[>............................................................] 338 / 48789\r",
      "[>............................................................] 339 / 48789\r",
      "[>............................................................] 340 / 48789\r",
      "[>............................................................] 341 / 48789\r",
      "[>............................................................] 342 / 48789\r",
      "[>............................................................] 343 / 48789\r",
      "[>............................................................] 344 / 48789\r",
      "[>............................................................] 345 / 48789\r",
      "[>............................................................] 346 / 48789\r",
      "[>............................................................] 347 / 48789\r",
      "[>............................................................] 348 / 48789\r",
      "[>............................................................] 349 / 48789\r",
      "[>............................................................] 350 / 48789\r",
      "[>............................................................] 351 / 48789\r",
      "[>............................................................] 352 / 48789\r",
      "[>............................................................] 353 / 48789\r",
      "[>............................................................] 354 / 48789\r",
      "[>............................................................] 355 / 48789\r",
      "[>............................................................] 356 / 48789\r",
      "[>............................................................] 357 / 48789\r",
      "[>............................................................] 358 / 48789\r",
      "[>............................................................] 359 / 48789\r",
      "[>............................................................] 360 / 48789\r",
      "[>............................................................] 361 / 48789\r",
      "[>............................................................] 362 / 48789\r",
      "[>............................................................] 363 / 48789\r",
      "[>............................................................] 364 / 48789\r",
      "[>............................................................] 365 / 48789\r",
      "[>............................................................] 366 / 48789\r",
      "[>............................................................] 367 / 48789\r",
      "[>............................................................] 368 / 48789\r",
      "[>............................................................] 369 / 48789\r",
      "[>............................................................] 370 / 48789\r",
      "[>............................................................] 371 / 48789\r",
      "[>............................................................] 372 / 48789\r",
      "[>............................................................] 373 / 48789\r",
      "[>............................................................] 374 / 48789\r",
      "[>............................................................] 375 / 48789\r",
      "[>............................................................] 376 / 48789\r",
      "[>............................................................] 377 / 48789\r",
      "[>............................................................] 378 / 48789\r"
     ]
    },
    {
     "name": "stdout",
     "output_type": "stream",
     "text": [
      "[============================================================>] 48789 / 48789\n",
      "\n",
      "1.36 minutes elapsed\n",
      "Building tracks dataframe...\n",
      "Track dataframe built. 0.06 minutes elapsed\n",
      "Building genre distributions...\n",
      "[============================================================>] 48789 / 48789\n",
      "\n",
      "Genre distributions built. 0.28 minutes elapsed\n",
      "Latent Space Built.\n"
     ]
    },
    {
     "name": "stderr",
     "output_type": "stream",
     "text": [
      "2022-09-06 15:26:53.064 WARNING absl: Found untraced functions such as _jit_compiled_convolution_op, _jit_compiled_convolution_op, _jit_compiled_convolution_op, _jit_compiled_convolution_op, _jit_compiled_convolution_op while saving (showing 5 of 10). These functions will not be directly callable after loading.\n",
      "2022-09-06 15:26:53.737 INFO    tensorflow: Assets written to: data/test_128dim_newmels/assets\n"
     ]
    },
    {
     "name": "stdout",
     "output_type": "stream",
     "text": [
      "Model saved to \"data/test_128dim_newmels\".\n",
      "saved full model\n"
     ]
    },
    {
     "name": "stderr",
     "output_type": "stream",
     "text": [
      "2022-09-06 15:26:54.711 WARNING absl: Found untraced functions such as _jit_compiled_convolution_op, _jit_compiled_convolution_op, _jit_compiled_convolution_op, _jit_compiled_convolution_op, _jit_compiled_convolution_op while saving (showing 5 of 6). These functions will not be directly callable after loading.\n",
      "2022-09-06 15:26:54.904 INFO    tensorflow: Assets written to: /var/folders/jy/34vkbxz97tbgm78bc07fmx380000gn/T/tmptsw8i7ox/assets\n"
     ]
    },
    {
     "name": "stdout",
     "output_type": "stream",
     "text": [
      "Encoder saved to \"data/test_128dim_newmels\".\n",
      "saved encoder\n",
      "saved database files\n",
      "Saved full model, encoder, and database files in data/test_128dim_newmels.\n"
     ]
    },
    {
     "name": "stderr",
     "output_type": "stream",
     "text": [
      "2022-09-06 15:26:55.846274: W tensorflow/compiler/mlir/lite/python/tf_tfl_flatbuffer_helpers.cc:362] Ignored output_format.\n",
      "2022-09-06 15:26:55.846316: W tensorflow/compiler/mlir/lite/python/tf_tfl_flatbuffer_helpers.cc:365] Ignored drop_control_dependency.\n",
      "2022-09-06 15:26:55.846605: I tensorflow/cc/saved_model/reader.cc:43] Reading SavedModel from: /var/folders/jy/34vkbxz97tbgm78bc07fmx380000gn/T/tmptsw8i7ox\n",
      "2022-09-06 15:26:55.850476: I tensorflow/cc/saved_model/reader.cc:81] Reading meta graph with tags { serve }\n",
      "2022-09-06 15:26:55.850490: I tensorflow/cc/saved_model/reader.cc:122] Reading SavedModel debug info (if present) from: /var/folders/jy/34vkbxz97tbgm78bc07fmx380000gn/T/tmptsw8i7ox\n",
      "2022-09-06 15:26:55.863006: I tensorflow/cc/saved_model/loader.cc:228] Restoring SavedModel bundle.\n",
      "2022-09-06 15:26:55.922042: I tensorflow/cc/saved_model/loader.cc:212] Running initialization op on SavedModel bundle at path: /var/folders/jy/34vkbxz97tbgm78bc07fmx380000gn/T/tmptsw8i7ox\n",
      "2022-09-06 15:26:55.958876: I tensorflow/cc/saved_model/loader.cc:301] SavedModel load for tags { serve }; Status: success: OK. Took 112218 microseconds.\n"
     ]
    }
   ],
   "source": [
    "sonufy.save_encoder('data/test_128dim_newmels')\n",
    "# sonufy.load_encoder('data/test_128dim_256filters')\n",
    "sonufy.build_vectors_from_model(mel_directory='data/mels', all_tracks_file='data/all_tracks_shuffled.feather')\n",
    "sonufy.save('data/test_128dim_newmels')"
   ]
  },
  {
   "cell_type": "code",
   "execution_count": 63,
   "id": "5f2c7321",
   "metadata": {},
   "outputs": [
    {
     "data": {
      "text/plain": [
       "<matplotlib.image.AxesImage at 0x2fb8805b0>"
      ]
     },
     "execution_count": 63,
     "metadata": {},
     "output_type": "execute_result"
    },
    {
     "data": {
      "image/png": "[encoded data removed]",
      "text/plain": [
       "<Figure size 432x288 with 1 Axes>"
      ]
     },
     "metadata": {
      "needs_background": "light"
     },
     "output_type": "display_data"
    }
   ],
   "source": [
    "test_img = adg.take(3)[0]\n",
    "\n",
    "plt.imshow(test_img[0], origin='lower')"
   ]
  },
  {
   "cell_type": "code",
   "execution_count": 64,
   "id": "02d542c3",
   "metadata": {},
   "outputs": [
    {
     "data": {
      "text/plain": [
       "<matplotlib.image.AxesImage at 0x2f99a10d0>"
      ]
     },
     "execution_count": 64,
     "metadata": {},
     "output_type": "execute_result"
    },
    {
     "data": {
      "image/png": "[encoded data removed]",
      "text/plain": [
       "<Figure size 432x288 with 1 Axes>"
      ]
     },
     "metadata": {
      "needs_background": "light"
     },
     "output_type": "display_data"
    }
   ],
   "source": [
    "plt.imshow(sonufy.autoencoder(test_img)[0], origin='lower')"
   ]
  },
  {
   "cell_type": "code",
   "execution_count": 65,
   "id": "b5f7905e",
   "metadata": {},
   "outputs": [
    {
     "name": "stderr",
     "output_type": "stream",
     "text": [
      "INFO: Applying 1 TensorFlow Lite delegate(s) lazily.\n",
      "/Users/michaelroth/miniforge3/envs/golden_env/lib/python3.9/site-packages/sklearn/base.py:450: UserWarning: X does not have valid feature names, but StandardScaler was fitted with feature names\n",
      "  warnings.warn(\n"
     ]
    }
   ],
   "source": [
    "a, b, c, d = sonufy.search_for_recommendations(query='otis redding', get_time_and_freq=True)"
   ]
  },
  {
   "cell_type": "code",
   "execution_count": 66,
   "id": "aa482ae6",
   "metadata": {},
   "outputs": [
    {
     "data": {
      "text/plain": [
       "\"(Sittin' On) the Dock of the Bay\""
      ]
     },
     "execution_count": 66,
     "metadata": {},
     "output_type": "execute_result"
    }
   ],
   "source": [
    "a['name']"
   ]
  },
  {
   "cell_type": "code",
   "execution_count": 67,
   "id": "fb5804c7",
   "metadata": {},
   "outputs": [
    {
     "data": {
      "text/html": [
       "<div>\n",
       "<style scoped>\n",
       "    .dataframe tbody tr th:only-of-type {\n",
       "        vertical-align: middle;\n",
       "    }\n",
       "\n",
       "    .dataframe tbody tr th {\n",
       "        vertical-align: top;\n",
       "    }\n",
       "\n",
       "    .dataframe thead th {\n",
       "        text-align: right;\n",
       "    }\n",
       "</style>\n",
       "<table border=\"1\" class=\"dataframe\">\n",
       "  <thead>\n",
       "    <tr style=\"text-align: right;\">\n",
       "      <th></th>\n",
       "      <th>track_name</th>\n",
       "      <th>track_uri</th>\n",
       "      <th>artist_name</th>\n",
       "      <th>similarity</th>\n",
       "      <th>track_popularity</th>\n",
       "      <th>time_similarity</th>\n",
       "      <th>frequency_similarity</th>\n",
       "    </tr>\n",
       "  </thead>\n",
       "  <tbody>\n",
       "    <tr>\n",
       "      <th>0</th>\n",
       "      <td>Godnatsangen - nu er dagen igen forbi</td>\n",
       "      <td>spotify:track:00Bc1ksconCAfnRGjCkU36</td>\n",
       "      <td>Povl Kjøller</td>\n",
       "      <td>0.728898</td>\n",
       "      <td>16</td>\n",
       "      <td>0.775793</td>\n",
       "      <td>0.707526</td>\n",
       "    </tr>\n",
       "    <tr>\n",
       "      <th>1</th>\n",
       "      <td>Saving Words For Making Sense</td>\n",
       "      <td>spotify:track:1t71mp3aGnBhxYj6hsjLER</td>\n",
       "      <td>The Six Parts Seven</td>\n",
       "      <td>0.709825</td>\n",
       "      <td>29</td>\n",
       "      <td>0.702697</td>\n",
       "      <td>0.740921</td>\n",
       "    </tr>\n",
       "    <tr>\n",
       "      <th>2</th>\n",
       "      <td>Waste (Dave Matthews, solo)</td>\n",
       "      <td>spotify:track:77tdraaU0kGmwqEzBGVhhN</td>\n",
       "      <td>Dave Matthews</td>\n",
       "      <td>0.690904</td>\n",
       "      <td>44</td>\n",
       "      <td>0.611824</td>\n",
       "      <td>0.740123</td>\n",
       "    </tr>\n",
       "    <tr>\n",
       "      <th>3</th>\n",
       "      <td>Whisper In Her Ear</td>\n",
       "      <td>spotify:track:5YuHMfznSrE6qsKGQzcAnO</td>\n",
       "      <td>The Milk Carton Kids</td>\n",
       "      <td>0.680470</td>\n",
       "      <td>46</td>\n",
       "      <td>0.715741</td>\n",
       "      <td>0.665280</td>\n",
       "    </tr>\n",
       "    <tr>\n",
       "      <th>4</th>\n",
       "      <td>Afternoon Cha Cha</td>\n",
       "      <td>spotify:track:1kPuH7qlVupIVlwY5y6xIN</td>\n",
       "      <td>Young &amp; Rollins</td>\n",
       "      <td>0.679236</td>\n",
       "      <td>15</td>\n",
       "      <td>0.715538</td>\n",
       "      <td>0.714935</td>\n",
       "    </tr>\n",
       "    <tr>\n",
       "      <th>5</th>\n",
       "      <td>Whatevershebringswesing - 1999 Remaster</td>\n",
       "      <td>spotify:track:0p134il4SQJBuuxc8VOjop</td>\n",
       "      <td>Kevin Ayers</td>\n",
       "      <td>0.676427</td>\n",
       "      <td>30</td>\n",
       "      <td>0.582479</td>\n",
       "      <td>0.739618</td>\n",
       "    </tr>\n",
       "    <tr>\n",
       "      <th>6</th>\n",
       "      <td>Aerial Bounds</td>\n",
       "      <td>spotify:track:430QSKg3CErr6IgT14bhOy</td>\n",
       "      <td>Berdon Kirksaether</td>\n",
       "      <td>0.672587</td>\n",
       "      <td>24</td>\n",
       "      <td>0.574469</td>\n",
       "      <td>0.740749</td>\n",
       "    </tr>\n",
       "    <tr>\n",
       "      <th>7</th>\n",
       "      <td>Hujedamig sånt barn han var</td>\n",
       "      <td>spotify:track:5CjshrRlnEnF9GCjUghFLZ</td>\n",
       "      <td>Stefan Sundström</td>\n",
       "      <td>0.670641</td>\n",
       "      <td>19</td>\n",
       "      <td>0.568467</td>\n",
       "      <td>0.715828</td>\n",
       "    </tr>\n",
       "    <tr>\n",
       "      <th>8</th>\n",
       "      <td>Momo's</td>\n",
       "      <td>spotify:track:6sZQyx63X4cUvXV7Uw1YBw</td>\n",
       "      <td>Connan Mockasin</td>\n",
       "      <td>0.670487</td>\n",
       "      <td>38</td>\n",
       "      <td>0.521236</td>\n",
       "      <td>0.805782</td>\n",
       "    </tr>\n",
       "    <tr>\n",
       "      <th>9</th>\n",
       "      <td>Hot House</td>\n",
       "      <td>spotify:track:5fGTAvOMgucBP6xyPGwHza</td>\n",
       "      <td>Barry Harris</td>\n",
       "      <td>0.669654</td>\n",
       "      <td>15</td>\n",
       "      <td>0.586422</td>\n",
       "      <td>0.706842</td>\n",
       "    </tr>\n",
       "  </tbody>\n",
       "</table>\n",
       "</div>"
      ],
      "text/plain": [
       "                                track_name  \\\n",
       "0    Godnatsangen - nu er dagen igen forbi   \n",
       "1            Saving Words For Making Sense   \n",
       "2              Waste (Dave Matthews, solo)   \n",
       "3                       Whisper In Her Ear   \n",
       "4                        Afternoon Cha Cha   \n",
       "5  Whatevershebringswesing - 1999 Remaster   \n",
       "6                            Aerial Bounds   \n",
       "7              Hujedamig sånt barn han var   \n",
       "8                                   Momo's   \n",
       "9                                Hot House   \n",
       "\n",
       "                              track_uri           artist_name  similarity  \\\n",
       "0  spotify:track:00Bc1ksconCAfnRGjCkU36          Povl Kjøller    0.728898   \n",
       "1  spotify:track:1t71mp3aGnBhxYj6hsjLER   The Six Parts Seven    0.709825   \n",
       "2  spotify:track:77tdraaU0kGmwqEzBGVhhN         Dave Matthews    0.690904   \n",
       "3  spotify:track:5YuHMfznSrE6qsKGQzcAnO  The Milk Carton Kids    0.680470   \n",
       "4  spotify:track:1kPuH7qlVupIVlwY5y6xIN       Young & Rollins    0.679236   \n",
       "5  spotify:track:0p134il4SQJBuuxc8VOjop           Kevin Ayers    0.676427   \n",
       "6  spotify:track:430QSKg3CErr6IgT14bhOy    Berdon Kirksaether    0.672587   \n",
       "7  spotify:track:5CjshrRlnEnF9GCjUghFLZ      Stefan Sundström    0.670641   \n",
       "8  spotify:track:6sZQyx63X4cUvXV7Uw1YBw       Connan Mockasin    0.670487   \n",
       "9  spotify:track:5fGTAvOMgucBP6xyPGwHza          Barry Harris    0.669654   \n",
       "\n",
       "   track_popularity  time_similarity  frequency_similarity  \n",
       "0                16         0.775793              0.707526  \n",
       "1                29         0.702697              0.740921  \n",
       "2                44         0.611824              0.740123  \n",
       "3                46         0.715741              0.665280  \n",
       "4                15         0.715538              0.714935  \n",
       "5                30         0.582479              0.739618  \n",
       "6                24         0.574469              0.740749  \n",
       "7                19         0.568467              0.715828  \n",
       "8                38         0.521236              0.805782  \n",
       "9                15         0.586422              0.706842  "
      ]
     },
     "execution_count": 67,
     "metadata": {},
     "output_type": "execute_result"
    }
   ],
   "source": [
    "b"
   ]
  },
  {
   "cell_type": "code",
   "execution_count": 68,
   "id": "a06caefa",
   "metadata": {},
   "outputs": [],
   "source": [
    "similarity_img = np.concatenate([np.array(d), np.array(c[sonufy.latent_cols])])"
   ]
  },
  {
   "cell_type": "code",
   "execution_count": 69,
   "id": "1ab75303",
   "metadata": {},
   "outputs": [
    {
     "data": {
      "text/plain": [
       "<matplotlib.image.AxesImage at 0x2f9394fd0>"
      ]
     },
     "execution_count": 69,
     "metadata": {},
     "output_type": "execute_result"
    },
    {
     "data": {
      "image/png": "[encoded data removed]",
      "text/plain": [
       "<Figure size 1440x720 with 1 Axes>"
      ]
     },
     "metadata": {
      "needs_background": "light"
     },
     "output_type": "display_data"
    }
   ],
   "source": [
    "plt.figure(figsize=(20,10))\n",
    "plt.imshow(similarity_img, aspect=5)"
   ]
  },
  {
   "cell_type": "code",
   "execution_count": 70,
   "id": "990c839c",
   "metadata": {},
   "outputs": [],
   "source": [
    "from sklearn.metrics import mean_squared_error, mean_absolute_error"
   ]
  },
  {
   "cell_type": "code",
   "execution_count": 71,
   "id": "bb59e5a3",
   "metadata": {},
   "outputs": [
    {
     "data": {
      "text/plain": [
       "0.008464583422193032"
      ]
     },
     "execution_count": 71,
     "metadata": {},
     "output_type": "execute_result"
    }
   ],
   "source": [
    "mean_squared_error(test_img[0].reshape(64,64), np.array(sonufy.autoencoder(test_img)[0]).reshape(64,64))"
   ]
  },
  {
   "cell_type": "code",
   "execution_count": null,
   "id": "f3239b25",
   "metadata": {},
   "outputs": [],
   "source": []
  }
 ],
 "metadata": {
  "kernelspec": {
   "display_name": "Python 3 (ipykernel)",
   "language": "python",
   "name": "python3"
  },
  "language_info": {
   "codemirror_mode": {
    "name": "ipython",
    "version": 3
   },
   "file_extension": ".py",
   "mimetype": "text/x-python",
   "name": "python",
   "nbconvert_exporter": "python",
   "pygments_lexer": "ipython3",
   "version": "3.9.13"
  }
 },
 "nbformat": 4,
 "nbformat_minor": 5
}

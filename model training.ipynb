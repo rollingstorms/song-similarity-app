{
 "cells": [
  {
   "cell_type": "code",
   "execution_count": 1,
   "id": "9018371a",
   "metadata": {},
   "outputs": [],
   "source": [
    "from src.Sonufy import *\n",
    "from src.AudioDataGenerator import AudioDataGenerator\n",
    "import matplotlib.pyplot as plt"
   ]
  },
  {
   "cell_type": "code",
   "execution_count": 2,
   "id": "77bc456a",
   "metadata": {},
   "outputs": [
    {
     "name": "stdout",
     "output_type": "stream",
     "text": [
      "Found 131278 files for prediction set\n"
     ]
    }
   ],
   "source": [
    "adg = AudioDataGenerator(batch_size=32, input_size=(64,1030), output_size=(64,64), directory='data/mels', shorten_factor=2)"
   ]
  },
  {
   "cell_type": "code",
   "execution_count": 3,
   "id": "9b932cb2",
   "metadata": {},
   "outputs": [],
   "source": [
    "sonufy = Sonufy(latent_dims=64, output_size=(64,64), final_shorten_factor=2)"
   ]
  },
  {
   "cell_type": "code",
   "execution_count": 4,
   "id": "0afa1804",
   "metadata": {},
   "outputs": [],
   "source": [
    "sonufy.build_model(filters=(16,32,64,256,512))"
   ]
  },
  {
   "cell_type": "code",
   "execution_count": 11,
   "id": "bc1fcd6d",
   "metadata": {},
   "outputs": [
    {
     "name": "stdout",
     "output_type": "stream",
     "text": [
      "Found 98000 files for training set\n",
      "Found 2000 files for testing set\n",
      "Epoch 1/10\n",
      "765/765 [==============================] - 270s 351ms/step - loss: 0.0059 - val_loss: 0.0058\n",
      "Epoch 2/10\n",
      "765/765 [==============================] - 263s 344ms/step - loss: 0.0058 - val_loss: 0.0057\n",
      "Epoch 3/10\n",
      "765/765 [==============================] - 257s 335ms/step - loss: 0.0056 - val_loss: 0.0057\n",
      "Epoch 4/10\n",
      "531/765 [===================>..........] - ETA: 1:18 - loss: 0.0056"
     ]
    },
    {
     "ename": "KeyboardInterrupt",
     "evalue": "",
     "output_type": "error",
     "traceback": [
      "\u001b[0;31m---------------------------------------------------------------------------\u001b[0m",
      "\u001b[0;31mKeyboardInterrupt\u001b[0m                         Traceback (most recent call last)",
      "Input \u001b[0;32mIn [11]\u001b[0m, in \u001b[0;36m<cell line: 1>\u001b[0;34m()\u001b[0m\n\u001b[0;32m----> 1\u001b[0m \u001b[43msonufy\u001b[49m\u001b[38;5;241;43m.\u001b[39;49m\u001b[43mtrain\u001b[49m\u001b[43m(\u001b[49m\u001b[43mmel_directory\u001b[49m\u001b[38;5;241;43m=\u001b[39;49m\u001b[38;5;124;43m'\u001b[39;49m\u001b[38;5;124;43mdata/mels\u001b[39;49m\u001b[38;5;124;43m'\u001b[39;49m\u001b[43m,\u001b[49m\u001b[43m \u001b[49m\u001b[43mepochs\u001b[49m\u001b[38;5;241;43m=\u001b[39;49m\u001b[38;5;241;43m10\u001b[39;49m\u001b[43m,\u001b[49m\u001b[43m \u001b[49m\u001b[43mtrain_test_split\u001b[49m\u001b[38;5;241;43m=\u001b[39;49m\u001b[38;5;241;43m.02\u001b[39;49m\u001b[43m,\u001b[49m\u001b[43m \u001b[49m\u001b[43mbatch_size\u001b[49m\u001b[38;5;241;43m=\u001b[39;49m\u001b[38;5;241;43m128\u001b[39;49m\u001b[43m,\u001b[49m\u001b[43m \u001b[49m\u001b[43msample_size\u001b[49m\u001b[38;5;241;43m=\u001b[39;49m\u001b[38;5;241;43m100000\u001b[39;49m\u001b[43m)\u001b[49m\n",
      "File \u001b[0;32m~/Documents/Flatiron/Projects/song-similarity-app/src/Sonufy.py:428\u001b[0m, in \u001b[0;36mSonufy.train\u001b[0;34m(self, mel_directory, epochs, train_test_split, sample_size, batch_size)\u001b[0m\n\u001b[1;32m    425\u001b[0m \u001b[38;5;28mself\u001b[39m\u001b[38;5;241m.\u001b[39mtrain_test_generator \u001b[38;5;241m=\u001b[39m AudioDataGenerator(batch_size\u001b[38;5;241m=\u001b[39mbatch_size, input_size\u001b[38;5;241m=\u001b[39minput_size, output_size\u001b[38;5;241m=\u001b[39m(\u001b[38;5;28mself\u001b[39m\u001b[38;5;241m.\u001b[39mimage_height, \u001b[38;5;28mself\u001b[39m\u001b[38;5;241m.\u001b[39mimage_width), directory\u001b[38;5;241m=\u001b[39mmel_directory, shuffle\u001b[38;5;241m=\u001b[39m\u001b[38;5;28;01mTrue\u001b[39;00m, train_test_split\u001b[38;5;241m=\u001b[39m\u001b[38;5;28;01mTrue\u001b[39;00m, test_size\u001b[38;5;241m=\u001b[39mtrain_test_split, sample_size\u001b[38;5;241m=\u001b[39msample_size, shorten_factor\u001b[38;5;241m=\u001b[39m\u001b[38;5;28mself\u001b[39m\u001b[38;5;241m.\u001b[39mfinal_shorten_factor)\n\u001b[1;32m    427\u001b[0m \u001b[38;5;66;03m#train\u001b[39;00m\n\u001b[0;32m--> 428\u001b[0m \u001b[38;5;28mself\u001b[39m\u001b[38;5;241m.\u001b[39mhistory_ \u001b[38;5;241m=\u001b[39m \u001b[38;5;28;43mself\u001b[39;49m\u001b[38;5;241;43m.\u001b[39;49m\u001b[43mautoencoder\u001b[49m\u001b[38;5;241;43m.\u001b[39;49m\u001b[43mfit\u001b[49m\u001b[43m(\u001b[49m\u001b[38;5;28;43mself\u001b[39;49m\u001b[38;5;241;43m.\u001b[39;49m\u001b[43mtrain_test_generator\u001b[49m\u001b[38;5;241;43m.\u001b[39;49m\u001b[43mtrain\u001b[49m\u001b[43m,\u001b[49m\n\u001b[1;32m    429\u001b[0m \u001b[43m               \u001b[49m\u001b[43mbatch_size\u001b[49m\u001b[38;5;241;43m=\u001b[39;49m\u001b[43mbatch_size\u001b[49m\u001b[43m,\u001b[49m\n\u001b[1;32m    430\u001b[0m \u001b[43m               \u001b[49m\u001b[43mepochs\u001b[49m\u001b[38;5;241;43m=\u001b[39;49m\u001b[43mepochs\u001b[49m\u001b[43m,\u001b[49m\n\u001b[1;32m    431\u001b[0m \u001b[43m               \u001b[49m\u001b[43mvalidation_data\u001b[49m\u001b[38;5;241;43m=\u001b[39;49m\u001b[38;5;28;43mself\u001b[39;49m\u001b[38;5;241;43m.\u001b[39;49m\u001b[43mtrain_test_generator\u001b[49m\u001b[38;5;241;43m.\u001b[39;49m\u001b[43mtest\u001b[49m\u001b[43m)\u001b[49m\n",
      "File \u001b[0;32m~/miniforge3/envs/golden_env/lib/python3.9/site-packages/keras/utils/traceback_utils.py:64\u001b[0m, in \u001b[0;36mfilter_traceback.<locals>.error_handler\u001b[0;34m(*args, **kwargs)\u001b[0m\n\u001b[1;32m     62\u001b[0m filtered_tb \u001b[38;5;241m=\u001b[39m \u001b[38;5;28;01mNone\u001b[39;00m\n\u001b[1;32m     63\u001b[0m \u001b[38;5;28;01mtry\u001b[39;00m:\n\u001b[0;32m---> 64\u001b[0m   \u001b[38;5;28;01mreturn\u001b[39;00m \u001b[43mfn\u001b[49m\u001b[43m(\u001b[49m\u001b[38;5;241;43m*\u001b[39;49m\u001b[43margs\u001b[49m\u001b[43m,\u001b[49m\u001b[43m \u001b[49m\u001b[38;5;241;43m*\u001b[39;49m\u001b[38;5;241;43m*\u001b[39;49m\u001b[43mkwargs\u001b[49m\u001b[43m)\u001b[49m\n\u001b[1;32m     65\u001b[0m \u001b[38;5;28;01mexcept\u001b[39;00m \u001b[38;5;167;01mException\u001b[39;00m \u001b[38;5;28;01mas\u001b[39;00m e:  \u001b[38;5;66;03m# pylint: disable=broad-except\u001b[39;00m\n\u001b[1;32m     66\u001b[0m   filtered_tb \u001b[38;5;241m=\u001b[39m _process_traceback_frames(e\u001b[38;5;241m.\u001b[39m__traceback__)\n",
      "File \u001b[0;32m~/miniforge3/envs/golden_env/lib/python3.9/site-packages/keras/engine/training.py:1409\u001b[0m, in \u001b[0;36mModel.fit\u001b[0;34m(self, x, y, batch_size, epochs, verbose, callbacks, validation_split, validation_data, shuffle, class_weight, sample_weight, initial_epoch, steps_per_epoch, validation_steps, validation_batch_size, validation_freq, max_queue_size, workers, use_multiprocessing)\u001b[0m\n\u001b[1;32m   1402\u001b[0m \u001b[38;5;28;01mwith\u001b[39;00m tf\u001b[38;5;241m.\u001b[39mprofiler\u001b[38;5;241m.\u001b[39mexperimental\u001b[38;5;241m.\u001b[39mTrace(\n\u001b[1;32m   1403\u001b[0m     \u001b[38;5;124m'\u001b[39m\u001b[38;5;124mtrain\u001b[39m\u001b[38;5;124m'\u001b[39m,\n\u001b[1;32m   1404\u001b[0m     epoch_num\u001b[38;5;241m=\u001b[39mepoch,\n\u001b[1;32m   1405\u001b[0m     step_num\u001b[38;5;241m=\u001b[39mstep,\n\u001b[1;32m   1406\u001b[0m     batch_size\u001b[38;5;241m=\u001b[39mbatch_size,\n\u001b[1;32m   1407\u001b[0m     _r\u001b[38;5;241m=\u001b[39m\u001b[38;5;241m1\u001b[39m):\n\u001b[1;32m   1408\u001b[0m   callbacks\u001b[38;5;241m.\u001b[39mon_train_batch_begin(step)\n\u001b[0;32m-> 1409\u001b[0m   tmp_logs \u001b[38;5;241m=\u001b[39m \u001b[38;5;28;43mself\u001b[39;49m\u001b[38;5;241;43m.\u001b[39;49m\u001b[43mtrain_function\u001b[49m\u001b[43m(\u001b[49m\u001b[43miterator\u001b[49m\u001b[43m)\u001b[49m\n\u001b[1;32m   1410\u001b[0m   \u001b[38;5;28;01mif\u001b[39;00m data_handler\u001b[38;5;241m.\u001b[39mshould_sync:\n\u001b[1;32m   1411\u001b[0m     context\u001b[38;5;241m.\u001b[39masync_wait()\n",
      "File \u001b[0;32m~/miniforge3/envs/golden_env/lib/python3.9/site-packages/tensorflow/python/util/traceback_utils.py:150\u001b[0m, in \u001b[0;36mfilter_traceback.<locals>.error_handler\u001b[0;34m(*args, **kwargs)\u001b[0m\n\u001b[1;32m    148\u001b[0m filtered_tb \u001b[38;5;241m=\u001b[39m \u001b[38;5;28;01mNone\u001b[39;00m\n\u001b[1;32m    149\u001b[0m \u001b[38;5;28;01mtry\u001b[39;00m:\n\u001b[0;32m--> 150\u001b[0m   \u001b[38;5;28;01mreturn\u001b[39;00m \u001b[43mfn\u001b[49m\u001b[43m(\u001b[49m\u001b[38;5;241;43m*\u001b[39;49m\u001b[43margs\u001b[49m\u001b[43m,\u001b[49m\u001b[43m \u001b[49m\u001b[38;5;241;43m*\u001b[39;49m\u001b[38;5;241;43m*\u001b[39;49m\u001b[43mkwargs\u001b[49m\u001b[43m)\u001b[49m\n\u001b[1;32m    151\u001b[0m \u001b[38;5;28;01mexcept\u001b[39;00m \u001b[38;5;167;01mException\u001b[39;00m \u001b[38;5;28;01mas\u001b[39;00m e:\n\u001b[1;32m    152\u001b[0m   filtered_tb \u001b[38;5;241m=\u001b[39m _process_traceback_frames(e\u001b[38;5;241m.\u001b[39m__traceback__)\n",
      "File \u001b[0;32m~/miniforge3/envs/golden_env/lib/python3.9/site-packages/tensorflow/python/eager/def_function.py:915\u001b[0m, in \u001b[0;36mFunction.__call__\u001b[0;34m(self, *args, **kwds)\u001b[0m\n\u001b[1;32m    912\u001b[0m compiler \u001b[38;5;241m=\u001b[39m \u001b[38;5;124m\"\u001b[39m\u001b[38;5;124mxla\u001b[39m\u001b[38;5;124m\"\u001b[39m \u001b[38;5;28;01mif\u001b[39;00m \u001b[38;5;28mself\u001b[39m\u001b[38;5;241m.\u001b[39m_jit_compile \u001b[38;5;28;01melse\u001b[39;00m \u001b[38;5;124m\"\u001b[39m\u001b[38;5;124mnonXla\u001b[39m\u001b[38;5;124m\"\u001b[39m\n\u001b[1;32m    914\u001b[0m \u001b[38;5;28;01mwith\u001b[39;00m OptionalXlaContext(\u001b[38;5;28mself\u001b[39m\u001b[38;5;241m.\u001b[39m_jit_compile):\n\u001b[0;32m--> 915\u001b[0m   result \u001b[38;5;241m=\u001b[39m \u001b[38;5;28;43mself\u001b[39;49m\u001b[38;5;241;43m.\u001b[39;49m\u001b[43m_call\u001b[49m\u001b[43m(\u001b[49m\u001b[38;5;241;43m*\u001b[39;49m\u001b[43margs\u001b[49m\u001b[43m,\u001b[49m\u001b[43m \u001b[49m\u001b[38;5;241;43m*\u001b[39;49m\u001b[38;5;241;43m*\u001b[39;49m\u001b[43mkwds\u001b[49m\u001b[43m)\u001b[49m\n\u001b[1;32m    917\u001b[0m new_tracing_count \u001b[38;5;241m=\u001b[39m \u001b[38;5;28mself\u001b[39m\u001b[38;5;241m.\u001b[39mexperimental_get_tracing_count()\n\u001b[1;32m    918\u001b[0m without_tracing \u001b[38;5;241m=\u001b[39m (tracing_count \u001b[38;5;241m==\u001b[39m new_tracing_count)\n",
      "File \u001b[0;32m~/miniforge3/envs/golden_env/lib/python3.9/site-packages/tensorflow/python/eager/def_function.py:947\u001b[0m, in \u001b[0;36mFunction._call\u001b[0;34m(self, *args, **kwds)\u001b[0m\n\u001b[1;32m    944\u001b[0m   \u001b[38;5;28mself\u001b[39m\u001b[38;5;241m.\u001b[39m_lock\u001b[38;5;241m.\u001b[39mrelease()\n\u001b[1;32m    945\u001b[0m   \u001b[38;5;66;03m# In this case we have created variables on the first call, so we run the\u001b[39;00m\n\u001b[1;32m    946\u001b[0m   \u001b[38;5;66;03m# defunned version which is guaranteed to never create variables.\u001b[39;00m\n\u001b[0;32m--> 947\u001b[0m   \u001b[38;5;28;01mreturn\u001b[39;00m \u001b[38;5;28;43mself\u001b[39;49m\u001b[38;5;241;43m.\u001b[39;49m\u001b[43m_stateless_fn\u001b[49m\u001b[43m(\u001b[49m\u001b[38;5;241;43m*\u001b[39;49m\u001b[43margs\u001b[49m\u001b[43m,\u001b[49m\u001b[43m \u001b[49m\u001b[38;5;241;43m*\u001b[39;49m\u001b[38;5;241;43m*\u001b[39;49m\u001b[43mkwds\u001b[49m\u001b[43m)\u001b[49m  \u001b[38;5;66;03m# pylint: disable=not-callable\u001b[39;00m\n\u001b[1;32m    948\u001b[0m \u001b[38;5;28;01melif\u001b[39;00m \u001b[38;5;28mself\u001b[39m\u001b[38;5;241m.\u001b[39m_stateful_fn \u001b[38;5;129;01mis\u001b[39;00m \u001b[38;5;129;01mnot\u001b[39;00m \u001b[38;5;28;01mNone\u001b[39;00m:\n\u001b[1;32m    949\u001b[0m   \u001b[38;5;66;03m# Release the lock early so that multiple threads can perform the call\u001b[39;00m\n\u001b[1;32m    950\u001b[0m   \u001b[38;5;66;03m# in parallel.\u001b[39;00m\n\u001b[1;32m    951\u001b[0m   \u001b[38;5;28mself\u001b[39m\u001b[38;5;241m.\u001b[39m_lock\u001b[38;5;241m.\u001b[39mrelease()\n",
      "File \u001b[0;32m~/miniforge3/envs/golden_env/lib/python3.9/site-packages/tensorflow/python/eager/function.py:2453\u001b[0m, in \u001b[0;36mFunction.__call__\u001b[0;34m(self, *args, **kwargs)\u001b[0m\n\u001b[1;32m   2450\u001b[0m \u001b[38;5;28;01mwith\u001b[39;00m \u001b[38;5;28mself\u001b[39m\u001b[38;5;241m.\u001b[39m_lock:\n\u001b[1;32m   2451\u001b[0m   (graph_function,\n\u001b[1;32m   2452\u001b[0m    filtered_flat_args) \u001b[38;5;241m=\u001b[39m \u001b[38;5;28mself\u001b[39m\u001b[38;5;241m.\u001b[39m_maybe_define_function(args, kwargs)\n\u001b[0;32m-> 2453\u001b[0m \u001b[38;5;28;01mreturn\u001b[39;00m \u001b[43mgraph_function\u001b[49m\u001b[38;5;241;43m.\u001b[39;49m\u001b[43m_call_flat\u001b[49m\u001b[43m(\u001b[49m\n\u001b[1;32m   2454\u001b[0m \u001b[43m    \u001b[49m\u001b[43mfiltered_flat_args\u001b[49m\u001b[43m,\u001b[49m\u001b[43m \u001b[49m\u001b[43mcaptured_inputs\u001b[49m\u001b[38;5;241;43m=\u001b[39;49m\u001b[43mgraph_function\u001b[49m\u001b[38;5;241;43m.\u001b[39;49m\u001b[43mcaptured_inputs\u001b[49m\u001b[43m)\u001b[49m\n",
      "File \u001b[0;32m~/miniforge3/envs/golden_env/lib/python3.9/site-packages/tensorflow/python/eager/function.py:1860\u001b[0m, in \u001b[0;36mConcreteFunction._call_flat\u001b[0;34m(self, args, captured_inputs, cancellation_manager)\u001b[0m\n\u001b[1;32m   1856\u001b[0m possible_gradient_type \u001b[38;5;241m=\u001b[39m gradients_util\u001b[38;5;241m.\u001b[39mPossibleTapeGradientTypes(args)\n\u001b[1;32m   1857\u001b[0m \u001b[38;5;28;01mif\u001b[39;00m (possible_gradient_type \u001b[38;5;241m==\u001b[39m gradients_util\u001b[38;5;241m.\u001b[39mPOSSIBLE_GRADIENT_TYPES_NONE\n\u001b[1;32m   1858\u001b[0m     \u001b[38;5;129;01mand\u001b[39;00m executing_eagerly):\n\u001b[1;32m   1859\u001b[0m   \u001b[38;5;66;03m# No tape is watching; skip to running the function.\u001b[39;00m\n\u001b[0;32m-> 1860\u001b[0m   \u001b[38;5;28;01mreturn\u001b[39;00m \u001b[38;5;28mself\u001b[39m\u001b[38;5;241m.\u001b[39m_build_call_outputs(\u001b[38;5;28;43mself\u001b[39;49m\u001b[38;5;241;43m.\u001b[39;49m\u001b[43m_inference_function\u001b[49m\u001b[38;5;241;43m.\u001b[39;49m\u001b[43mcall\u001b[49m\u001b[43m(\u001b[49m\n\u001b[1;32m   1861\u001b[0m \u001b[43m      \u001b[49m\u001b[43mctx\u001b[49m\u001b[43m,\u001b[49m\u001b[43m \u001b[49m\u001b[43margs\u001b[49m\u001b[43m,\u001b[49m\u001b[43m \u001b[49m\u001b[43mcancellation_manager\u001b[49m\u001b[38;5;241;43m=\u001b[39;49m\u001b[43mcancellation_manager\u001b[49m\u001b[43m)\u001b[49m)\n\u001b[1;32m   1862\u001b[0m forward_backward \u001b[38;5;241m=\u001b[39m \u001b[38;5;28mself\u001b[39m\u001b[38;5;241m.\u001b[39m_select_forward_and_backward_functions(\n\u001b[1;32m   1863\u001b[0m     args,\n\u001b[1;32m   1864\u001b[0m     possible_gradient_type,\n\u001b[1;32m   1865\u001b[0m     executing_eagerly)\n\u001b[1;32m   1866\u001b[0m forward_function, args_with_tangents \u001b[38;5;241m=\u001b[39m forward_backward\u001b[38;5;241m.\u001b[39mforward()\n",
      "File \u001b[0;32m~/miniforge3/envs/golden_env/lib/python3.9/site-packages/tensorflow/python/eager/function.py:497\u001b[0m, in \u001b[0;36m_EagerDefinedFunction.call\u001b[0;34m(self, ctx, args, cancellation_manager)\u001b[0m\n\u001b[1;32m    495\u001b[0m \u001b[38;5;28;01mwith\u001b[39;00m _InterpolateFunctionError(\u001b[38;5;28mself\u001b[39m):\n\u001b[1;32m    496\u001b[0m   \u001b[38;5;28;01mif\u001b[39;00m cancellation_manager \u001b[38;5;129;01mis\u001b[39;00m \u001b[38;5;28;01mNone\u001b[39;00m:\n\u001b[0;32m--> 497\u001b[0m     outputs \u001b[38;5;241m=\u001b[39m \u001b[43mexecute\u001b[49m\u001b[38;5;241;43m.\u001b[39;49m\u001b[43mexecute\u001b[49m\u001b[43m(\u001b[49m\n\u001b[1;32m    498\u001b[0m \u001b[43m        \u001b[49m\u001b[38;5;28;43mstr\u001b[39;49m\u001b[43m(\u001b[49m\u001b[38;5;28;43mself\u001b[39;49m\u001b[38;5;241;43m.\u001b[39;49m\u001b[43msignature\u001b[49m\u001b[38;5;241;43m.\u001b[39;49m\u001b[43mname\u001b[49m\u001b[43m)\u001b[49m\u001b[43m,\u001b[49m\n\u001b[1;32m    499\u001b[0m \u001b[43m        \u001b[49m\u001b[43mnum_outputs\u001b[49m\u001b[38;5;241;43m=\u001b[39;49m\u001b[38;5;28;43mself\u001b[39;49m\u001b[38;5;241;43m.\u001b[39;49m\u001b[43m_num_outputs\u001b[49m\u001b[43m,\u001b[49m\n\u001b[1;32m    500\u001b[0m \u001b[43m        \u001b[49m\u001b[43minputs\u001b[49m\u001b[38;5;241;43m=\u001b[39;49m\u001b[43margs\u001b[49m\u001b[43m,\u001b[49m\n\u001b[1;32m    501\u001b[0m \u001b[43m        \u001b[49m\u001b[43mattrs\u001b[49m\u001b[38;5;241;43m=\u001b[39;49m\u001b[43mattrs\u001b[49m\u001b[43m,\u001b[49m\n\u001b[1;32m    502\u001b[0m \u001b[43m        \u001b[49m\u001b[43mctx\u001b[49m\u001b[38;5;241;43m=\u001b[39;49m\u001b[43mctx\u001b[49m\u001b[43m)\u001b[49m\n\u001b[1;32m    503\u001b[0m   \u001b[38;5;28;01melse\u001b[39;00m:\n\u001b[1;32m    504\u001b[0m     outputs \u001b[38;5;241m=\u001b[39m execute\u001b[38;5;241m.\u001b[39mexecute_with_cancellation(\n\u001b[1;32m    505\u001b[0m         \u001b[38;5;28mstr\u001b[39m(\u001b[38;5;28mself\u001b[39m\u001b[38;5;241m.\u001b[39msignature\u001b[38;5;241m.\u001b[39mname),\n\u001b[1;32m    506\u001b[0m         num_outputs\u001b[38;5;241m=\u001b[39m\u001b[38;5;28mself\u001b[39m\u001b[38;5;241m.\u001b[39m_num_outputs,\n\u001b[0;32m   (...)\u001b[0m\n\u001b[1;32m    509\u001b[0m         ctx\u001b[38;5;241m=\u001b[39mctx,\n\u001b[1;32m    510\u001b[0m         cancellation_manager\u001b[38;5;241m=\u001b[39mcancellation_manager)\n",
      "File \u001b[0;32m~/miniforge3/envs/golden_env/lib/python3.9/site-packages/tensorflow/python/eager/execute.py:54\u001b[0m, in \u001b[0;36mquick_execute\u001b[0;34m(op_name, num_outputs, inputs, attrs, ctx, name)\u001b[0m\n\u001b[1;32m     52\u001b[0m \u001b[38;5;28;01mtry\u001b[39;00m:\n\u001b[1;32m     53\u001b[0m   ctx\u001b[38;5;241m.\u001b[39mensure_initialized()\n\u001b[0;32m---> 54\u001b[0m   tensors \u001b[38;5;241m=\u001b[39m \u001b[43mpywrap_tfe\u001b[49m\u001b[38;5;241;43m.\u001b[39;49m\u001b[43mTFE_Py_Execute\u001b[49m\u001b[43m(\u001b[49m\u001b[43mctx\u001b[49m\u001b[38;5;241;43m.\u001b[39;49m\u001b[43m_handle\u001b[49m\u001b[43m,\u001b[49m\u001b[43m \u001b[49m\u001b[43mdevice_name\u001b[49m\u001b[43m,\u001b[49m\u001b[43m \u001b[49m\u001b[43mop_name\u001b[49m\u001b[43m,\u001b[49m\n\u001b[1;32m     55\u001b[0m \u001b[43m                                      \u001b[49m\u001b[43minputs\u001b[49m\u001b[43m,\u001b[49m\u001b[43m \u001b[49m\u001b[43mattrs\u001b[49m\u001b[43m,\u001b[49m\u001b[43m \u001b[49m\u001b[43mnum_outputs\u001b[49m\u001b[43m)\u001b[49m\n\u001b[1;32m     56\u001b[0m \u001b[38;5;28;01mexcept\u001b[39;00m core\u001b[38;5;241m.\u001b[39m_NotOkStatusException \u001b[38;5;28;01mas\u001b[39;00m e:\n\u001b[1;32m     57\u001b[0m   \u001b[38;5;28;01mif\u001b[39;00m name \u001b[38;5;129;01mis\u001b[39;00m \u001b[38;5;129;01mnot\u001b[39;00m \u001b[38;5;28;01mNone\u001b[39;00m:\n",
      "\u001b[0;31mKeyboardInterrupt\u001b[0m: "
     ]
    }
   ],
   "source": [
    "sonufy.train(mel_directory='data/mels', epochs=10, train_test_split=.02, batch_size=128, sample_size=100000)"
   ]
  },
  {
   "cell_type": "code",
   "execution_count": null,
   "id": "fcc895e3",
   "metadata": {},
   "outputs": [
    {
     "name": "stderr",
     "output_type": "stream",
     "text": [
      "2022-09-07 16:22:44.034 WARNING absl: Found untraced functions such as _jit_compiled_convolution_op, _jit_compiled_convolution_op, _jit_compiled_convolution_op, _jit_compiled_convolution_op, _jit_compiled_convolution_op while saving (showing 5 of 6). These functions will not be directly callable after loading.\n",
      "2022-09-07 16:22:44.248 INFO    tensorflow: Assets written to: /var/folders/jy/34vkbxz97tbgm78bc07fmx380000gn/T/tmpeg0hr930/assets\n",
      "2022-09-07 16:22:45.328832: W tensorflow/compiler/mlir/lite/python/tf_tfl_flatbuffer_helpers.cc:362] Ignored output_format.\n",
      "2022-09-07 16:22:45.328852: W tensorflow/compiler/mlir/lite/python/tf_tfl_flatbuffer_helpers.cc:365] Ignored drop_control_dependency.\n",
      "2022-09-07 16:22:45.328946: I tensorflow/cc/saved_model/reader.cc:43] Reading SavedModel from: /var/folders/jy/34vkbxz97tbgm78bc07fmx380000gn/T/tmpeg0hr930\n",
      "2022-09-07 16:22:45.332297: I tensorflow/cc/saved_model/reader.cc:81] Reading meta graph with tags { serve }\n",
      "2022-09-07 16:22:45.332310: I tensorflow/cc/saved_model/reader.cc:122] Reading SavedModel debug info (if present) from: /var/folders/jy/34vkbxz97tbgm78bc07fmx380000gn/T/tmpeg0hr930\n",
      "2022-09-07 16:22:45.344524: I tensorflow/cc/saved_model/loader.cc:228] Restoring SavedModel bundle.\n",
      "2022-09-07 16:22:45.395629: I tensorflow/cc/saved_model/loader.cc:212] Running initialization op on SavedModel bundle at path: /var/folders/jy/34vkbxz97tbgm78bc07fmx380000gn/T/tmpeg0hr930\n",
      "2022-09-07 16:22:45.417937: I tensorflow/cc/saved_model/loader.cc:301] SavedModel load for tags { serve }; Status: success: OK. Took 88988 microseconds.\n"
     ]
    },
    {
     "name": "stdout",
     "output_type": "stream",
     "text": [
      "Encoder saved to \"data/test_64dim\".\n",
      "Getting predictions from autoencoder...\n",
      "[>............................................................] 63 / 131278\r"
     ]
    },
    {
     "name": "stderr",
     "output_type": "stream",
     "text": [
      "INFO: Applying 1 TensorFlow Lite delegate(s) lazily.\n"
     ]
    },
    {
     "name": "stdout",
     "output_type": "stream",
     "text": [
      "[==========================>..................................] 57870 / 131278\r"
     ]
    }
   ],
   "source": [
    "sonufy.save_encoder('data/test_64dim')\n",
    "sonufy.build_vectors_from_model(mel_directory='data/mels', all_tracks_file='data/all_tracks_shuffled.feather')\n",
    "sonufy.save('data/test_64dim')"
   ]
  },
  {
   "cell_type": "code",
   "execution_count": 11,
   "id": "20254fb7",
   "metadata": {},
   "outputs": [
    {
     "data": {
      "text/html": [
       "<div>\n",
       "<style scoped>\n",
       "    .dataframe tbody tr th:only-of-type {\n",
       "        vertical-align: middle;\n",
       "    }\n",
       "\n",
       "    .dataframe tbody tr th {\n",
       "        vertical-align: top;\n",
       "    }\n",
       "\n",
       "    .dataframe thead th {\n",
       "        text-align: right;\n",
       "    }\n",
       "</style>\n",
       "<table border=\"1\" class=\"dataframe\">\n",
       "  <thead>\n",
       "    <tr style=\"text-align: right;\">\n",
       "      <th></th>\n",
       "      <th>track_id</th>\n",
       "      <th>filename</th>\n",
       "      <th>latent_0</th>\n",
       "      <th>latent_1</th>\n",
       "      <th>latent_2</th>\n",
       "      <th>latent_3</th>\n",
       "      <th>latent_4</th>\n",
       "      <th>latent_5</th>\n",
       "      <th>latent_6</th>\n",
       "      <th>latent_7</th>\n",
       "      <th>...</th>\n",
       "      <th>latent_62</th>\n",
       "      <th>latent_63</th>\n",
       "      <th>track_name</th>\n",
       "      <th>track_preview_link</th>\n",
       "      <th>track_popularity</th>\n",
       "      <th>track_uri</th>\n",
       "      <th>artist_name</th>\n",
       "      <th>artist_id</th>\n",
       "      <th>artist_popularity</th>\n",
       "      <th>release_date</th>\n",
       "    </tr>\n",
       "  </thead>\n",
       "  <tbody>\n",
       "    <tr>\n",
       "      <th>0</th>\n",
       "      <td>6TmHgMdkP4ZGliCKnfcHvd</td>\n",
       "      <td>6TmHgMdkP4ZGliCKnfcHvd.npy</td>\n",
       "      <td>-0.188232</td>\n",
       "      <td>0.580566</td>\n",
       "      <td>0.927734</td>\n",
       "      <td>0.020737</td>\n",
       "      <td>0.103699</td>\n",
       "      <td>0.042999</td>\n",
       "      <td>0.250244</td>\n",
       "      <td>-0.860840</td>\n",
       "      <td>...</td>\n",
       "      <td>0.053192</td>\n",
       "      <td>0.296143</td>\n",
       "      <td>Hun Er Forelska I Lærer’n</td>\n",
       "      <td>https://p.scdn.co/mp3-preview/eb09b27926aebfd6...</td>\n",
       "      <td>45</td>\n",
       "      <td>spotify:track:6TmHgMdkP4ZGliCKnfcHvd</td>\n",
       "      <td>Flöber</td>\n",
       "      <td>1fcZ5xS3sNC2USFveWZA7t</td>\n",
       "      <td>40</td>\n",
       "      <td>2022-02-11</td>\n",
       "    </tr>\n",
       "    <tr>\n",
       "      <th>1</th>\n",
       "      <td>1rIxb5rv6BUWXT6xmLt91x</td>\n",
       "      <td>1rIxb5rv6BUWXT6xmLt91x.npy</td>\n",
       "      <td>-1.778320</td>\n",
       "      <td>0.571777</td>\n",
       "      <td>-2.228516</td>\n",
       "      <td>0.551758</td>\n",
       "      <td>-0.435303</td>\n",
       "      <td>-0.965820</td>\n",
       "      <td>-0.603027</td>\n",
       "      <td>-0.672852</td>\n",
       "      <td>...</td>\n",
       "      <td>-0.693359</td>\n",
       "      <td>-0.033997</td>\n",
       "      <td>Ahmed</td>\n",
       "      <td>https://p.scdn.co/mp3-preview/49a36a5365e52af5...</td>\n",
       "      <td>49</td>\n",
       "      <td>spotify:track:1rIxb5rv6BUWXT6xmLt91x</td>\n",
       "      <td>Acid Pauli</td>\n",
       "      <td>3LHqODf1hGAgZ5LTw1Gf4C</td>\n",
       "      <td>48</td>\n",
       "      <td>None</td>\n",
       "    </tr>\n",
       "    <tr>\n",
       "      <th>2</th>\n",
       "      <td>7kV031B2WzGXdxiMXetkJl</td>\n",
       "      <td>7kV031B2WzGXdxiMXetkJl.npy</td>\n",
       "      <td>0.914551</td>\n",
       "      <td>0.438965</td>\n",
       "      <td>-0.339355</td>\n",
       "      <td>0.508789</td>\n",
       "      <td>0.459717</td>\n",
       "      <td>1.460938</td>\n",
       "      <td>0.369141</td>\n",
       "      <td>0.252441</td>\n",
       "      <td>...</td>\n",
       "      <td>0.238647</td>\n",
       "      <td>0.834473</td>\n",
       "      <td>Dishonorable Discharge</td>\n",
       "      <td>https://p.scdn.co/mp3-preview/85ae9110225e2570...</td>\n",
       "      <td>33</td>\n",
       "      <td>spotify:track:7kV031B2WzGXdxiMXetkJl</td>\n",
       "      <td>Vado</td>\n",
       "      <td>4ubKsFJjMgWkARG6w2Qlv8</td>\n",
       "      <td>43</td>\n",
       "      <td>2021-06-04</td>\n",
       "    </tr>\n",
       "    <tr>\n",
       "      <th>3</th>\n",
       "      <td>0jHt88E5zeabxoTM3c0W1t</td>\n",
       "      <td>0jHt88E5zeabxoTM3c0W1t.npy</td>\n",
       "      <td>-0.304443</td>\n",
       "      <td>0.989746</td>\n",
       "      <td>0.580566</td>\n",
       "      <td>1.041016</td>\n",
       "      <td>-0.456787</td>\n",
       "      <td>1.639648</td>\n",
       "      <td>-1.311523</td>\n",
       "      <td>1.580078</td>\n",
       "      <td>...</td>\n",
       "      <td>0.623047</td>\n",
       "      <td>1.081055</td>\n",
       "      <td>Unretrofied</td>\n",
       "      <td>https://p.scdn.co/mp3-preview/c28f9ec59f3d1ecb...</td>\n",
       "      <td>37</td>\n",
       "      <td>spotify:track:0jHt88E5zeabxoTM3c0W1t</td>\n",
       "      <td>The Dillinger Escape Plan</td>\n",
       "      <td>7IGcjaMGAtsvKBLQX26W4i</td>\n",
       "      <td>44</td>\n",
       "      <td>None</td>\n",
       "    </tr>\n",
       "    <tr>\n",
       "      <th>4</th>\n",
       "      <td>61hq8OZbgdtRANT5buZ8az</td>\n",
       "      <td>61hq8OZbgdtRANT5buZ8az.npy</td>\n",
       "      <td>-1.113281</td>\n",
       "      <td>-0.061951</td>\n",
       "      <td>-1.528320</td>\n",
       "      <td>-0.395020</td>\n",
       "      <td>1.163086</td>\n",
       "      <td>-0.730957</td>\n",
       "      <td>-1.241211</td>\n",
       "      <td>-0.137451</td>\n",
       "      <td>...</td>\n",
       "      <td>-0.277832</td>\n",
       "      <td>0.772949</td>\n",
       "      <td>Ça s'régale</td>\n",
       "      <td>https://p.scdn.co/mp3-preview/0f9d9bd93b3b7947...</td>\n",
       "      <td>27</td>\n",
       "      <td>spotify:track:61hq8OZbgdtRANT5buZ8az</td>\n",
       "      <td>Sinsémilia</td>\n",
       "      <td>7xtiaP8V8z95pASVuIrCRY</td>\n",
       "      <td>42</td>\n",
       "      <td>None</td>\n",
       "    </tr>\n",
       "    <tr>\n",
       "      <th>...</th>\n",
       "      <td>...</td>\n",
       "      <td>...</td>\n",
       "      <td>...</td>\n",
       "      <td>...</td>\n",
       "      <td>...</td>\n",
       "      <td>...</td>\n",
       "      <td>...</td>\n",
       "      <td>...</td>\n",
       "      <td>...</td>\n",
       "      <td>...</td>\n",
       "      <td>...</td>\n",
       "      <td>...</td>\n",
       "      <td>...</td>\n",
       "      <td>...</td>\n",
       "      <td>...</td>\n",
       "      <td>...</td>\n",
       "      <td>...</td>\n",
       "      <td>...</td>\n",
       "      <td>...</td>\n",
       "      <td>...</td>\n",
       "      <td>...</td>\n",
       "    </tr>\n",
       "    <tr>\n",
       "      <th>128998</th>\n",
       "      <td>3cvW37LXNKEZAY0akKEL9U</td>\n",
       "      <td>3cvW37LXNKEZAY0akKEL9U.npy</td>\n",
       "      <td>-0.585449</td>\n",
       "      <td>0.350098</td>\n",
       "      <td>-1.118164</td>\n",
       "      <td>-0.942383</td>\n",
       "      <td>0.026886</td>\n",
       "      <td>-0.774414</td>\n",
       "      <td>0.905762</td>\n",
       "      <td>-0.971191</td>\n",
       "      <td>...</td>\n",
       "      <td>-0.467773</td>\n",
       "      <td>0.083557</td>\n",
       "      <td>Leaden Skies</td>\n",
       "      <td>https://p.scdn.co/mp3-preview/56484f9e08f64fbe...</td>\n",
       "      <td>3</td>\n",
       "      <td>spotify:track:3cvW37LXNKEZAY0akKEL9U</td>\n",
       "      <td>Dubrider</td>\n",
       "      <td>1iYVcxo8b71d9oT5SXpjh5</td>\n",
       "      <td>5</td>\n",
       "      <td>2018-09-07</td>\n",
       "    </tr>\n",
       "    <tr>\n",
       "      <th>128999</th>\n",
       "      <td>4Uj1FMr79T59Hg8FfgBjex</td>\n",
       "      <td>4Uj1FMr79T59Hg8FfgBjex.npy</td>\n",
       "      <td>0.012688</td>\n",
       "      <td>0.859863</td>\n",
       "      <td>-0.453857</td>\n",
       "      <td>0.201294</td>\n",
       "      <td>-0.624023</td>\n",
       "      <td>-0.655273</td>\n",
       "      <td>-0.375488</td>\n",
       "      <td>0.847656</td>\n",
       "      <td>...</td>\n",
       "      <td>0.704590</td>\n",
       "      <td>0.030869</td>\n",
       "      <td>Snitch to the Suture</td>\n",
       "      <td>https://p.scdn.co/mp3-preview/df9c9570ce90b697...</td>\n",
       "      <td>24</td>\n",
       "      <td>spotify:track:4Uj1FMr79T59Hg8FfgBjex</td>\n",
       "      <td>Star Fucking Hipsters</td>\n",
       "      <td>0ZyPhNogYtuJGK8ZdYQpQG</td>\n",
       "      <td>34</td>\n",
       "      <td>2008-09-30</td>\n",
       "    </tr>\n",
       "    <tr>\n",
       "      <th>129000</th>\n",
       "      <td>50y1hX68TJ0gyBtzcmgLKf</td>\n",
       "      <td>50y1hX68TJ0gyBtzcmgLKf.npy</td>\n",
       "      <td>-1.643555</td>\n",
       "      <td>-0.692383</td>\n",
       "      <td>-1.862305</td>\n",
       "      <td>0.970703</td>\n",
       "      <td>-0.274902</td>\n",
       "      <td>-1.276367</td>\n",
       "      <td>0.848145</td>\n",
       "      <td>-1.845703</td>\n",
       "      <td>...</td>\n",
       "      <td>-1.438477</td>\n",
       "      <td>-0.217651</td>\n",
       "      <td>Wind Blown Waltz</td>\n",
       "      <td>https://p.scdn.co/mp3-preview/2affabca3caf497a...</td>\n",
       "      <td>27</td>\n",
       "      <td>spotify:track:50y1hX68TJ0gyBtzcmgLKf</td>\n",
       "      <td>Giant Sand</td>\n",
       "      <td>339qxEdD8z8okRAiTp1HKf</td>\n",
       "      <td>29</td>\n",
       "      <td>None</td>\n",
       "    </tr>\n",
       "    <tr>\n",
       "      <th>129001</th>\n",
       "      <td>3euDGpS2R0NC2Xssqxohva</td>\n",
       "      <td>3euDGpS2R0NC2Xssqxohva.npy</td>\n",
       "      <td>-0.884277</td>\n",
       "      <td>-0.563965</td>\n",
       "      <td>-1.316406</td>\n",
       "      <td>-0.055084</td>\n",
       "      <td>-0.037476</td>\n",
       "      <td>0.164062</td>\n",
       "      <td>0.070007</td>\n",
       "      <td>-0.997559</td>\n",
       "      <td>...</td>\n",
       "      <td>-1.197266</td>\n",
       "      <td>-0.233887</td>\n",
       "      <td>Scarlet Begonias - 2013 Remaster</td>\n",
       "      <td>https://p.scdn.co/mp3-preview/7c0b54459124b873...</td>\n",
       "      <td>58</td>\n",
       "      <td>spotify:track:3euDGpS2R0NC2Xssqxohva</td>\n",
       "      <td>Grateful Dead</td>\n",
       "      <td>4TMHGUX5WI7OOm53PqSDAT</td>\n",
       "      <td>66</td>\n",
       "      <td>None</td>\n",
       "    </tr>\n",
       "    <tr>\n",
       "      <th>129002</th>\n",
       "      <td>0NcbcJhbcZzIQvlfFpLWs8</td>\n",
       "      <td>0NcbcJhbcZzIQvlfFpLWs8.npy</td>\n",
       "      <td>0.246826</td>\n",
       "      <td>-1.772461</td>\n",
       "      <td>-2.183594</td>\n",
       "      <td>-1.382812</td>\n",
       "      <td>0.530762</td>\n",
       "      <td>-0.415283</td>\n",
       "      <td>0.632324</td>\n",
       "      <td>-0.449463</td>\n",
       "      <td>...</td>\n",
       "      <td>0.408691</td>\n",
       "      <td>-2.216797</td>\n",
       "      <td>No Cigarettes</td>\n",
       "      <td>https://p.scdn.co/mp3-preview/6f2261a0c377e088...</td>\n",
       "      <td>2</td>\n",
       "      <td>spotify:track:0NcbcJhbcZzIQvlfFpLWs8</td>\n",
       "      <td>Withered Hand</td>\n",
       "      <td>5s27vvC5dAwOxD3ifVORQw</td>\n",
       "      <td>10</td>\n",
       "      <td>2009-06-29</td>\n",
       "    </tr>\n",
       "  </tbody>\n",
       "</table>\n",
       "<p>129003 rows × 74 columns</p>\n",
       "</div>"
      ],
      "text/plain": [
       "                      track_id                    filename  latent_0  \\\n",
       "0       6TmHgMdkP4ZGliCKnfcHvd  6TmHgMdkP4ZGliCKnfcHvd.npy -0.188232   \n",
       "1       1rIxb5rv6BUWXT6xmLt91x  1rIxb5rv6BUWXT6xmLt91x.npy -1.778320   \n",
       "2       7kV031B2WzGXdxiMXetkJl  7kV031B2WzGXdxiMXetkJl.npy  0.914551   \n",
       "3       0jHt88E5zeabxoTM3c0W1t  0jHt88E5zeabxoTM3c0W1t.npy -0.304443   \n",
       "4       61hq8OZbgdtRANT5buZ8az  61hq8OZbgdtRANT5buZ8az.npy -1.113281   \n",
       "...                        ...                         ...       ...   \n",
       "128998  3cvW37LXNKEZAY0akKEL9U  3cvW37LXNKEZAY0akKEL9U.npy -0.585449   \n",
       "128999  4Uj1FMr79T59Hg8FfgBjex  4Uj1FMr79T59Hg8FfgBjex.npy  0.012688   \n",
       "129000  50y1hX68TJ0gyBtzcmgLKf  50y1hX68TJ0gyBtzcmgLKf.npy -1.643555   \n",
       "129001  3euDGpS2R0NC2Xssqxohva  3euDGpS2R0NC2Xssqxohva.npy -0.884277   \n",
       "129002  0NcbcJhbcZzIQvlfFpLWs8  0NcbcJhbcZzIQvlfFpLWs8.npy  0.246826   \n",
       "\n",
       "        latent_1  latent_2  latent_3  latent_4  latent_5  latent_6  latent_7  \\\n",
       "0       0.580566  0.927734  0.020737  0.103699  0.042999  0.250244 -0.860840   \n",
       "1       0.571777 -2.228516  0.551758 -0.435303 -0.965820 -0.603027 -0.672852   \n",
       "2       0.438965 -0.339355  0.508789  0.459717  1.460938  0.369141  0.252441   \n",
       "3       0.989746  0.580566  1.041016 -0.456787  1.639648 -1.311523  1.580078   \n",
       "4      -0.061951 -1.528320 -0.395020  1.163086 -0.730957 -1.241211 -0.137451   \n",
       "...          ...       ...       ...       ...       ...       ...       ...   \n",
       "128998  0.350098 -1.118164 -0.942383  0.026886 -0.774414  0.905762 -0.971191   \n",
       "128999  0.859863 -0.453857  0.201294 -0.624023 -0.655273 -0.375488  0.847656   \n",
       "129000 -0.692383 -1.862305  0.970703 -0.274902 -1.276367  0.848145 -1.845703   \n",
       "129001 -0.563965 -1.316406 -0.055084 -0.037476  0.164062  0.070007 -0.997559   \n",
       "129002 -1.772461 -2.183594 -1.382812  0.530762 -0.415283  0.632324 -0.449463   \n",
       "\n",
       "        ...  latent_62  latent_63                        track_name  \\\n",
       "0       ...   0.053192   0.296143         Hun Er Forelska I Lærer’n   \n",
       "1       ...  -0.693359  -0.033997                             Ahmed   \n",
       "2       ...   0.238647   0.834473            Dishonorable Discharge   \n",
       "3       ...   0.623047   1.081055                       Unretrofied   \n",
       "4       ...  -0.277832   0.772949                       Ça s'régale   \n",
       "...     ...        ...        ...                               ...   \n",
       "128998  ...  -0.467773   0.083557                      Leaden Skies   \n",
       "128999  ...   0.704590   0.030869              Snitch to the Suture   \n",
       "129000  ...  -1.438477  -0.217651                  Wind Blown Waltz   \n",
       "129001  ...  -1.197266  -0.233887  Scarlet Begonias - 2013 Remaster   \n",
       "129002  ...   0.408691  -2.216797                     No Cigarettes   \n",
       "\n",
       "                                       track_preview_link  track_popularity  \\\n",
       "0       https://p.scdn.co/mp3-preview/eb09b27926aebfd6...                45   \n",
       "1       https://p.scdn.co/mp3-preview/49a36a5365e52af5...                49   \n",
       "2       https://p.scdn.co/mp3-preview/85ae9110225e2570...                33   \n",
       "3       https://p.scdn.co/mp3-preview/c28f9ec59f3d1ecb...                37   \n",
       "4       https://p.scdn.co/mp3-preview/0f9d9bd93b3b7947...                27   \n",
       "...                                                   ...               ...   \n",
       "128998  https://p.scdn.co/mp3-preview/56484f9e08f64fbe...                 3   \n",
       "128999  https://p.scdn.co/mp3-preview/df9c9570ce90b697...                24   \n",
       "129000  https://p.scdn.co/mp3-preview/2affabca3caf497a...                27   \n",
       "129001  https://p.scdn.co/mp3-preview/7c0b54459124b873...                58   \n",
       "129002  https://p.scdn.co/mp3-preview/6f2261a0c377e088...                 2   \n",
       "\n",
       "                                   track_uri                artist_name  \\\n",
       "0       spotify:track:6TmHgMdkP4ZGliCKnfcHvd                     Flöber   \n",
       "1       spotify:track:1rIxb5rv6BUWXT6xmLt91x                 Acid Pauli   \n",
       "2       spotify:track:7kV031B2WzGXdxiMXetkJl                       Vado   \n",
       "3       spotify:track:0jHt88E5zeabxoTM3c0W1t  The Dillinger Escape Plan   \n",
       "4       spotify:track:61hq8OZbgdtRANT5buZ8az                 Sinsémilia   \n",
       "...                                      ...                        ...   \n",
       "128998  spotify:track:3cvW37LXNKEZAY0akKEL9U                   Dubrider   \n",
       "128999  spotify:track:4Uj1FMr79T59Hg8FfgBjex      Star Fucking Hipsters   \n",
       "129000  spotify:track:50y1hX68TJ0gyBtzcmgLKf                 Giant Sand   \n",
       "129001  spotify:track:3euDGpS2R0NC2Xssqxohva              Grateful Dead   \n",
       "129002  spotify:track:0NcbcJhbcZzIQvlfFpLWs8              Withered Hand   \n",
       "\n",
       "                     artist_id  artist_popularity  release_date  \n",
       "0       1fcZ5xS3sNC2USFveWZA7t                 40    2022-02-11  \n",
       "1       3LHqODf1hGAgZ5LTw1Gf4C                 48          None  \n",
       "2       4ubKsFJjMgWkARG6w2Qlv8                 43    2021-06-04  \n",
       "3       7IGcjaMGAtsvKBLQX26W4i                 44          None  \n",
       "4       7xtiaP8V8z95pASVuIrCRY                 42          None  \n",
       "...                        ...                ...           ...  \n",
       "128998  1iYVcxo8b71d9oT5SXpjh5                  5    2018-09-07  \n",
       "128999  0ZyPhNogYtuJGK8ZdYQpQG                 34    2008-09-30  \n",
       "129000  339qxEdD8z8okRAiTp1HKf                 29          None  \n",
       "129001  4TMHGUX5WI7OOm53PqSDAT                 66          None  \n",
       "129002  5s27vvC5dAwOxD3ifVORQw                 10    2009-06-29  \n",
       "\n",
       "[129003 rows x 74 columns]"
      ]
     },
     "execution_count": 11,
     "metadata": {},
     "output_type": "execute_result"
    }
   ],
   "source": [
    "sonufy.tracks"
   ]
  },
  {
   "cell_type": "code",
   "execution_count": 365,
   "id": "52aeb292",
   "metadata": {},
   "outputs": [
    {
     "name": "stdout",
     "output_type": "stream",
     "text": [
      "Autoencoder loaded from \"data/test_128dim_newmels/\".\n",
      "loaded full model\n",
      "loaded encoder\n",
      "Loaded tracks.\n",
      "Loaded genres.\n",
      "loaded scaler\n",
      "loaded database files\n"
     ]
    }
   ],
   "source": [
    "sonufy.load('data/test_128dim_newmels/')"
   ]
  },
  {
   "cell_type": "code",
   "execution_count": 366,
   "id": "45df502b",
   "metadata": {},
   "outputs": [],
   "source": [
    "test_img = adg.take(6)[0]\n",
    "test_img2 = adg.take(0)[0]"
   ]
  },
  {
   "cell_type": "markdown",
   "id": "04e0c7d4",
   "metadata": {},
   "source": [
    "Two separate images taken from different tracks:"
   ]
  },
  {
   "cell_type": "code",
   "execution_count": 396,
   "id": "5f2c7321",
   "metadata": {},
   "outputs": [
    {
     "data": {
      "image/png": "[encoded data removed]",
      "text/plain": [
       "<Figure size 432x288 with 1 Axes>"
      ]
     },
     "metadata": {
      "needs_background": "light"
     },
     "output_type": "display_data"
    },
    {
     "data": {
      "image/png": "[encoded data removed]",
      "text/plain": [
       "<Figure size 432x288 with 1 Axes>"
      ]
     },
     "metadata": {
      "needs_background": "light"
     },
     "output_type": "display_data"
    }
   ],
   "source": [
    "plt.imshow(test_img[0], origin='lower')\n",
    "plt.show()\n",
    "plt.imshow(test_img2[0], origin='lower')\n",
    "plt.show()"
   ]
  },
  {
   "cell_type": "markdown",
   "id": "3c590a0d",
   "metadata": {},
   "source": [
    "Autoencoder predictions for those images."
   ]
  },
  {
   "cell_type": "code",
   "execution_count": 397,
   "id": "02d542c3",
   "metadata": {},
   "outputs": [
    {
     "data": {
      "image/png": "[encoded data removed]",
      "text/plain": [
       "<Figure size 432x288 with 1 Axes>"
      ]
     },
     "metadata": {
      "needs_background": "light"
     },
     "output_type": "display_data"
    },
    {
     "data": {
      "image/png": "[encoded data removed]",
      "text/plain": [
       "<Figure size 432x288 with 1 Axes>"
      ]
     },
     "metadata": {
      "needs_background": "light"
     },
     "output_type": "display_data"
    }
   ],
   "source": [
    "plt.imshow(sonufy.autoencoder(test_img)[0], origin='lower')\n",
    "plt.show()\n",
    "plt.imshow(sonufy.autoencoder(test_img2)[0], origin='lower')\n",
    "plt.show()"
   ]
  },
  {
   "cell_type": "markdown",
   "id": "21756a9a",
   "metadata": {},
   "source": [
    "Distribution comparison between two images."
   ]
  },
  {
   "cell_type": "code",
   "execution_count": 369,
   "id": "40f9931a",
   "metadata": {},
   "outputs": [
    {
     "data": {
      "image/png": "[encoded data removed]",
      "text/plain": [
       "<Figure size 432x288 with 1 Axes>"
      ]
     },
     "metadata": {
      "needs_background": "light"
     },
     "output_type": "display_data"
    }
   ],
   "source": [
    "plt.hist(np.array(test_img[0]).reshape(-1), alpha=0.5, label='img1')\n",
    "plt.hist(np.array(test_img2[0]).reshape(-1), alpha=0.5, label='img2')\n",
    "plt.legend()\n",
    "plt.show()"
   ]
  },
  {
   "cell_type": "markdown",
   "id": "d37ceaca",
   "metadata": {},
   "source": [
    "Distribution comparision between one image and the prediction."
   ]
  },
  {
   "cell_type": "code",
   "execution_count": 370,
   "id": "56ba4386",
   "metadata": {},
   "outputs": [
    {
     "data": {
      "image/png": "[encoded data removed]",
      "text/plain": [
       "<Figure size 432x288 with 1 Axes>"
      ]
     },
     "metadata": {
      "needs_background": "light"
     },
     "output_type": "display_data"
    }
   ],
   "source": [
    "plt.hist(np.array(test_img[0]).reshape(-1), alpha=0.5, label='original')\n",
    "plt.hist(np.array(sonufy.autoencoder(test_img)[0]).reshape(-1), alpha=0.5, label='prediction')\n",
    "plt.legend()\n",
    "plt.show()"
   ]
  },
  {
   "cell_type": "markdown",
   "id": "7bb7c92e",
   "metadata": {},
   "source": [
    "comparison between encoded original and encoded prediction"
   ]
  },
  {
   "cell_type": "code",
   "execution_count": 371,
   "id": "64d81539",
   "metadata": {},
   "outputs": [
    {
     "data": {
      "text/plain": [
       "<matplotlib.image.AxesImage at 0x341aed0d0>"
      ]
     },
     "execution_count": 371,
     "metadata": {},
     "output_type": "execute_result"
    },
    {
     "data": {
      "image/png": "[encoded data removed]",
      "text/plain": [
       "<Figure size 1440x360 with 1 Axes>"
      ]
     },
     "metadata": {
      "needs_background": "light"
     },
     "output_type": "display_data"
    }
   ],
   "source": [
    "concat_img = np.array([sonufy.autoencoder.encoder(sonufy.autoencoder(test_img))[0], sonufy.autoencoder.encoder(test_img)[0]])\n",
    "plt.figure(figsize=(20,5))\n",
    "plt.imshow(concat_img, aspect=8)"
   ]
  },
  {
   "cell_type": "markdown",
   "id": "1342713e",
   "metadata": {},
   "source": [
    "compare encoded between two images"
   ]
  },
  {
   "cell_type": "code",
   "execution_count": 372,
   "id": "25abdfc9",
   "metadata": {},
   "outputs": [
    {
     "data": {
      "text/plain": [
       "<matplotlib.image.AxesImage at 0x2dfb60ca0>"
      ]
     },
     "execution_count": 372,
     "metadata": {},
     "output_type": "execute_result"
    },
    {
     "data": {
      "image/png": "[encoded data removed]",
      "text/plain": [
       "<Figure size 1440x360 with 1 Axes>"
      ]
     },
     "metadata": {
      "needs_background": "light"
     },
     "output_type": "display_data"
    }
   ],
   "source": [
    "concat_img_compare = np.array([sonufy.autoencoder.encoder(sonufy.autoencoder(test_img))[0], sonufy.autoencoder.encoder(sonufy.autoencoder(test_img2))[0]])\n",
    "plt.figure(figsize=(20,5))\n",
    "plt.imshow(concat_img_compare, aspect=8)"
   ]
  },
  {
   "cell_type": "markdown",
   "id": "a05a79a8",
   "metadata": {},
   "source": [
    "compare encoded between two images and the mean of the first image batch."
   ]
  },
  {
   "cell_type": "code",
   "execution_count": 373,
   "id": "e8134660",
   "metadata": {},
   "outputs": [
    {
     "data": {
      "text/plain": [
       "<matplotlib.image.AxesImage at 0x341981af0>"
      ]
     },
     "execution_count": 373,
     "metadata": {},
     "output_type": "execute_result"
    },
    {
     "data": {
      "image/png": "[encoded data removed]",
      "text/plain": [
       "<Figure size 1440x360 with 1 Axes>"
      ]
     },
     "metadata": {
      "needs_background": "light"
     },
     "output_type": "display_data"
    }
   ],
   "source": [
    "concat_img_compare = np.array([np.array(sonufy.autoencoder.encoder(sonufy.autoencoder(test_img))).mean(axis=0), sonufy.autoencoder.encoder(sonufy.autoencoder(test_img))[0], sonufy.autoencoder.encoder(sonufy.autoencoder(test_img2))[0]])\n",
    "plt.figure(figsize=(20,5))\n",
    "plt.imshow(concat_img_compare, aspect=8)"
   ]
  },
  {
   "cell_type": "markdown",
   "id": "3f42e56a",
   "metadata": {},
   "source": [
    "Look at the scale of each feature in the encoded space. Needs to be scaled which is what is happening later on."
   ]
  },
  {
   "cell_type": "code",
   "execution_count": 374,
   "id": "bb5679b6",
   "metadata": {},
   "outputs": [
    {
     "data": {
      "text/plain": [
       "0     -2.159883\n",
       "1      2.124318\n",
       "2      0.064922\n",
       "3      2.451025\n",
       "4     -3.938225\n",
       "         ...   \n",
       "123   -4.000001\n",
       "124   -1.224287\n",
       "125    2.302783\n",
       "126   -4.562623\n",
       "127    2.428912\n",
       "Length: 128, dtype: float32"
      ]
     },
     "execution_count": 374,
     "metadata": {},
     "output_type": "execute_result"
    }
   ],
   "source": [
    "pd.Series(np.array(sonufy.autoencoder.encoder(test_img)[0]).reshape(-1))"
   ]
  },
  {
   "cell_type": "code",
   "execution_count": 375,
   "id": "97c38020",
   "metadata": {},
   "outputs": [
    {
     "data": {
      "text/plain": [
       "(128,)"
      ]
     },
     "execution_count": 375,
     "metadata": {},
     "output_type": "execute_result"
    }
   ],
   "source": [
    "concat_img_compare[0].shape"
   ]
  },
  {
   "cell_type": "markdown",
   "id": "9ca79a05",
   "metadata": {},
   "source": [
    "heat map cosine similarity between encoded images for entire batch vs batch"
   ]
  },
  {
   "cell_type": "code",
   "execution_count": 376,
   "id": "7a4e1f69",
   "metadata": {},
   "outputs": [
    {
     "data": {
      "image/png": "[encoded data removed]",
      "text/plain": [
       "<Figure size 720x720 with 2 Axes>"
      ]
     },
     "metadata": {
      "needs_background": "light"
     },
     "output_type": "display_data"
    }
   ],
   "source": [
    "from sklearn.metrics.pairwise import cosine_similarity\n",
    "\n",
    "plt.figure(figsize=(10,10))\n",
    "plt.imshow(cosine_similarity(sonufy.autoencoder.encoder(test_img), sonufy.autoencoder.encoder(test_img2)), cmap='magma')\n",
    "plt.xticks(ticks=range(32))\n",
    "plt.yticks(ticks=range(32))\n",
    "plt.colorbar()\n",
    "plt.show()"
   ]
  },
  {
   "cell_type": "markdown",
   "id": "2c2dbb63",
   "metadata": {},
   "source": [
    "cosine similarity between mean and the entire batch of the second image."
   ]
  },
  {
   "cell_type": "code",
   "execution_count": 377,
   "id": "b9da8d32",
   "metadata": {},
   "outputs": [
    {
     "data": {
      "image/png": "[encoded data removed]",
      "text/plain": [
       "<Figure size 720x720 with 1 Axes>"
      ]
     },
     "metadata": {
      "needs_background": "light"
     },
     "output_type": "display_data"
    }
   ],
   "source": [
    "plt.figure(figsize=(10,10))\n",
    "plt.imshow(cosine_similarity(np.array(sonufy.autoencoder.encoder(test_img)).mean(axis=0).reshape(1,-1), sonufy.autoencoder.encoder(test_img2)), cmap='magma')\n",
    "plt.xticks(ticks=range(32))\n",
    "plt.show()"
   ]
  },
  {
   "cell_type": "markdown",
   "id": "44c3618a",
   "metadata": {},
   "source": [
    "cosine similarity between encoded space of the mean of the two images."
   ]
  },
  {
   "cell_type": "code",
   "execution_count": 378,
   "id": "999f5ae7",
   "metadata": {},
   "outputs": [
    {
     "data": {
      "text/plain": [
       "array([[0.91384816]], dtype=float32)"
      ]
     },
     "execution_count": 378,
     "metadata": {},
     "output_type": "execute_result"
    }
   ],
   "source": [
    "cosine_similarity(np.array(sonufy.autoencoder.encoder(test_img)).mean(axis=0).reshape(1,-1), np.array(sonufy.autoencoder.encoder(test_img2)).mean(axis=0).reshape(1,-1))\n"
   ]
  },
  {
   "cell_type": "code",
   "execution_count": 8,
   "id": "b5f7905e",
   "metadata": {},
   "outputs": [
    {
     "name": "stderr",
     "output_type": "stream",
     "text": [
      "INFO: Applying 1 TensorFlow Lite delegate(s) lazily.\n",
      "/Users/michaelroth/miniforge3/envs/golden_env/lib/python3.9/site-packages/sklearn/base.py:450: UserWarning: X does not have valid feature names, but StandardScaler was fitted with feature names\n",
      "  warnings.warn(\n"
     ]
    }
   ],
   "source": [
    "a, b, c, d = sonufy.search_for_recommendations(query='the mystery lights', get_time_and_freq=True)"
   ]
  },
  {
   "cell_type": "code",
   "execution_count": 9,
   "id": "aa482ae6",
   "metadata": {},
   "outputs": [
    {
     "data": {
      "text/plain": [
       "'Flowers in My Hair, Demons in My Head'"
      ]
     },
     "execution_count": 9,
     "metadata": {},
     "output_type": "execute_result"
    }
   ],
   "source": [
    "a['name']"
   ]
  },
  {
   "cell_type": "code",
   "execution_count": 10,
   "id": "fb5804c7",
   "metadata": {},
   "outputs": [
    {
     "data": {
      "text/html": [
       "<div>\n",
       "<style scoped>\n",
       "    .dataframe tbody tr th:only-of-type {\n",
       "        vertical-align: middle;\n",
       "    }\n",
       "\n",
       "    .dataframe tbody tr th {\n",
       "        vertical-align: top;\n",
       "    }\n",
       "\n",
       "    .dataframe thead th {\n",
       "        text-align: right;\n",
       "    }\n",
       "</style>\n",
       "<table border=\"1\" class=\"dataframe\">\n",
       "  <thead>\n",
       "    <tr style=\"text-align: right;\">\n",
       "      <th></th>\n",
       "      <th>track_name</th>\n",
       "      <th>track_uri</th>\n",
       "      <th>artist_name</th>\n",
       "      <th>similarity</th>\n",
       "      <th>track_popularity</th>\n",
       "      <th>time_similarity</th>\n",
       "      <th>frequency_similarity</th>\n",
       "    </tr>\n",
       "  </thead>\n",
       "  <tbody>\n",
       "    <tr>\n",
       "      <th>0</th>\n",
       "      <td>Staring Contest</td>\n",
       "      <td>spotify:track:4PCcL3Yy8I1NJvD7M2Xik4</td>\n",
       "      <td>Dazzling Killmen</td>\n",
       "      <td>0.706306</td>\n",
       "      <td>12</td>\n",
       "      <td>0.834026</td>\n",
       "      <td>0.676391</td>\n",
       "    </tr>\n",
       "    <tr>\n",
       "      <th>1</th>\n",
       "      <td>Charlie - triple j Like A Version</td>\n",
       "      <td>spotify:track:7ogNZudeWHnDvlGOIAKfWN</td>\n",
       "      <td>Bugs</td>\n",
       "      <td>0.703054</td>\n",
       "      <td>44</td>\n",
       "      <td>0.751645</td>\n",
       "      <td>0.700144</td>\n",
       "    </tr>\n",
       "    <tr>\n",
       "      <th>2</th>\n",
       "      <td>Tourne la page</td>\n",
       "      <td>spotify:track:65LUFNzKnv0XBKfob3RC2X</td>\n",
       "      <td>Il Etait Une Fois</td>\n",
       "      <td>0.700713</td>\n",
       "      <td>14</td>\n",
       "      <td>0.779344</td>\n",
       "      <td>0.664733</td>\n",
       "    </tr>\n",
       "    <tr>\n",
       "      <th>3</th>\n",
       "      <td>Alive and Brilliant</td>\n",
       "      <td>spotify:track:3SlPal4Eu1JHNj6yubeziF</td>\n",
       "      <td>Deborah Conway</td>\n",
       "      <td>0.691066</td>\n",
       "      <td>23</td>\n",
       "      <td>0.643359</td>\n",
       "      <td>0.742653</td>\n",
       "    </tr>\n",
       "    <tr>\n",
       "      <th>4</th>\n",
       "      <td>Probation Blues</td>\n",
       "      <td>spotify:track:05HMVZWkKTMe2ki1FNnCmq</td>\n",
       "      <td>The Strange Boys</td>\n",
       "      <td>0.689469</td>\n",
       "      <td>17</td>\n",
       "      <td>0.881284</td>\n",
       "      <td>0.601102</td>\n",
       "    </tr>\n",
       "    <tr>\n",
       "      <th>5</th>\n",
       "      <td>Running, Swimming, and Sinking</td>\n",
       "      <td>spotify:track:2NNmVGzOZrm1oNn7uWpo2E</td>\n",
       "      <td>Small Brown Bike</td>\n",
       "      <td>0.685660</td>\n",
       "      <td>13</td>\n",
       "      <td>0.869896</td>\n",
       "      <td>0.599623</td>\n",
       "    </tr>\n",
       "    <tr>\n",
       "      <th>6</th>\n",
       "      <td>No Time To Be 21</td>\n",
       "      <td>spotify:track:4apkpSjDP2NfnEv1ttQ7u2</td>\n",
       "      <td>The Adverts</td>\n",
       "      <td>0.677520</td>\n",
       "      <td>27</td>\n",
       "      <td>0.815049</td>\n",
       "      <td>0.598660</td>\n",
       "    </tr>\n",
       "    <tr>\n",
       "      <th>7</th>\n",
       "      <td>All The Way From Memphis</td>\n",
       "      <td>spotify:track:6Skd8wzI0Wv1VSJHbM3STw</td>\n",
       "      <td>James Intveld</td>\n",
       "      <td>0.677482</td>\n",
       "      <td>11</td>\n",
       "      <td>0.757892</td>\n",
       "      <td>0.655092</td>\n",
       "    </tr>\n",
       "    <tr>\n",
       "      <th>8</th>\n",
       "      <td>Broken</td>\n",
       "      <td>spotify:track:4u5ccLjz2SQchgltze0buE</td>\n",
       "      <td>Corpus Delicti</td>\n",
       "      <td>0.675561</td>\n",
       "      <td>23</td>\n",
       "      <td>0.798638</td>\n",
       "      <td>0.624567</td>\n",
       "    </tr>\n",
       "    <tr>\n",
       "      <th>9</th>\n",
       "      <td>Lass Uns Liebe Machen - Haremos El Amor</td>\n",
       "      <td>spotify:track:79VhfUijFkUYlz3uIHnEmT</td>\n",
       "      <td>Reverend Beat-Man</td>\n",
       "      <td>0.674837</td>\n",
       "      <td>16</td>\n",
       "      <td>0.806241</td>\n",
       "      <td>0.597275</td>\n",
       "    </tr>\n",
       "  </tbody>\n",
       "</table>\n",
       "</div>"
      ],
      "text/plain": [
       "                                track_name  \\\n",
       "0                          Staring Contest   \n",
       "1        Charlie - triple j Like A Version   \n",
       "2                           Tourne la page   \n",
       "3                      Alive and Brilliant   \n",
       "4                          Probation Blues   \n",
       "5           Running, Swimming, and Sinking   \n",
       "6                         No Time To Be 21   \n",
       "7                 All The Way From Memphis   \n",
       "8                                   Broken   \n",
       "9  Lass Uns Liebe Machen - Haremos El Amor   \n",
       "\n",
       "                              track_uri        artist_name  similarity  \\\n",
       "0  spotify:track:4PCcL3Yy8I1NJvD7M2Xik4   Dazzling Killmen    0.706306   \n",
       "1  spotify:track:7ogNZudeWHnDvlGOIAKfWN               Bugs    0.703054   \n",
       "2  spotify:track:65LUFNzKnv0XBKfob3RC2X  Il Etait Une Fois    0.700713   \n",
       "3  spotify:track:3SlPal4Eu1JHNj6yubeziF     Deborah Conway    0.691066   \n",
       "4  spotify:track:05HMVZWkKTMe2ki1FNnCmq   The Strange Boys    0.689469   \n",
       "5  spotify:track:2NNmVGzOZrm1oNn7uWpo2E   Small Brown Bike    0.685660   \n",
       "6  spotify:track:4apkpSjDP2NfnEv1ttQ7u2        The Adverts    0.677520   \n",
       "7  spotify:track:6Skd8wzI0Wv1VSJHbM3STw      James Intveld    0.677482   \n",
       "8  spotify:track:4u5ccLjz2SQchgltze0buE     Corpus Delicti    0.675561   \n",
       "9  spotify:track:79VhfUijFkUYlz3uIHnEmT  Reverend Beat-Man    0.674837   \n",
       "\n",
       "   track_popularity  time_similarity  frequency_similarity  \n",
       "0                12         0.834026              0.676391  \n",
       "1                44         0.751645              0.700144  \n",
       "2                14         0.779344              0.664733  \n",
       "3                23         0.643359              0.742653  \n",
       "4                17         0.881284              0.601102  \n",
       "5                13         0.869896              0.599623  \n",
       "6                27         0.815049              0.598660  \n",
       "7                11         0.757892              0.655092  \n",
       "8                23         0.798638              0.624567  \n",
       "9                16         0.806241              0.597275  "
      ]
     },
     "execution_count": 10,
     "metadata": {},
     "output_type": "execute_result"
    }
   ],
   "source": [
    "b"
   ]
  },
  {
   "cell_type": "code",
   "execution_count": 118,
   "id": "a06caefa",
   "metadata": {},
   "outputs": [],
   "source": [
    "similarity_img = np.concatenate([np.array(d), np.array(c[sonufy.latent_cols])])"
   ]
  },
  {
   "cell_type": "code",
   "execution_count": 119,
   "id": "1ab75303",
   "metadata": {},
   "outputs": [
    {
     "data": {
      "text/plain": [
       "<matplotlib.image.AxesImage at 0x2c574a700>"
      ]
     },
     "execution_count": 119,
     "metadata": {},
     "output_type": "execute_result"
    },
    {
     "data": {
      "image/png": "[encoded data removed]",
      "text/plain": [
       "<Figure size 1440x720 with 1 Axes>"
      ]
     },
     "metadata": {
      "needs_background": "light"
     },
     "output_type": "display_data"
    }
   ],
   "source": [
    "plt.figure(figsize=(20,10))\n",
    "plt.imshow(similarity_img, aspect=5)"
   ]
  },
  {
   "cell_type": "code",
   "execution_count": 70,
   "id": "4f5ad0ba",
   "metadata": {},
   "outputs": [],
   "source": [
    "from sklearn.metrics import mean_squared_error, mean_absolute_error"
   ]
  },
  {
   "cell_type": "code",
   "execution_count": 71,
   "id": "877e6dde",
   "metadata": {},
   "outputs": [
    {
     "data": {
      "text/plain": [
       "0.008464583422193032"
      ]
     },
     "execution_count": 71,
     "metadata": {},
     "output_type": "execute_result"
    }
   ],
   "source": [
    "mean_squared_error(test_img[0].reshape(64,64), np.array(sonufy.autoencoder(test_img)[0]).reshape(64,64))"
   ]
  },
  {
   "cell_type": "code",
   "execution_count": null,
   "id": "a797b87a",
   "metadata": {},
   "outputs": [],
   "source": []
  }
 ],
 "metadata": {
  "kernelspec": {
   "display_name": "Python 3 (ipykernel)",
   "language": "python",
   "name": "python3"
  },
  "language_info": {
   "codemirror_mode": {
    "name": "ipython",
    "version": 3
   },
   "file_extension": ".py",
   "mimetype": "text/x-python",
   "name": "python",
   "nbconvert_exporter": "python",
   "pygments_lexer": "ipython3",
   "version": "3.9.13"
  }
 },
 "nbformat": 4,
 "nbformat_minor": 5
}

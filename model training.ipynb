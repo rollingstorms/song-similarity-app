{
 "cells": [
  {
   "cell_type": "code",
   "execution_count": 1,
   "id": "9018371a",
   "metadata": {},
   "outputs": [],
   "source": [
    "from src.Sonufy import *\n",
    "from src.AudioDataGenerator import AudioDataGenerator\n",
    "import matplotlib.pyplot as plt"
   ]
  },
  {
   "cell_type": "code",
   "execution_count": 2,
   "id": "77bc456a",
   "metadata": {},
   "outputs": [
    {
     "name": "stdout",
     "output_type": "stream",
     "text": [
      "Found 36926 files for prediction set\n"
     ]
    }
   ],
   "source": [
    "adg = AudioDataGenerator(batch_size=32, input_size=(64,1030), output_size=(64,64), directory='data/mels')"
   ]
  },
  {
   "cell_type": "code",
   "execution_count": 3,
   "id": "9b932cb2",
   "metadata": {},
   "outputs": [],
   "source": [
    "sonufy = Sonufy(latent_dims=128, output_size=(64,64))"
   ]
  },
  {
   "cell_type": "code",
   "execution_count": 4,
   "id": "0afa1804",
   "metadata": {},
   "outputs": [],
   "source": [
    "sonufy.build_model(filters=(16,32,64))"
   ]
  },
  {
   "cell_type": "code",
   "execution_count": 60,
   "id": "bc1fcd6d",
   "metadata": {},
   "outputs": [
    {
     "name": "stdout",
     "output_type": "stream",
     "text": [
      "Found 44092 files for training set\n",
      "Found 900 files for testing set\n",
      "Epoch 1/10\n",
      "344/344 [==============================] - 90s 262ms/step - loss: 0.0061 - val_loss: 0.0062\n",
      "Epoch 2/10\n",
      "344/344 [==============================] - 91s 265ms/step - loss: 0.0061 - val_loss: 0.0062\n",
      "Epoch 3/10\n",
      "344/344 [==============================] - 88s 256ms/step - loss: 0.0060 - val_loss: 0.0061\n",
      "Epoch 4/10\n",
      "344/344 [==============================] - 91s 264ms/step - loss: 0.0059 - val_loss: 0.0059\n",
      "Epoch 5/10\n",
      "344/344 [==============================] - 90s 262ms/step - loss: 0.0058 - val_loss: 0.0060\n",
      "Epoch 6/10\n",
      "344/344 [==============================] - 90s 262ms/step - loss: 0.0058 - val_loss: 0.0061\n",
      "Epoch 7/10\n",
      "344/344 [==============================] - 91s 263ms/step - loss: 0.0058 - val_loss: 0.0058\n",
      "Epoch 8/10\n",
      "344/344 [==============================] - 91s 263ms/step - loss: 0.0057 - val_loss: 0.0059\n",
      "Epoch 9/10\n",
      "344/344 [==============================] - 91s 263ms/step - loss: 0.0057 - val_loss: 0.0058\n",
      "Epoch 10/10\n",
      "344/344 [==============================] - 89s 259ms/step - loss: 0.0057 - val_loss: 0.0059\n"
     ]
    }
   ],
   "source": [
    "sonufy.train(mel_directory='data/mels', epochs=10, train_test_split=.02, batch_size=128)"
   ]
  },
  {
   "cell_type": "code",
   "execution_count": 12,
   "id": "fcc895e3",
   "metadata": {},
   "outputs": [
    {
     "name": "stderr",
     "output_type": "stream",
     "text": [
      "2022-09-06 13:12:04.626 WARNING absl: Found untraced functions such as _jit_compiled_convolution_op, _jit_compiled_convolution_op, _jit_compiled_convolution_op, _jit_compiled_convolution_op, _jit_compiled_convolution_op while saving (showing 5 of 6). These functions will not be directly callable after loading.\n",
      "2022-09-06 13:12:04.831 INFO    tensorflow: Assets written to: /var/folders/jy/34vkbxz97tbgm78bc07fmx380000gn/T/tmp2azyk1z6/assets\n",
      "2022-09-06 13:12:05.813651: W tensorflow/compiler/mlir/lite/python/tf_tfl_flatbuffer_helpers.cc:362] Ignored output_format.\n",
      "2022-09-06 13:12:05.813675: W tensorflow/compiler/mlir/lite/python/tf_tfl_flatbuffer_helpers.cc:365] Ignored drop_control_dependency.\n",
      "2022-09-06 13:12:05.814178: I tensorflow/cc/saved_model/reader.cc:43] Reading SavedModel from: /var/folders/jy/34vkbxz97tbgm78bc07fmx380000gn/T/tmp2azyk1z6\n",
      "2022-09-06 13:12:05.817867: I tensorflow/cc/saved_model/reader.cc:81] Reading meta graph with tags { serve }\n",
      "2022-09-06 13:12:05.817877: I tensorflow/cc/saved_model/reader.cc:122] Reading SavedModel debug info (if present) from: /var/folders/jy/34vkbxz97tbgm78bc07fmx380000gn/T/tmp2azyk1z6\n",
      "2022-09-06 13:12:05.827601: I tensorflow/compiler/mlir/mlir_graph_optimization_pass.cc:354] MLIR V1 optimization pass is not enabled\n",
      "2022-09-06 13:12:05.829831: I tensorflow/cc/saved_model/loader.cc:228] Restoring SavedModel bundle.\n",
      "2022-09-06 13:12:05.878233: I tensorflow/cc/saved_model/loader.cc:212] Running initialization op on SavedModel bundle at path: /var/folders/jy/34vkbxz97tbgm78bc07fmx380000gn/T/tmp2azyk1z6\n",
      "2022-09-06 13:12:05.899438: I tensorflow/cc/saved_model/loader.cc:301] SavedModel load for tags { serve }; Status: success: OK. Took 85259 microseconds.\n",
      "2022-09-06 13:12:05.967169: I tensorflow/compiler/mlir/tensorflow/utils/dump_mlir_util.cc:263] disabling MLIR crash reproducer, set env var `MLIR_CRASH_REPRODUCER_DIRECTORY` to enable.\n",
      "INFO: Initialized TensorFlow Lite runtime.\n"
     ]
    },
    {
     "name": "stdout",
     "output_type": "stream",
     "text": [
      "Encoder saved to \"data/test_128dim_newmels\".\n",
      "Getting predictions from autoencoder...\n",
      "[>............................................................] 130 / 37989\r"
     ]
    },
    {
     "name": "stderr",
     "output_type": "stream",
     "text": [
      "INFO: Applying 1 TensorFlow Lite delegate(s) lazily.\n"
     ]
    },
    {
     "name": "stdout",
     "output_type": "stream",
     "text": [
      "[>............................................................] 131 / 37989\r",
      "[>............................................................] 132 / 37989\r",
      "[>............................................................] 133 / 37989\r",
      "[>............................................................] 134 / 37989\r",
      "[>............................................................] 135 / 37989\r",
      "[>............................................................] 136 / 37989\r",
      "[>............................................................] 137 / 37989\r",
      "[>............................................................] 138 / 37989\r",
      "[>............................................................] 139 / 37989\r",
      "[>............................................................] 140 / 37989\r",
      "[>............................................................] 141 / 37989\r",
      "[>............................................................] 142 / 37989\r",
      "[>............................................................] 143 / 37989\r",
      "[>............................................................] 144 / 37989\r",
      "[>............................................................] 145 / 37989\r",
      "[>............................................................] 146 / 37989\r",
      "[>............................................................] 147 / 37989\r",
      "[>............................................................] 148 / 37989\r",
      "[>............................................................] 149 / 37989\r",
      "[>............................................................] 150 / 37989\r",
      "[>............................................................] 151 / 37989\r",
      "[>............................................................] 152 / 37989\r",
      "[>............................................................] 153 / 37989\r",
      "[>............................................................] 154 / 37989\r",
      "[>............................................................] 155 / 37989\r",
      "[>............................................................] 156 / 37989\r",
      "[>............................................................] 157 / 37989\r",
      "[>............................................................] 158 / 37989\r",
      "[>............................................................] 159 / 37989\r",
      "[>............................................................] 160 / 37989\r",
      "[>............................................................] 161 / 37989\r",
      "[>............................................................] 162 / 37989\r",
      "[>............................................................] 163 / 37989\r",
      "[>............................................................] 164 / 37989\r",
      "[>............................................................] 165 / 37989\r",
      "[>............................................................] 166 / 37989\r",
      "[>............................................................] 167 / 37989\r",
      "[>............................................................] 168 / 37989\r",
      "[>............................................................] 169 / 37989\r",
      "[>............................................................] 170 / 37989\r",
      "[>............................................................] 171 / 37989\r",
      "[>............................................................] 172 / 37989\r",
      "[>............................................................] 173 / 37989\r",
      "[>............................................................] 174 / 37989\r",
      "[>............................................................] 175 / 37989\r",
      "[>............................................................] 176 / 37989\r",
      "[>............................................................] 177 / 37989\r",
      "[>............................................................] 178 / 37989\r",
      "[>............................................................] 179 / 37989\r",
      "[>............................................................] 180 / 37989\r",
      "[>............................................................] 181 / 37989\r",
      "[>............................................................] 182 / 37989\r",
      "[>............................................................] 183 / 37989\r",
      "[>............................................................] 184 / 37989\r",
      "[>............................................................] 185 / 37989\r",
      "[>............................................................] 186 / 37989\r",
      "[>............................................................] 187 / 37989\r",
      "[>............................................................] 188 / 37989\r",
      "[>............................................................] 189 / 37989\r",
      "[>............................................................] 190 / 37989\r",
      "[>............................................................] 191 / 37989\r",
      "[>............................................................] 192 / 37989\r",
      "[>............................................................] 193 / 37989\r",
      "[>............................................................] 194 / 37989\r",
      "[>............................................................] 195 / 37989\r",
      "[>............................................................] 196 / 37989\r",
      "[>............................................................] 197 / 37989\r",
      "[>............................................................] 198 / 37989\r",
      "[>............................................................] 199 / 37989\r",
      "[>............................................................] 200 / 37989\r",
      "[>............................................................] 201 / 37989\r",
      "[>............................................................] 202 / 37989\r",
      "[>............................................................] 203 / 37989\r",
      "[>............................................................] 204 / 37989\r",
      "[>............................................................] 205 / 37989\r",
      "[>............................................................] 206 / 37989\r",
      "[>............................................................] 207 / 37989\r",
      "[>............................................................] 208 / 37989\r",
      "[>............................................................] 209 / 37989\r",
      "[>............................................................] 210 / 37989\r",
      "[>............................................................] 211 / 37989\r",
      "[>............................................................] 212 / 37989\r",
      "[>............................................................] 213 / 37989\r",
      "[>............................................................] 214 / 37989\r",
      "[>............................................................] 215 / 37989\r",
      "[>............................................................] 216 / 37989\r",
      "[>............................................................] 217 / 37989\r",
      "[>............................................................] 218 / 37989\r",
      "[>............................................................] 219 / 37989\r",
      "[>............................................................] 220 / 37989\r",
      "[>............................................................] 221 / 37989\r",
      "[>............................................................] 222 / 37989\r",
      "[>............................................................] 223 / 37989\r",
      "[>............................................................] 224 / 37989\r",
      "[>............................................................] 225 / 37989\r",
      "[>............................................................] 226 / 37989\r",
      "[>............................................................] 227 / 37989\r",
      "[>............................................................] 228 / 37989\r",
      "[>............................................................] 229 / 37989\r",
      "[>............................................................] 230 / 37989\r",
      "[>............................................................] 231 / 37989\r",
      "[>............................................................] 232 / 37989\r",
      "[>............................................................] 233 / 37989\r",
      "[>............................................................] 234 / 37989\r",
      "[>............................................................] 235 / 37989\r",
      "[>............................................................] 236 / 37989\r",
      "[>............................................................] 237 / 37989\r",
      "[>............................................................] 238 / 37989\r",
      "[>............................................................] 239 / 37989\r",
      "[>............................................................] 240 / 37989\r",
      "[>............................................................] 241 / 37989\r",
      "[>............................................................] 242 / 37989\r",
      "[>............................................................] 243 / 37989\r",
      "[>............................................................] 244 / 37989\r",
      "[>............................................................] 245 / 37989\r",
      "[>............................................................] 246 / 37989\r",
      "[>............................................................] 247 / 37989\r",
      "[>............................................................] 248 / 37989\r",
      "[>............................................................] 249 / 37989\r",
      "[>............................................................] 250 / 37989\r",
      "[>............................................................] 251 / 37989\r",
      "[>............................................................] 252 / 37989\r",
      "[>............................................................] 253 / 37989\r",
      "[>............................................................] 254 / 37989\r",
      "[>............................................................] 255 / 37989\r",
      "[>............................................................] 256 / 37989\r",
      "[>............................................................] 257 / 37989\r",
      "[>............................................................] 258 / 37989\r",
      "[>............................................................] 259 / 37989\r",
      "[>............................................................] 260 / 37989\r",
      "[>............................................................] 261 / 37989\r",
      "[>............................................................] 262 / 37989\r",
      "[>............................................................] 263 / 37989\r",
      "[>............................................................] 264 / 37989\r"
     ]
    },
    {
     "name": "stdout",
     "output_type": "stream",
     "text": [
      "[============================================================>] 37989 / 37989\n",
      "\n",
      "0.98 minutes elapsed\n",
      "Building tracks dataframe...\n",
      "Track dataframe built. 0.04 minutes elapsed\n",
      "Building genre distributions...\n",
      "[============================================================>] 37989 / 37989\n",
      "\n",
      "Genre distributions built. 0.17 minutes elapsed\n",
      "Latent Space Built.\n"
     ]
    },
    {
     "name": "stderr",
     "output_type": "stream",
     "text": [
      "2022-09-06 13:13:21.155 WARNING absl: Found untraced functions such as _jit_compiled_convolution_op, _jit_compiled_convolution_op, _jit_compiled_convolution_op, _jit_compiled_convolution_op, _jit_compiled_convolution_op while saving (showing 5 of 10). These functions will not be directly callable after loading.\n",
      "2022-09-06 13:13:21.760 INFO    tensorflow: Assets written to: data/test_128dim_newmels/assets\n"
     ]
    },
    {
     "name": "stdout",
     "output_type": "stream",
     "text": [
      "Model saved to \"data/test_128dim_newmels\".\n",
      "saved full model\n"
     ]
    },
    {
     "name": "stderr",
     "output_type": "stream",
     "text": [
      "2022-09-06 13:13:22.576 WARNING absl: Found untraced functions such as _jit_compiled_convolution_op, _jit_compiled_convolution_op, _jit_compiled_convolution_op, _jit_compiled_convolution_op, _jit_compiled_convolution_op while saving (showing 5 of 6). These functions will not be directly callable after loading.\n",
      "2022-09-06 13:13:22.768 INFO    tensorflow: Assets written to: /var/folders/jy/34vkbxz97tbgm78bc07fmx380000gn/T/tmpk91iqhj5/assets\n"
     ]
    },
    {
     "name": "stdout",
     "output_type": "stream",
     "text": [
      "Encoder saved to \"data/test_128dim_newmels\".\n",
      "saved encoder\n",
      "saved database files\n",
      "Saved full model, encoder, and database files in data/test_128dim_newmels.\n"
     ]
    },
    {
     "name": "stderr",
     "output_type": "stream",
     "text": [
      "2022-09-06 13:13:24.002493: W tensorflow/compiler/mlir/lite/python/tf_tfl_flatbuffer_helpers.cc:362] Ignored output_format.\n",
      "2022-09-06 13:13:24.002513: W tensorflow/compiler/mlir/lite/python/tf_tfl_flatbuffer_helpers.cc:365] Ignored drop_control_dependency.\n",
      "2022-09-06 13:13:24.002622: I tensorflow/cc/saved_model/reader.cc:43] Reading SavedModel from: /var/folders/jy/34vkbxz97tbgm78bc07fmx380000gn/T/tmpk91iqhj5\n",
      "2022-09-06 13:13:24.006233: I tensorflow/cc/saved_model/reader.cc:81] Reading meta graph with tags { serve }\n",
      "2022-09-06 13:13:24.006246: I tensorflow/cc/saved_model/reader.cc:122] Reading SavedModel debug info (if present) from: /var/folders/jy/34vkbxz97tbgm78bc07fmx380000gn/T/tmpk91iqhj5\n",
      "2022-09-06 13:13:24.018430: I tensorflow/cc/saved_model/loader.cc:228] Restoring SavedModel bundle.\n",
      "2022-09-06 13:13:24.084565: I tensorflow/cc/saved_model/loader.cc:212] Running initialization op on SavedModel bundle at path: /var/folders/jy/34vkbxz97tbgm78bc07fmx380000gn/T/tmpk91iqhj5\n",
      "2022-09-06 13:13:24.132884: I tensorflow/cc/saved_model/loader.cc:301] SavedModel load for tags { serve }; Status: success: OK. Took 130273 microseconds.\n"
     ]
    }
   ],
   "source": [
    "sonufy.save_encoder('data/test_128dim_newmels')\n",
    "# sonufy.load_encoder('data/test_128dim_256filters')\n",
    "sonufy.build_vectors_from_model(mel_directory='data/mels', all_tracks_file='data/all_tracks_shuffled.feather')\n",
    "sonufy.save('data/test_128dim_newmels')"
   ]
  },
  {
   "cell_type": "code",
   "execution_count": 13,
   "id": "5f2c7321",
   "metadata": {},
   "outputs": [
    {
     "data": {
      "text/plain": [
       "<matplotlib.image.AxesImage at 0x337274400>"
      ]
     },
     "execution_count": 13,
     "metadata": {},
     "output_type": "execute_result"
    },
    {
     "data": {
      "image/png": "[encoded data removed]",
      "text/plain": [
       "<Figure size 432x288 with 1 Axes>"
      ]
     },
     "metadata": {
      "needs_background": "light"
     },
     "output_type": "display_data"
    }
   ],
   "source": [
    "test_img = adg.take(3)[0]\n",
    "\n",
    "plt.imshow(test_img[0], origin='lower')"
   ]
  },
  {
   "cell_type": "code",
   "execution_count": 14,
   "id": "02d542c3",
   "metadata": {},
   "outputs": [
    {
     "data": {
      "text/plain": [
       "<matplotlib.image.AxesImage at 0x2da580310>"
      ]
     },
     "execution_count": 14,
     "metadata": {},
     "output_type": "execute_result"
    },
    {
     "data": {
      "image/png": "[encoded data removed]",
      "text/plain": [
       "<Figure size 432x288 with 1 Axes>"
      ]
     },
     "metadata": {
      "needs_background": "light"
     },
     "output_type": "display_data"
    }
   ],
   "source": [
    "plt.imshow(sonufy.autoencoder(test_img)[0], origin='lower')"
   ]
  },
  {
   "cell_type": "code",
   "execution_count": 57,
   "id": "b5f7905e",
   "metadata": {},
   "outputs": [
    {
     "name": "stderr",
     "output_type": "stream",
     "text": [
      "/Users/michaelroth/miniforge3/envs/golden_env/lib/python3.9/site-packages/sklearn/base.py:450: UserWarning: X does not have valid feature names, but StandardScaler was fitted with feature names\n",
      "  warnings.warn(\n"
     ]
    }
   ],
   "source": [
    "a, b, c, d = sonufy.search_for_recommendations(query='otis redding', get_time_and_freq=True)"
   ]
  },
  {
   "cell_type": "code",
   "execution_count": 58,
   "id": "aa482ae6",
   "metadata": {},
   "outputs": [
    {
     "data": {
      "text/plain": [
       "\"(Sittin' On) the Dock of the Bay\""
      ]
     },
     "execution_count": 58,
     "metadata": {},
     "output_type": "execute_result"
    }
   ],
   "source": [
    "a['name']"
   ]
  },
  {
   "cell_type": "code",
   "execution_count": 59,
   "id": "fb5804c7",
   "metadata": {},
   "outputs": [
    {
     "data": {
      "text/html": [
       "<div>\n",
       "<style scoped>\n",
       "    .dataframe tbody tr th:only-of-type {\n",
       "        vertical-align: middle;\n",
       "    }\n",
       "\n",
       "    .dataframe tbody tr th {\n",
       "        vertical-align: top;\n",
       "    }\n",
       "\n",
       "    .dataframe thead th {\n",
       "        text-align: right;\n",
       "    }\n",
       "</style>\n",
       "<table border=\"1\" class=\"dataframe\">\n",
       "  <thead>\n",
       "    <tr style=\"text-align: right;\">\n",
       "      <th></th>\n",
       "      <th>track_name</th>\n",
       "      <th>track_uri</th>\n",
       "      <th>artist_name</th>\n",
       "      <th>similarity</th>\n",
       "      <th>track_popularity</th>\n",
       "      <th>time_similarity</th>\n",
       "      <th>frequency_similarity</th>\n",
       "    </tr>\n",
       "  </thead>\n",
       "  <tbody>\n",
       "    <tr>\n",
       "      <th>0</th>\n",
       "      <td>Afternoon Cha Cha</td>\n",
       "      <td>spotify:track:1kPuH7qlVupIVlwY5y6xIN</td>\n",
       "      <td>Young &amp; Rollins</td>\n",
       "      <td>0.806065</td>\n",
       "      <td>15</td>\n",
       "      <td>0.833670</td>\n",
       "      <td>0.799538</td>\n",
       "    </tr>\n",
       "    <tr>\n",
       "      <th>1</th>\n",
       "      <td>Saving Words For Making Sense</td>\n",
       "      <td>spotify:track:1t71mp3aGnBhxYj6hsjLER</td>\n",
       "      <td>The Six Parts Seven</td>\n",
       "      <td>0.777454</td>\n",
       "      <td>29</td>\n",
       "      <td>0.768814</td>\n",
       "      <td>0.794469</td>\n",
       "    </tr>\n",
       "    <tr>\n",
       "      <th>2</th>\n",
       "      <td>Baba Hanuman</td>\n",
       "      <td>spotify:track:43Edxm7SOLxR2ex68TAvwP</td>\n",
       "      <td>Shantala</td>\n",
       "      <td>0.744090</td>\n",
       "      <td>44</td>\n",
       "      <td>0.783537</td>\n",
       "      <td>0.716314</td>\n",
       "    </tr>\n",
       "    <tr>\n",
       "      <th>3</th>\n",
       "      <td>Fuujin</td>\n",
       "      <td>spotify:track:5DCoLrFYSma4p3LucCOYW0</td>\n",
       "      <td>KyoShinDo</td>\n",
       "      <td>0.744086</td>\n",
       "      <td>14</td>\n",
       "      <td>0.776819</td>\n",
       "      <td>0.714139</td>\n",
       "    </tr>\n",
       "    <tr>\n",
       "      <th>4</th>\n",
       "      <td>You'll Be in the Air</td>\n",
       "      <td>spotify:track:69LQk9kc8Cx4gUofPDnQ0H</td>\n",
       "      <td>The Microphones</td>\n",
       "      <td>0.743500</td>\n",
       "      <td>37</td>\n",
       "      <td>0.756358</td>\n",
       "      <td>0.735847</td>\n",
       "    </tr>\n",
       "    <tr>\n",
       "      <th>5</th>\n",
       "      <td>Needles &amp; Pins</td>\n",
       "      <td>spotify:track:1mdTP7WLslCd9TuQMeK9lo</td>\n",
       "      <td>Canyon City</td>\n",
       "      <td>0.742782</td>\n",
       "      <td>41</td>\n",
       "      <td>0.676880</td>\n",
       "      <td>0.799785</td>\n",
       "    </tr>\n",
       "    <tr>\n",
       "      <th>6</th>\n",
       "      <td>Hot House</td>\n",
       "      <td>spotify:track:5fGTAvOMgucBP6xyPGwHza</td>\n",
       "      <td>Barry Harris</td>\n",
       "      <td>0.741854</td>\n",
       "      <td>15</td>\n",
       "      <td>0.739458</td>\n",
       "      <td>0.745513</td>\n",
       "    </tr>\n",
       "    <tr>\n",
       "      <th>7</th>\n",
       "      <td>Love Awakening</td>\n",
       "      <td>spotify:track:6ee6gj8UjEB3jKVDlZ3y4F</td>\n",
       "      <td>Patrick Bernard</td>\n",
       "      <td>0.741552</td>\n",
       "      <td>24</td>\n",
       "      <td>0.695262</td>\n",
       "      <td>0.793759</td>\n",
       "    </tr>\n",
       "    <tr>\n",
       "      <th>8</th>\n",
       "      <td>Rashida</td>\n",
       "      <td>spotify:track:2atdukJfTQFsrMhsou7v45</td>\n",
       "      <td>Jon Lucien</td>\n",
       "      <td>0.740766</td>\n",
       "      <td>18</td>\n",
       "      <td>0.770955</td>\n",
       "      <td>0.714015</td>\n",
       "    </tr>\n",
       "    <tr>\n",
       "      <th>9</th>\n",
       "      <td>Wake Up</td>\n",
       "      <td>spotify:track:4KBkvLQHcC4OyKK9MJwHs9</td>\n",
       "      <td>Cornerstone Roots</td>\n",
       "      <td>0.740651</td>\n",
       "      <td>37</td>\n",
       "      <td>0.842777</td>\n",
       "      <td>0.642096</td>\n",
       "    </tr>\n",
       "  </tbody>\n",
       "</table>\n",
       "</div>"
      ],
      "text/plain": [
       "                      track_name                             track_uri  \\\n",
       "0              Afternoon Cha Cha  spotify:track:1kPuH7qlVupIVlwY5y6xIN   \n",
       "1  Saving Words For Making Sense  spotify:track:1t71mp3aGnBhxYj6hsjLER   \n",
       "2                   Baba Hanuman  spotify:track:43Edxm7SOLxR2ex68TAvwP   \n",
       "3                         Fuujin  spotify:track:5DCoLrFYSma4p3LucCOYW0   \n",
       "4           You'll Be in the Air  spotify:track:69LQk9kc8Cx4gUofPDnQ0H   \n",
       "5                 Needles & Pins  spotify:track:1mdTP7WLslCd9TuQMeK9lo   \n",
       "6                      Hot House  spotify:track:5fGTAvOMgucBP6xyPGwHza   \n",
       "7                 Love Awakening  spotify:track:6ee6gj8UjEB3jKVDlZ3y4F   \n",
       "8                        Rashida  spotify:track:2atdukJfTQFsrMhsou7v45   \n",
       "9                        Wake Up  spotify:track:4KBkvLQHcC4OyKK9MJwHs9   \n",
       "\n",
       "           artist_name  similarity  track_popularity  time_similarity  \\\n",
       "0      Young & Rollins    0.806065                15         0.833670   \n",
       "1  The Six Parts Seven    0.777454                29         0.768814   \n",
       "2             Shantala    0.744090                44         0.783537   \n",
       "3            KyoShinDo    0.744086                14         0.776819   \n",
       "4      The Microphones    0.743500                37         0.756358   \n",
       "5          Canyon City    0.742782                41         0.676880   \n",
       "6         Barry Harris    0.741854                15         0.739458   \n",
       "7      Patrick Bernard    0.741552                24         0.695262   \n",
       "8           Jon Lucien    0.740766                18         0.770955   \n",
       "9    Cornerstone Roots    0.740651                37         0.842777   \n",
       "\n",
       "   frequency_similarity  \n",
       "0              0.799538  \n",
       "1              0.794469  \n",
       "2              0.716314  \n",
       "3              0.714139  \n",
       "4              0.735847  \n",
       "5              0.799785  \n",
       "6              0.745513  \n",
       "7              0.793759  \n",
       "8              0.714015  \n",
       "9              0.642096  "
      ]
     },
     "execution_count": 59,
     "metadata": {},
     "output_type": "execute_result"
    }
   ],
   "source": [
    "b"
   ]
  },
  {
   "cell_type": "code",
   "execution_count": 52,
   "id": "a06caefa",
   "metadata": {},
   "outputs": [],
   "source": [
    "similarity_img = np.concatenate([np.array(d), np.array(c[sonufy.latent_cols])])"
   ]
  },
  {
   "cell_type": "code",
   "execution_count": 53,
   "id": "1ab75303",
   "metadata": {},
   "outputs": [
    {
     "data": {
      "text/plain": [
       "<matplotlib.image.AxesImage at 0x335ea3550>"
      ]
     },
     "execution_count": 53,
     "metadata": {},
     "output_type": "execute_result"
    },
    {
     "data": {
      "image/png": "[encoded data removed]",
      "text/plain": [
       "<Figure size 1440x720 with 1 Axes>"
      ]
     },
     "metadata": {
      "needs_background": "light"
     },
     "output_type": "display_data"
    }
   ],
   "source": [
    "plt.figure(figsize=(20,10))\n",
    "plt.imshow(similarity_img, aspect=5)"
   ]
  },
  {
   "cell_type": "code",
   "execution_count": 20,
   "id": "1f78b5cb",
   "metadata": {},
   "outputs": [],
   "source": [
    "from sklearn.metrics import mean_squared_error, mean_absolute_error"
   ]
  },
  {
   "cell_type": "code",
   "execution_count": 21,
   "id": "78728c63",
   "metadata": {},
   "outputs": [
    {
     "data": {
      "text/plain": [
       "0.006619183788885841"
      ]
     },
     "execution_count": 21,
     "metadata": {},
     "output_type": "execute_result"
    }
   ],
   "source": [
    "mean_squared_error(test_img[0].reshape(64,64), np.array(sonufy.autoencoder(test_img)[0]).reshape(64,64))"
   ]
  },
  {
   "cell_type": "code",
   "execution_count": null,
   "id": "e7114893",
   "metadata": {},
   "outputs": [],
   "source": []
  }
 ],
 "metadata": {
  "kernelspec": {
   "display_name": "Python 3 (ipykernel)",
   "language": "python",
   "name": "python3"
  },
  "language_info": {
   "codemirror_mode": {
    "name": "ipython",
    "version": 3
   },
   "file_extension": ".py",
   "mimetype": "text/x-python",
   "name": "python",
   "nbconvert_exporter": "python",
   "pygments_lexer": "ipython3",
   "version": "3.9.13"
  }
 },
 "nbformat": 4,
 "nbformat_minor": 5
}

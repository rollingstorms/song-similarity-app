{
 "cells": [
  {
   "cell_type": "code",
   "execution_count": 1,
   "id": "9018371a",
   "metadata": {},
   "outputs": [],
   "source": [
    "from src.Sonufy import *\n",
    "from src.AudioDataGenerator import AudioDataGenerator\n",
    "import matplotlib.pyplot as plt"
   ]
  },
  {
   "cell_type": "code",
   "execution_count": 75,
   "id": "77bc456a",
   "metadata": {},
   "outputs": [
    {
     "name": "stdout",
     "output_type": "stream",
     "text": [
      "Found 49958 files for prediction set\n"
     ]
    }
   ],
   "source": [
    "adg = AudioDataGenerator(batch_size=32, input_size=(64,1030), output_size=(64,64), directory='data/mels', shorten_factor=2)"
   ]
  },
  {
   "cell_type": "code",
   "execution_count": 76,
   "id": "9b932cb2",
   "metadata": {},
   "outputs": [],
   "source": [
    "sonufy = Sonufy(latent_dims=128, output_size=(64,64), final_shorten_factor=2)"
   ]
  },
  {
   "cell_type": "code",
   "execution_count": 4,
   "id": "0afa1804",
   "metadata": {},
   "outputs": [],
   "source": [
    "sonufy.build_model(filters=(16,32,64))"
   ]
  },
  {
   "cell_type": "code",
   "execution_count": 61,
   "id": "bc1fcd6d",
   "metadata": {},
   "outputs": [
    {
     "name": "stdout",
     "output_type": "stream",
     "text": [
      "Found 46572 files for training set\n",
      "Found 951 files for testing set\n",
      "Epoch 1/10\n",
      "363/363 [==============================] - 94s 257ms/step - loss: 0.0057 - val_loss: 0.0057\n",
      "Epoch 2/10\n",
      "363/363 [==============================] - 96s 264ms/step - loss: 0.0056 - val_loss: 0.0056\n",
      "Epoch 3/10\n",
      "363/363 [==============================] - 99s 271ms/step - loss: 0.0056 - val_loss: 0.0055\n",
      "Epoch 4/10\n",
      "363/363 [==============================] - 98s 271ms/step - loss: 0.0056 - val_loss: 0.0056\n",
      "Epoch 5/10\n",
      "363/363 [==============================] - 98s 269ms/step - loss: 0.0056 - val_loss: 0.0054\n",
      "Epoch 6/10\n",
      "363/363 [==============================] - 94s 260ms/step - loss: 0.0055 - val_loss: 0.0054\n",
      "Epoch 7/10\n",
      "363/363 [==============================] - 92s 253ms/step - loss: 0.0055 - val_loss: 0.0054\n",
      "Epoch 8/10\n",
      "363/363 [==============================] - 92s 253ms/step - loss: 0.0055 - val_loss: 0.0058\n",
      "Epoch 9/10\n",
      "363/363 [==============================] - 91s 249ms/step - loss: 0.0055 - val_loss: 0.0056\n",
      "Epoch 10/10\n",
      "363/363 [==============================] - 92s 254ms/step - loss: 0.0055 - val_loss: 0.0053\n"
     ]
    }
   ],
   "source": [
    "sonufy.train(mel_directory='data/mels', epochs=10, train_test_split=.02, batch_size=128)"
   ]
  },
  {
   "cell_type": "code",
   "execution_count": 77,
   "id": "fcc895e3",
   "metadata": {},
   "outputs": [
    {
     "name": "stdout",
     "output_type": "stream",
     "text": [
      "Getting predictions from autoencoder...\n",
      "[>............................................................] 1 / 50015\r",
      "[>............................................................] 2 / 50015\r",
      "[>............................................................] 3 / 50015\r",
      "[>............................................................] 4 / 50015\r",
      "[>............................................................] 5 / 50015\r",
      "[>............................................................] 6 / 50015\r",
      "[>............................................................] 7 / 50015\r",
      "[>............................................................] 8 / 50015\r",
      "[>............................................................] 9 / 50015\r",
      "[>............................................................] 10 / 50015\r",
      "[>............................................................] 11 / 50015\r",
      "[>............................................................] 12 / 50015\r",
      "[>............................................................] 13 / 50015\r",
      "[>............................................................] 14 / 50015\r",
      "[>............................................................] 15 / 50015\r",
      "[>............................................................] 16 / 50015\r",
      "[>............................................................] 17 / 50015\r",
      "[>............................................................] 18 / 50015\r",
      "[>............................................................] 19 / 50015\r",
      "[>............................................................] 20 / 50015\r",
      "[>............................................................] 21 / 50015\r",
      "[>............................................................] 22 / 50015\r",
      "[>............................................................] 23 / 50015\r",
      "[>............................................................] 24 / 50015\r",
      "[>............................................................] 25 / 50015\r",
      "[>............................................................] 26 / 50015\r",
      "[>............................................................] 27 / 50015\r",
      "[>............................................................] 28 / 50015\r",
      "[>............................................................] 29 / 50015\r",
      "[>............................................................] 30 / 50015\r",
      "[>............................................................] 31 / 50015\r",
      "[>............................................................] 32 / 50015\r",
      "[>............................................................] 33 / 50015\r",
      "[>............................................................] 34 / 50015\r",
      "[>............................................................] 35 / 50015\r",
      "[>............................................................] 36 / 50015\r",
      "[>............................................................] 37 / 50015\r",
      "[>............................................................] 38 / 50015\r",
      "[>............................................................] 39 / 50015\r",
      "[>............................................................] 40 / 50015\r",
      "[>............................................................] 41 / 50015\r",
      "[>............................................................] 42 / 50015\r",
      "[>............................................................] 43 / 50015\r",
      "[>............................................................] 44 / 50015\r",
      "[>............................................................] 45 / 50015\r",
      "[>............................................................] 46 / 50015\r",
      "[>............................................................] 47 / 50015\r",
      "[>............................................................] 48 / 50015\r",
      "[>............................................................] 49 / 50015\r",
      "[>............................................................] 50 / 50015\r",
      "[>............................................................] 51 / 50015\r",
      "[>............................................................] 52 / 50015\r",
      "[>............................................................] 53 / 50015\r",
      "[>............................................................] 54 / 50015\r",
      "[>............................................................] 55 / 50015\r",
      "[>............................................................] 56 / 50015\r"
     ]
    },
    {
     "name": "stderr",
     "output_type": "stream",
     "text": [
      "INFO: Applying 1 TensorFlow Lite delegate(s) lazily.\n"
     ]
    },
    {
     "name": "stdout",
     "output_type": "stream",
     "text": [
      "[============================================================>] 50015 / 50015\n",
      "\n",
      "2.69 minutes elapsed\n",
      "Building tracks dataframe...\n",
      "Track dataframe built. 0.07 minutes elapsed\n",
      "Building genre distributions...\n",
      "[============================================================>] 50015 / 50015\n",
      "\n",
      "Genre distributions built. 0.26 minutes elapsed\n",
      "Latent Space Built.\n",
      "failed to save full model\n",
      "failed to save encoder\n",
      "saved database files\n",
      "Saved full model, encoder, and database files in data/test_128dim_newmels.\n"
     ]
    }
   ],
   "source": [
    "# sonufy.save_encoder('data/test_128dim_newmels')\n",
    "sonufy.load_encoder('data/test_128dim_newmels')\n",
    "sonufy.build_vectors_from_model(mel_directory='data/mels', all_tracks_file='data/all_tracks_shuffled.feather')\n",
    "sonufy.save('data/test_128dim_newmels')"
   ]
  },
  {
   "cell_type": "code",
   "execution_count": 80,
   "id": "329b9881",
   "metadata": {},
   "outputs": [
    {
     "name": "stdout",
     "output_type": "stream",
     "text": [
      "Autoencoder loaded from \"data/test_128dim_newmels/\".\n"
     ]
    }
   ],
   "source": [
    "sonufy.load_full_model('data/test_128dim_newmels/')"
   ]
  },
  {
   "cell_type": "code",
   "execution_count": 81,
   "id": "5f2c7321",
   "metadata": {},
   "outputs": [
    {
     "data": {
      "text/plain": [
       "<matplotlib.image.AxesImage at 0x294595f70>"
      ]
     },
     "execution_count": 81,
     "metadata": {},
     "output_type": "execute_result"
    },
    {
     "data": {
      "image/png": "[encoded data removed]",
      "text/plain": [
       "<Figure size 432x288 with 1 Axes>"
      ]
     },
     "metadata": {
      "needs_background": "light"
     },
     "output_type": "display_data"
    }
   ],
   "source": [
    "test_img = adg.take(3)[0]\n",
    "\n",
    "plt.imshow(test_img[0], origin='lower')"
   ]
  },
  {
   "cell_type": "code",
   "execution_count": 82,
   "id": "02d542c3",
   "metadata": {},
   "outputs": [
    {
     "data": {
      "text/plain": [
       "<matplotlib.image.AxesImage at 0x2945095e0>"
      ]
     },
     "execution_count": 82,
     "metadata": {},
     "output_type": "execute_result"
    },
    {
     "data": {
      "image/png": "[encoded data removed]",
      "text/plain": [
       "<Figure size 432x288 with 1 Axes>"
      ]
     },
     "metadata": {
      "needs_background": "light"
     },
     "output_type": "display_data"
    }
   ],
   "source": [
    "plt.imshow(sonufy.autoencoder(test_img)[0], origin='lower')"
   ]
  },
  {
   "cell_type": "code",
   "execution_count": 89,
   "id": "b5f7905e",
   "metadata": {},
   "outputs": [
    {
     "name": "stderr",
     "output_type": "stream",
     "text": [
      "/Users/michaelroth/miniforge3/envs/golden_env/lib/python3.9/site-packages/sklearn/base.py:450: UserWarning: X does not have valid feature names, but StandardScaler was fitted with feature names\n",
      "  warnings.warn(\n"
     ]
    }
   ],
   "source": [
    "a, b, c, d = sonufy.search_for_recommendations(query='miranda the beat im not your baby', get_time_and_freq=True)"
   ]
  },
  {
   "cell_type": "code",
   "execution_count": 90,
   "id": "aa482ae6",
   "metadata": {},
   "outputs": [
    {
     "data": {
      "text/plain": [
       "\"I'm Not Your Baby\""
      ]
     },
     "execution_count": 90,
     "metadata": {},
     "output_type": "execute_result"
    }
   ],
   "source": [
    "a['name']"
   ]
  },
  {
   "cell_type": "code",
   "execution_count": 91,
   "id": "fb5804c7",
   "metadata": {},
   "outputs": [
    {
     "data": {
      "text/html": [
       "<div>\n",
       "<style scoped>\n",
       "    .dataframe tbody tr th:only-of-type {\n",
       "        vertical-align: middle;\n",
       "    }\n",
       "\n",
       "    .dataframe tbody tr th {\n",
       "        vertical-align: top;\n",
       "    }\n",
       "\n",
       "    .dataframe thead th {\n",
       "        text-align: right;\n",
       "    }\n",
       "</style>\n",
       "<table border=\"1\" class=\"dataframe\">\n",
       "  <thead>\n",
       "    <tr style=\"text-align: right;\">\n",
       "      <th></th>\n",
       "      <th>track_name</th>\n",
       "      <th>track_uri</th>\n",
       "      <th>artist_name</th>\n",
       "      <th>similarity</th>\n",
       "      <th>track_popularity</th>\n",
       "      <th>time_similarity</th>\n",
       "      <th>frequency_similarity</th>\n",
       "    </tr>\n",
       "  </thead>\n",
       "  <tbody>\n",
       "    <tr>\n",
       "      <th>0</th>\n",
       "      <td>Show Luv</td>\n",
       "      <td>spotify:track:2SbAcN6cMTrtGeTFA5rqDe</td>\n",
       "      <td>Norman Doray</td>\n",
       "      <td>0.660897</td>\n",
       "      <td>47</td>\n",
       "      <td>0.562613</td>\n",
       "      <td>0.721256</td>\n",
       "    </tr>\n",
       "    <tr>\n",
       "      <th>1</th>\n",
       "      <td>Bütün Bunlar Düş</td>\n",
       "      <td>spotify:track:1hfbYajgvpuxEfRc4CS4Ha</td>\n",
       "      <td>Grizu</td>\n",
       "      <td>0.659068</td>\n",
       "      <td>29</td>\n",
       "      <td>0.572616</td>\n",
       "      <td>0.746341</td>\n",
       "    </tr>\n",
       "    <tr>\n",
       "      <th>2</th>\n",
       "      <td>Phantom Surfer</td>\n",
       "      <td>spotify:track:6p0mV7Z8wp72S4Yje9y0JO</td>\n",
       "      <td>The Tornadoes</td>\n",
       "      <td>0.658832</td>\n",
       "      <td>13</td>\n",
       "      <td>0.598454</td>\n",
       "      <td>0.684735</td>\n",
       "    </tr>\n",
       "    <tr>\n",
       "      <th>3</th>\n",
       "      <td>Livin' on Livin' - Remastered</td>\n",
       "      <td>spotify:track:5ZfxcD6566VPqaoi4plbuQ</td>\n",
       "      <td>Lords Of The New Church</td>\n",
       "      <td>0.658427</td>\n",
       "      <td>17</td>\n",
       "      <td>0.531939</td>\n",
       "      <td>0.738830</td>\n",
       "    </tr>\n",
       "    <tr>\n",
       "      <th>4</th>\n",
       "      <td>La Corrida - Radio Edit</td>\n",
       "      <td>spotify:track:1D4cwJylq9njeGZ8XbiTqn</td>\n",
       "      <td>Stage Rockers</td>\n",
       "      <td>0.657795</td>\n",
       "      <td>18</td>\n",
       "      <td>0.538076</td>\n",
       "      <td>0.713320</td>\n",
       "    </tr>\n",
       "    <tr>\n",
       "      <th>5</th>\n",
       "      <td>Tenth of Eleven Child</td>\n",
       "      <td>spotify:track:2H3gLI1ZxDj9did37atwRj</td>\n",
       "      <td>Louie Anderson</td>\n",
       "      <td>0.657764</td>\n",
       "      <td>17</td>\n",
       "      <td>0.470789</td>\n",
       "      <td>0.724196</td>\n",
       "    </tr>\n",
       "    <tr>\n",
       "      <th>6</th>\n",
       "      <td>Ronnie's Song</td>\n",
       "      <td>spotify:track:0PxDHhVLWXUsrmbBKaEP11</td>\n",
       "      <td>Jimmie Van Zant Band</td>\n",
       "      <td>0.645535</td>\n",
       "      <td>17</td>\n",
       "      <td>0.668624</td>\n",
       "      <td>0.645492</td>\n",
       "    </tr>\n",
       "    <tr>\n",
       "      <th>7</th>\n",
       "      <td>Switch It</td>\n",
       "      <td>spotify:track:2wOPoAiNCFiIWBKpUxyUUL</td>\n",
       "      <td>Robbie Rivera</td>\n",
       "      <td>0.645407</td>\n",
       "      <td>47</td>\n",
       "      <td>0.586550</td>\n",
       "      <td>0.719956</td>\n",
       "    </tr>\n",
       "    <tr>\n",
       "      <th>8</th>\n",
       "      <td>pogo</td>\n",
       "      <td>spotify:track:404b6bC4GIxPsNssJmfC1f</td>\n",
       "      <td>Diplo</td>\n",
       "      <td>0.643643</td>\n",
       "      <td>70</td>\n",
       "      <td>0.542660</td>\n",
       "      <td>0.715875</td>\n",
       "    </tr>\n",
       "    <tr>\n",
       "      <th>9</th>\n",
       "      <td>Our Life is Your Death</td>\n",
       "      <td>spotify:track:3EJh3uKp52NCP10bPlSBRX</td>\n",
       "      <td>Deathspell Omega</td>\n",
       "      <td>0.641465</td>\n",
       "      <td>24</td>\n",
       "      <td>0.590884</td>\n",
       "      <td>0.744100</td>\n",
       "    </tr>\n",
       "  </tbody>\n",
       "</table>\n",
       "</div>"
      ],
      "text/plain": [
       "                      track_name                             track_uri  \\\n",
       "0                       Show Luv  spotify:track:2SbAcN6cMTrtGeTFA5rqDe   \n",
       "1               Bütün Bunlar Düş  spotify:track:1hfbYajgvpuxEfRc4CS4Ha   \n",
       "2                 Phantom Surfer  spotify:track:6p0mV7Z8wp72S4Yje9y0JO   \n",
       "3  Livin' on Livin' - Remastered  spotify:track:5ZfxcD6566VPqaoi4plbuQ   \n",
       "4        La Corrida - Radio Edit  spotify:track:1D4cwJylq9njeGZ8XbiTqn   \n",
       "5          Tenth of Eleven Child  spotify:track:2H3gLI1ZxDj9did37atwRj   \n",
       "6                  Ronnie's Song  spotify:track:0PxDHhVLWXUsrmbBKaEP11   \n",
       "7                      Switch It  spotify:track:2wOPoAiNCFiIWBKpUxyUUL   \n",
       "8                           pogo  spotify:track:404b6bC4GIxPsNssJmfC1f   \n",
       "9         Our Life is Your Death  spotify:track:3EJh3uKp52NCP10bPlSBRX   \n",
       "\n",
       "               artist_name  similarity  track_popularity  time_similarity  \\\n",
       "0             Norman Doray    0.660897                47         0.562613   \n",
       "1                    Grizu    0.659068                29         0.572616   \n",
       "2            The Tornadoes    0.658832                13         0.598454   \n",
       "3  Lords Of The New Church    0.658427                17         0.531939   \n",
       "4            Stage Rockers    0.657795                18         0.538076   \n",
       "5           Louie Anderson    0.657764                17         0.470789   \n",
       "6     Jimmie Van Zant Band    0.645535                17         0.668624   \n",
       "7            Robbie Rivera    0.645407                47         0.586550   \n",
       "8                    Diplo    0.643643                70         0.542660   \n",
       "9         Deathspell Omega    0.641465                24         0.590884   \n",
       "\n",
       "   frequency_similarity  \n",
       "0              0.721256  \n",
       "1              0.746341  \n",
       "2              0.684735  \n",
       "3              0.738830  \n",
       "4              0.713320  \n",
       "5              0.724196  \n",
       "6              0.645492  \n",
       "7              0.719956  \n",
       "8              0.715875  \n",
       "9              0.744100  "
      ]
     },
     "execution_count": 91,
     "metadata": {},
     "output_type": "execute_result"
    }
   ],
   "source": [
    "b"
   ]
  },
  {
   "cell_type": "code",
   "execution_count": 92,
   "id": "a06caefa",
   "metadata": {},
   "outputs": [],
   "source": [
    "similarity_img = np.concatenate([np.array(d), np.array(c[sonufy.latent_cols])])"
   ]
  },
  {
   "cell_type": "code",
   "execution_count": 93,
   "id": "1ab75303",
   "metadata": {},
   "outputs": [
    {
     "data": {
      "text/plain": [
       "<matplotlib.image.AxesImage at 0x2f96dc1f0>"
      ]
     },
     "execution_count": 93,
     "metadata": {},
     "output_type": "execute_result"
    },
    {
     "data": {
      "image/png": "[encoded data removed]",
      "text/plain": [
       "<Figure size 1440x720 with 1 Axes>"
      ]
     },
     "metadata": {
      "needs_background": "light"
     },
     "output_type": "display_data"
    }
   ],
   "source": [
    "plt.figure(figsize=(20,10))\n",
    "plt.imshow(similarity_img, aspect=5)"
   ]
  },
  {
   "cell_type": "code",
   "execution_count": 70,
   "id": "9b3494f7",
   "metadata": {},
   "outputs": [],
   "source": [
    "from sklearn.metrics import mean_squared_error, mean_absolute_error"
   ]
  },
  {
   "cell_type": "code",
   "execution_count": 71,
   "id": "433cdc7c",
   "metadata": {},
   "outputs": [
    {
     "data": {
      "text/plain": [
       "0.008464583422193032"
      ]
     },
     "execution_count": 71,
     "metadata": {},
     "output_type": "execute_result"
    }
   ],
   "source": [
    "mean_squared_error(test_img[0].reshape(64,64), np.array(sonufy.autoencoder(test_img)[0]).reshape(64,64))"
   ]
  },
  {
   "cell_type": "code",
   "execution_count": null,
   "id": "ceb1980a",
   "metadata": {},
   "outputs": [],
   "source": []
  }
 ],
 "metadata": {
  "kernelspec": {
   "display_name": "Python 3 (ipykernel)",
   "language": "python",
   "name": "python3"
  },
  "language_info": {
   "codemirror_mode": {
    "name": "ipython",
    "version": 3
   },
   "file_extension": ".py",
   "mimetype": "text/x-python",
   "name": "python",
   "nbconvert_exporter": "python",
   "pygments_lexer": "ipython3",
   "version": "3.9.13"
  }
 },
 "nbformat": 4,
 "nbformat_minor": 5
}

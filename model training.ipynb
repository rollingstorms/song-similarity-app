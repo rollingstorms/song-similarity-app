{
 "cells": [
  {
   "cell_type": "code",
   "execution_count": 1,
   "id": "8ab40533",
   "metadata": {},
   "outputs": [],
   "source": [
    "from src.Sonufy import *\n",
    "from src.AudioDataGenerator import AudioDataGenerator\n",
    "import matplotlib.pyplot as plt"
   ]
  },
  {
   "cell_type": "code",
   "execution_count": 2,
   "id": "f7a48bd3",
   "metadata": {},
   "outputs": [
    {
     "name": "stdout",
     "output_type": "stream",
     "text": [
      "Found 150182 files for prediction set\n"
     ]
    }
   ],
   "source": [
    "adg = AudioDataGenerator(batch_size=32, input_size=(64,1030), output_size=(64,64), directory='data/mels', shorten_factor=2)"
   ]
  },
  {
   "cell_type": "code",
   "execution_count": 3,
   "id": "a8049150",
   "metadata": {},
   "outputs": [],
   "source": [
    "sonufy = Sonufy(latent_dims=256, output_size=(64,64), shorten_factor=2)"
   ]
  },
  {
   "cell_type": "code",
   "execution_count": 4,
   "id": "c2345d82",
   "metadata": {},
   "outputs": [],
   "source": [
    "sonufy.build_model()"
   ]
  },
  {
   "cell_type": "code",
   "execution_count": null,
   "id": "1ece51c7",
   "metadata": {},
   "outputs": [
    {
     "name": "stdout",
     "output_type": "stream",
     "text": [
      "Found 98000 files for training set\n",
      "Found 2000 files for testing set\n",
      "Epoch 1/20\n"
     ]
    },
    {
     "name": "stderr",
     "output_type": "stream",
     "text": [
      "2022-09-02 14:56:46.691998: W tensorflow/core/platform/profile_utils/cpu_utils.cc:128] Failed to get CPU frequency: 0 Hz\n"
     ]
    },
    {
     "name": "stdout",
     "output_type": "stream",
     "text": [
      "765/765 [==============================] - 179s 232ms/step - loss: 0.0058 - val_loss: 0.0043\n",
      "Epoch 2/20\n",
      "765/765 [==============================] - 177s 232ms/step - loss: 0.0036 - val_loss: 0.0034\n",
      "Epoch 3/20\n",
      "765/765 [==============================] - 177s 231ms/step - loss: 0.0030 - val_loss: 0.0028\n",
      "Epoch 4/20\n",
      "163/765 [=====>........................] - ETA: 2:14 - loss: 0.0028"
     ]
    }
   ],
   "source": [
    "sonufy.train(mel_directory='data/mels', epochs=20, train_test_split=.02, sample_size=100000)"
   ]
  },
  {
   "cell_type": "code",
   "execution_count": null,
   "id": "c100e481",
   "metadata": {},
   "outputs": [],
   "source": [
    "sonufy.save_full_model('data/test_model_256/')\n",
    "# sonufy.load_full_model('data/test_model_short/')"
   ]
  },
  {
   "cell_type": "code",
   "execution_count": null,
   "id": "3b940741",
   "metadata": {},
   "outputs": [],
   "source": [
    "sonufy.save_encoder('data/test_encoder_short_256')\n",
    "# sonufy.load_encoder('data/test_encoder_short2')\n",
    "sonufy.build_vectors_from_model(mel_directory='data/mels', all_tracks_file='data/all_tracks_shuffled.feather')\n",
    "sonufy.save_db('data/test_db_short_256')\n",
    "# sonufy.load_db('data/test_db_short2')"
   ]
  },
  {
   "cell_type": "code",
   "execution_count": null,
   "id": "dc7fe80d",
   "metadata": {},
   "outputs": [],
   "source": [
    "test_img = adg.take(2)[0]\n",
    "\n",
    "plt.imshow(test_img[0], origin='lower')"
   ]
  },
  {
   "cell_type": "code",
   "execution_count": null,
   "id": "7eaac156",
   "metadata": {},
   "outputs": [],
   "source": [
    "plt.imshow(sonufy.autoencoder(test_img)[0], origin='lower')"
   ]
  },
  {
   "cell_type": "code",
   "execution_count": null,
   "id": "c0ff9227",
   "metadata": {},
   "outputs": [],
   "source": [
    "a, b, c, d = sonufy.search_for_recommendations(query='material girl madonna', get_time_and_freq=True)"
   ]
  },
  {
   "cell_type": "code",
   "execution_count": null,
   "id": "2b309766",
   "metadata": {},
   "outputs": [],
   "source": [
    "a['name']"
   ]
  },
  {
   "cell_type": "code",
   "execution_count": null,
   "id": "1c1b3933",
   "metadata": {},
   "outputs": [],
   "source": [
    "b"
   ]
  },
  {
   "cell_type": "code",
   "execution_count": null,
   "id": "353567e2",
   "metadata": {},
   "outputs": [],
   "source": [
    "similarity_img = np.concatenate([np.array(d), np.array(c[sonufy.latent_cols])])"
   ]
  },
  {
   "cell_type": "code",
   "execution_count": null,
   "id": "ae813f1e",
   "metadata": {},
   "outputs": [],
   "source": [
    "plt.figure(figsize=(20,10))\n",
    "plt.imshow(similarity_img, aspect=5)"
   ]
  },
  {
   "cell_type": "code",
   "execution_count": null,
   "id": "92f70a17",
   "metadata": {},
   "outputs": [],
   "source": []
  }
 ],
 "metadata": {
  "kernelspec": {
   "display_name": "Python 3 (ipykernel)",
   "language": "python",
   "name": "python3"
  },
  "language_info": {
   "codemirror_mode": {
    "name": "ipython",
    "version": 3
   },
   "file_extension": ".py",
   "mimetype": "text/x-python",
   "name": "python",
   "nbconvert_exporter": "python",
   "pygments_lexer": "ipython3",
   "version": "3.9.13"
  }
 },
 "nbformat": 4,
 "nbformat_minor": 5
}

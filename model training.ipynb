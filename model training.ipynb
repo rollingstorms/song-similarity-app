{
 "cells": [
  {
   "cell_type": "code",
   "execution_count": 1,
   "id": "9018371a",
   "metadata": {},
   "outputs": [],
   "source": [
    "from src.Sonufy import *\n",
    "from src.AudioDataGenerator import AudioDataGenerator\n",
    "import matplotlib.pyplot as plt"
   ]
  },
  {
   "cell_type": "code",
   "execution_count": 2,
   "id": "77bc456a",
   "metadata": {},
   "outputs": [
    {
     "name": "stdout",
     "output_type": "stream",
     "text": [
      "Found 131278 files for prediction set\n"
     ]
    }
   ],
   "source": [
    "adg = AudioDataGenerator(batch_size=32, input_size=(64,1030), output_size=(64,64), directory='data/mels', shorten_factor=2)"
   ]
  },
  {
   "cell_type": "code",
   "execution_count": 68,
   "id": "9b932cb2",
   "metadata": {},
   "outputs": [],
   "source": [
    "sonufy = Sonufy(latent_dims=128, output_size=(64,64), final_shorten_factor=2)"
   ]
  },
  {
   "cell_type": "code",
   "execution_count": 69,
   "id": "0afa1804",
   "metadata": {},
   "outputs": [],
   "source": [
    "sonufy.build_model(filters=(16,32,64,256))"
   ]
  },
  {
   "cell_type": "code",
   "execution_count": 70,
   "id": "bc1fcd6d",
   "metadata": {},
   "outputs": [
    {
     "name": "stdout",
     "output_type": "stream",
     "text": [
      "Found 98000 files for training set\n",
      "Found 2000 files for testing set\n",
      "Epoch 1/10\n",
      "765/765 [==============================] - 363s 473ms/step - loss: 0.0106 - val_loss: 0.0072\n",
      "Epoch 2/10\n",
      "765/765 [==============================] - 365s 477ms/step - loss: 0.0068 - val_loss: 0.0065\n",
      "Epoch 3/10\n",
      "765/765 [==============================] - 368s 480ms/step - loss: 0.0063 - val_loss: 0.0059\n",
      "Epoch 4/10\n",
      "765/765 [==============================] - 368s 481ms/step - loss: 0.0058 - val_loss: 0.0056\n",
      "Epoch 5/10\n",
      "765/765 [==============================] - 374s 489ms/step - loss: 0.0054 - val_loss: 0.0053\n",
      "Epoch 6/10\n",
      "765/765 [==============================] - 389s 508ms/step - loss: 0.0051 - val_loss: 0.0049\n",
      "Epoch 7/10\n",
      "765/765 [==============================] - 389s 508ms/step - loss: 0.0049 - val_loss: 0.0047\n",
      "Epoch 8/10\n",
      "765/765 [==============================] - 402s 525ms/step - loss: 0.0047 - val_loss: 0.0046\n",
      "Epoch 9/10\n",
      "765/765 [==============================] - 423s 552ms/step - loss: 0.0046 - val_loss: 0.0045\n",
      "Epoch 10/10\n",
      "765/765 [==============================] - 399s 520ms/step - loss: 0.0046 - val_loss: 0.0044\n"
     ]
    }
   ],
   "source": [
    "sonufy.train(mel_directory='data/mels', epochs=10, train_test_split=.02, batch_size=128, sample_size=100000)"
   ]
  },
  {
   "cell_type": "code",
   "execution_count": 71,
   "id": "fcc895e3",
   "metadata": {},
   "outputs": [
    {
     "name": "stderr",
     "output_type": "stream",
     "text": [
      "2022-09-07 23:21:49.144 WARNING absl: Found untraced functions such as _jit_compiled_convolution_op, _jit_compiled_convolution_op, _jit_compiled_convolution_op, _jit_compiled_convolution_op, _jit_compiled_convolution_op while saving (showing 5 of 8). These functions will not be directly callable after loading.\n",
      "2022-09-07 23:21:49.405 INFO    tensorflow: Assets written to: /var/folders/jy/34vkbxz97tbgm78bc07fmx380000gn/T/tmp9p3ucorf/assets\n",
      "2022-09-07 23:21:51.158020: W tensorflow/compiler/mlir/lite/python/tf_tfl_flatbuffer_helpers.cc:362] Ignored output_format.\n",
      "2022-09-07 23:21:51.158047: W tensorflow/compiler/mlir/lite/python/tf_tfl_flatbuffer_helpers.cc:365] Ignored drop_control_dependency.\n",
      "2022-09-07 23:21:51.158143: I tensorflow/cc/saved_model/reader.cc:43] Reading SavedModel from: /var/folders/jy/34vkbxz97tbgm78bc07fmx380000gn/T/tmp9p3ucorf\n",
      "2022-09-07 23:21:51.161337: I tensorflow/cc/saved_model/reader.cc:81] Reading meta graph with tags { serve }\n",
      "2022-09-07 23:21:51.161345: I tensorflow/cc/saved_model/reader.cc:122] Reading SavedModel debug info (if present) from: /var/folders/jy/34vkbxz97tbgm78bc07fmx380000gn/T/tmp9p3ucorf\n",
      "2022-09-07 23:21:51.175348: I tensorflow/cc/saved_model/loader.cc:228] Restoring SavedModel bundle.\n",
      "2022-09-07 23:21:51.258540: I tensorflow/cc/saved_model/loader.cc:212] Running initialization op on SavedModel bundle at path: /var/folders/jy/34vkbxz97tbgm78bc07fmx380000gn/T/tmp9p3ucorf\n",
      "2022-09-07 23:21:51.300082: I tensorflow/cc/saved_model/loader.cc:301] SavedModel load for tags { serve }; Status: success: OK. Took 141929 microseconds.\n"
     ]
    },
    {
     "name": "stdout",
     "output_type": "stream",
     "text": [
      "Encoder saved to \"data/test_128dim_256f\".\n",
      "Getting predictions from autoencoder...\n",
      "[>............................................................] 65 / 137615\r"
     ]
    },
    {
     "name": "stderr",
     "output_type": "stream",
     "text": [
      "INFO: Applying 1 TensorFlow Lite delegate(s) lazily.\n"
     ]
    },
    {
     "name": "stdout",
     "output_type": "stream",
     "text": [
      "[============================================================>] 137615 / 137615\n",
      "\n",
      "6.53 minutes elapsed\n",
      "Building tracks dataframe...\n",
      "Track dataframe built. 0.16 minutes elapsed\n",
      "Building genre distributions...\n",
      "[============================================================>] 137615 / 137615\n",
      "\n",
      "Genre distributions built. 0.7 minutes elapsed\n",
      "Latent Space Built.\n"
     ]
    },
    {
     "name": "stderr",
     "output_type": "stream",
     "text": [
      "2022-09-07 23:29:20.729 WARNING absl: Found untraced functions such as _jit_compiled_convolution_op, _jit_compiled_convolution_op, _jit_compiled_convolution_op, _jit_compiled_convolution_op, _jit_compiled_convolution_op while saving (showing 5 of 13). These functions will not be directly callable after loading.\n",
      "2022-09-07 23:29:21.550 INFO    tensorflow: Assets written to: data/test_128dim_256f/assets\n"
     ]
    },
    {
     "name": "stdout",
     "output_type": "stream",
     "text": [
      "Model saved to \"data/test_128dim_256f\".\n",
      "saved full model\n"
     ]
    },
    {
     "name": "stderr",
     "output_type": "stream",
     "text": [
      "2022-09-07 23:29:22.456 WARNING absl: Found untraced functions such as _jit_compiled_convolution_op, _jit_compiled_convolution_op, _jit_compiled_convolution_op, _jit_compiled_convolution_op, _jit_compiled_convolution_op while saving (showing 5 of 8). These functions will not be directly callable after loading.\n",
      "2022-09-07 23:29:22.709 INFO    tensorflow: Assets written to: /var/folders/jy/34vkbxz97tbgm78bc07fmx380000gn/T/tmp1bqk0cug/assets\n",
      "2022-09-07 23:29:23.856081: W tensorflow/compiler/mlir/lite/python/tf_tfl_flatbuffer_helpers.cc:362] Ignored output_format.\n",
      "2022-09-07 23:29:23.856099: W tensorflow/compiler/mlir/lite/python/tf_tfl_flatbuffer_helpers.cc:365] Ignored drop_control_dependency.\n",
      "2022-09-07 23:29:23.856198: I tensorflow/cc/saved_model/reader.cc:43] Reading SavedModel from: /var/folders/jy/34vkbxz97tbgm78bc07fmx380000gn/T/tmp1bqk0cug\n",
      "2022-09-07 23:29:23.859991: I tensorflow/cc/saved_model/reader.cc:81] Reading meta graph with tags { serve }\n",
      "2022-09-07 23:29:23.860010: I tensorflow/cc/saved_model/reader.cc:122] Reading SavedModel debug info (if present) from: /var/folders/jy/34vkbxz97tbgm78bc07fmx380000gn/T/tmp1bqk0cug\n",
      "2022-09-07 23:29:23.874054: I tensorflow/cc/saved_model/loader.cc:228] Restoring SavedModel bundle.\n",
      "2022-09-07 23:29:23.931819: I tensorflow/cc/saved_model/loader.cc:212] Running initialization op on SavedModel bundle at path: /var/folders/jy/34vkbxz97tbgm78bc07fmx380000gn/T/tmp1bqk0cug\n",
      "2022-09-07 23:29:23.957055: I tensorflow/cc/saved_model/loader.cc:301] SavedModel load for tags { serve }; Status: success: OK. Took 100855 microseconds.\n"
     ]
    },
    {
     "name": "stdout",
     "output_type": "stream",
     "text": [
      "Encoder saved to \"data/test_128dim_256f\".\n",
      "saved encoder\n",
      "saved database files\n",
      "Saved full model, encoder, and database files in data/test_128dim_256f.\n"
     ]
    }
   ],
   "source": [
    "sonufy.save_encoder('data/test_128dim_256f')\n",
    "sonufy.build_vectors_from_model(mel_directory='data/mels', all_tracks_file='data/all_tracks_shuffled.feather')\n",
    "sonufy.save('data/test_128dim_256f')"
   ]
  },
  {
   "cell_type": "code",
   "execution_count": 35,
   "id": "52aeb292",
   "metadata": {},
   "outputs": [],
   "source": [
    "# sonufy.load('data/test_128dim_newmels/')"
   ]
  },
  {
   "cell_type": "code",
   "execution_count": 72,
   "id": "45df502b",
   "metadata": {},
   "outputs": [],
   "source": [
    "test_img = adg.take(6)[0]\n",
    "test_img2 = adg.take(0)[0]"
   ]
  },
  {
   "cell_type": "markdown",
   "id": "04e0c7d4",
   "metadata": {},
   "source": [
    "Two separate images taken from different tracks:"
   ]
  },
  {
   "cell_type": "code",
   "execution_count": 73,
   "id": "5f2c7321",
   "metadata": {},
   "outputs": [
    {
     "data": {
      "image/png": "[encoded data removed]",
      "text/plain": [
       "<Figure size 432x288 with 1 Axes>"
      ]
     },
     "metadata": {
      "needs_background": "light"
     },
     "output_type": "display_data"
    },
    {
     "data": {
      "image/png": "[encoded data removed]",
      "text/plain": [
       "<Figure size 432x288 with 1 Axes>"
      ]
     },
     "metadata": {
      "needs_background": "light"
     },
     "output_type": "display_data"
    }
   ],
   "source": [
    "plt.imshow(test_img[0], origin='lower')\n",
    "plt.show()\n",
    "plt.imshow(test_img2[0], origin='lower')\n",
    "plt.show()"
   ]
  },
  {
   "cell_type": "markdown",
   "id": "3c590a0d",
   "metadata": {},
   "source": [
    "Autoencoder predictions for those images."
   ]
  },
  {
   "cell_type": "code",
   "execution_count": 74,
   "id": "02d542c3",
   "metadata": {},
   "outputs": [
    {
     "data": {
      "image/png": "[encoded data removed]",
      "text/plain": [
       "<Figure size 432x288 with 1 Axes>"
      ]
     },
     "metadata": {
      "needs_background": "light"
     },
     "output_type": "display_data"
    },
    {
     "data": {
      "image/png": "[encoded data removed]",
      "text/plain": [
       "<Figure size 432x288 with 1 Axes>"
      ]
     },
     "metadata": {
      "needs_background": "light"
     },
     "output_type": "display_data"
    }
   ],
   "source": [
    "plt.imshow(sonufy.autoencoder(test_img)[0], origin='lower')\n",
    "plt.show()\n",
    "plt.imshow(sonufy.autoencoder(test_img2)[0], origin='lower')\n",
    "plt.show()"
   ]
  },
  {
   "cell_type": "markdown",
   "id": "21756a9a",
   "metadata": {},
   "source": [
    "Distribution comparison between two images."
   ]
  },
  {
   "cell_type": "code",
   "execution_count": 75,
   "id": "40f9931a",
   "metadata": {},
   "outputs": [
    {
     "data": {
      "image/png": "[encoded data removed]",
      "text/plain": [
       "<Figure size 432x288 with 1 Axes>"
      ]
     },
     "metadata": {
      "needs_background": "light"
     },
     "output_type": "display_data"
    }
   ],
   "source": [
    "plt.hist(np.array(test_img[0]).reshape(-1), alpha=0.5, label='img1')\n",
    "plt.hist(np.array(test_img2[0]).reshape(-1), alpha=0.5, label='img2')\n",
    "plt.legend()\n",
    "plt.show()"
   ]
  },
  {
   "cell_type": "markdown",
   "id": "d37ceaca",
   "metadata": {},
   "source": [
    "Distribution comparision between one image and the prediction."
   ]
  },
  {
   "cell_type": "code",
   "execution_count": 76,
   "id": "56ba4386",
   "metadata": {},
   "outputs": [
    {
     "data": {
      "image/png": "[encoded data removed]",
      "text/plain": [
       "<Figure size 432x288 with 1 Axes>"
      ]
     },
     "metadata": {
      "needs_background": "light"
     },
     "output_type": "display_data"
    }
   ],
   "source": [
    "plt.hist(np.array(test_img[0]).reshape(-1), alpha=0.5, label='original')\n",
    "plt.hist(np.array(sonufy.autoencoder(test_img)[0]).reshape(-1), alpha=0.5, label='prediction')\n",
    "plt.legend()\n",
    "plt.show()"
   ]
  },
  {
   "cell_type": "markdown",
   "id": "7bb7c92e",
   "metadata": {},
   "source": [
    "comparison between encoded original and encoded prediction"
   ]
  },
  {
   "cell_type": "code",
   "execution_count": 77,
   "id": "64d81539",
   "metadata": {},
   "outputs": [
    {
     "data": {
      "text/plain": [
       "<matplotlib.image.AxesImage at 0x30331b040>"
      ]
     },
     "execution_count": 77,
     "metadata": {},
     "output_type": "execute_result"
    },
    {
     "data": {
      "image/png": "[encoded data removed]",
      "text/plain": [
       "<Figure size 1440x360 with 1 Axes>"
      ]
     },
     "metadata": {
      "needs_background": "light"
     },
     "output_type": "display_data"
    }
   ],
   "source": [
    "concat_img = np.array([sonufy.autoencoder.encoder(sonufy.autoencoder(test_img))[0], sonufy.autoencoder.encoder(test_img)[0]])\n",
    "plt.figure(figsize=(20,5))\n",
    "plt.imshow(concat_img, aspect=8)"
   ]
  },
  {
   "cell_type": "markdown",
   "id": "1342713e",
   "metadata": {},
   "source": [
    "compare encoded between two images"
   ]
  },
  {
   "cell_type": "code",
   "execution_count": 78,
   "id": "25abdfc9",
   "metadata": {},
   "outputs": [
    {
     "data": {
      "text/plain": [
       "<matplotlib.image.AxesImage at 0x3033b6a00>"
      ]
     },
     "execution_count": 78,
     "metadata": {},
     "output_type": "execute_result"
    },
    {
     "data": {
      "image/png": "[encoded data removed]",
      "text/plain": [
       "<Figure size 1440x360 with 1 Axes>"
      ]
     },
     "metadata": {
      "needs_background": "light"
     },
     "output_type": "display_data"
    }
   ],
   "source": [
    "concat_img_compare = np.array([sonufy.autoencoder.encoder(sonufy.autoencoder(test_img))[0], sonufy.autoencoder.encoder(sonufy.autoencoder(test_img2))[0]])\n",
    "plt.figure(figsize=(20,5))\n",
    "plt.imshow(concat_img_compare, aspect=8)"
   ]
  },
  {
   "cell_type": "markdown",
   "id": "a05a79a8",
   "metadata": {},
   "source": [
    "compare encoded between two images and the mean of the first image batch."
   ]
  },
  {
   "cell_type": "code",
   "execution_count": 79,
   "id": "e8134660",
   "metadata": {},
   "outputs": [
    {
     "data": {
      "text/plain": [
       "<matplotlib.image.AxesImage at 0x30351dfd0>"
      ]
     },
     "execution_count": 79,
     "metadata": {},
     "output_type": "execute_result"
    },
    {
     "data": {
      "image/png": "[encoded data removed]",
      "text/plain": [
       "<Figure size 1440x360 with 1 Axes>"
      ]
     },
     "metadata": {
      "needs_background": "light"
     },
     "output_type": "display_data"
    }
   ],
   "source": [
    "concat_img_compare = np.array([np.array(sonufy.autoencoder.encoder(sonufy.autoencoder(test_img))).mean(axis=0), sonufy.autoencoder.encoder(sonufy.autoencoder(test_img))[0], sonufy.autoencoder.encoder(sonufy.autoencoder(test_img2))[0]])\n",
    "plt.figure(figsize=(20,5))\n",
    "plt.imshow(concat_img_compare, aspect=8)"
   ]
  },
  {
   "cell_type": "markdown",
   "id": "3f42e56a",
   "metadata": {},
   "source": [
    "Look at the scale of each feature in the encoded space. Needs to be scaled which is what is happening later on."
   ]
  },
  {
   "cell_type": "code",
   "execution_count": 80,
   "id": "bb5679b6",
   "metadata": {},
   "outputs": [
    {
     "data": {
      "text/plain": [
       "0     -1.616902\n",
       "1      3.454361\n",
       "2      5.993553\n",
       "3     -8.783822\n",
       "4     -6.750288\n",
       "         ...   \n",
       "123   -2.424132\n",
       "124   -2.480509\n",
       "125   -4.369854\n",
       "126   -2.485764\n",
       "127    5.420264\n",
       "Length: 128, dtype: float32"
      ]
     },
     "execution_count": 80,
     "metadata": {},
     "output_type": "execute_result"
    }
   ],
   "source": [
    "pd.Series(np.array(sonufy.autoencoder.encoder(test_img)[0]).reshape(-1))"
   ]
  },
  {
   "cell_type": "code",
   "execution_count": 81,
   "id": "97c38020",
   "metadata": {},
   "outputs": [
    {
     "data": {
      "text/plain": [
       "(128,)"
      ]
     },
     "execution_count": 81,
     "metadata": {},
     "output_type": "execute_result"
    }
   ],
   "source": [
    "concat_img_compare[0].shape"
   ]
  },
  {
   "cell_type": "markdown",
   "id": "9ca79a05",
   "metadata": {},
   "source": [
    "heat map cosine similarity between encoded images for entire batch vs batch"
   ]
  },
  {
   "cell_type": "code",
   "execution_count": 82,
   "id": "7a4e1f69",
   "metadata": {},
   "outputs": [
    {
     "data": {
      "image/png": "[encoded data removed]",
      "text/plain": [
       "<Figure size 720x720 with 2 Axes>"
      ]
     },
     "metadata": {
      "needs_background": "light"
     },
     "output_type": "display_data"
    }
   ],
   "source": [
    "from sklearn.metrics.pairwise import cosine_similarity\n",
    "\n",
    "plt.figure(figsize=(10,10))\n",
    "plt.imshow(cosine_similarity(sonufy.autoencoder.encoder(test_img), sonufy.autoencoder.encoder(test_img2)), cmap='magma')\n",
    "plt.xticks(ticks=range(32))\n",
    "plt.yticks(ticks=range(32))\n",
    "plt.colorbar()\n",
    "plt.show()"
   ]
  },
  {
   "cell_type": "markdown",
   "id": "2c2dbb63",
   "metadata": {},
   "source": [
    "cosine similarity between mean and the entire batch of the second image."
   ]
  },
  {
   "cell_type": "code",
   "execution_count": 83,
   "id": "b9da8d32",
   "metadata": {},
   "outputs": [
    {
     "data": {
      "image/png": "[encoded data removed]",
      "text/plain": [
       "<Figure size 720x720 with 1 Axes>"
      ]
     },
     "metadata": {
      "needs_background": "light"
     },
     "output_type": "display_data"
    }
   ],
   "source": [
    "plt.figure(figsize=(10,10))\n",
    "plt.imshow(cosine_similarity(np.array(sonufy.autoencoder.encoder(test_img)).mean(axis=0).reshape(1,-1), sonufy.autoencoder.encoder(test_img2)), cmap='magma')\n",
    "plt.xticks(ticks=range(32))\n",
    "plt.show()"
   ]
  },
  {
   "cell_type": "markdown",
   "id": "44c3618a",
   "metadata": {},
   "source": [
    "cosine similarity between encoded space of the mean of the two images."
   ]
  },
  {
   "cell_type": "code",
   "execution_count": 84,
   "id": "999f5ae7",
   "metadata": {},
   "outputs": [
    {
     "data": {
      "text/plain": [
       "array([[0.7597375]], dtype=float32)"
      ]
     },
     "execution_count": 84,
     "metadata": {},
     "output_type": "execute_result"
    }
   ],
   "source": [
    "cosine_similarity(np.array(sonufy.autoencoder.encoder(test_img)).mean(axis=0).reshape(1,-1), np.array(sonufy.autoencoder.encoder(test_img2)).mean(axis=0).reshape(1,-1))\n"
   ]
  },
  {
   "cell_type": "code",
   "execution_count": 87,
   "id": "b5f7905e",
   "metadata": {},
   "outputs": [
    {
     "name": "stderr",
     "output_type": "stream",
     "text": [
      "/Users/michaelroth/miniforge3/envs/golden_env/lib/python3.9/site-packages/sklearn/base.py:450: UserWarning: X does not have valid feature names, but StandardScaler was fitted with feature names\n",
      "  warnings.warn(\n"
     ]
    }
   ],
   "source": [
    "a, b, c, d = sonufy.search_for_recommendations(query='uncontrollable urge', get_time_and_freq=True)"
   ]
  },
  {
   "cell_type": "code",
   "execution_count": 88,
   "id": "aa482ae6",
   "metadata": {},
   "outputs": [
    {
     "data": {
      "text/plain": [
       "'Uncontrollable Urge'"
      ]
     },
     "execution_count": 88,
     "metadata": {},
     "output_type": "execute_result"
    }
   ],
   "source": [
    "a['name']"
   ]
  },
  {
   "cell_type": "code",
   "execution_count": 89,
   "id": "fb5804c7",
   "metadata": {},
   "outputs": [
    {
     "data": {
      "text/html": [
       "<div>\n",
       "<style scoped>\n",
       "    .dataframe tbody tr th:only-of-type {\n",
       "        vertical-align: middle;\n",
       "    }\n",
       "\n",
       "    .dataframe tbody tr th {\n",
       "        vertical-align: top;\n",
       "    }\n",
       "\n",
       "    .dataframe thead th {\n",
       "        text-align: right;\n",
       "    }\n",
       "</style>\n",
       "<table border=\"1\" class=\"dataframe\">\n",
       "  <thead>\n",
       "    <tr style=\"text-align: right;\">\n",
       "      <th></th>\n",
       "      <th>track_name</th>\n",
       "      <th>track_uri</th>\n",
       "      <th>artist_name</th>\n",
       "      <th>similarity</th>\n",
       "      <th>track_popularity</th>\n",
       "      <th>time_similarity</th>\n",
       "      <th>frequency_similarity</th>\n",
       "    </tr>\n",
       "  </thead>\n",
       "  <tbody>\n",
       "    <tr>\n",
       "      <th>0</th>\n",
       "      <td>Shoot Your Shot</td>\n",
       "      <td>spotify:track:70d20IUPSFrxkg6DmeYEA5</td>\n",
       "      <td>Divine</td>\n",
       "      <td>0.725755</td>\n",
       "      <td>23</td>\n",
       "      <td>0.681182</td>\n",
       "      <td>0.758513</td>\n",
       "    </tr>\n",
       "    <tr>\n",
       "      <th>1</th>\n",
       "      <td>Turn the Radio On</td>\n",
       "      <td>spotify:track:0YSHsWugAqvfIAAhVXEYla</td>\n",
       "      <td>The Suburbs</td>\n",
       "      <td>0.699571</td>\n",
       "      <td>18</td>\n",
       "      <td>0.659911</td>\n",
       "      <td>0.737921</td>\n",
       "    </tr>\n",
       "    <tr>\n",
       "      <th>2</th>\n",
       "      <td>Short Change</td>\n",
       "      <td>spotify:track:67IDs9DldgnvbSrNg6wNa3</td>\n",
       "      <td>The Spencer Davis Group</td>\n",
       "      <td>0.684947</td>\n",
       "      <td>34</td>\n",
       "      <td>0.589661</td>\n",
       "      <td>0.754254</td>\n",
       "    </tr>\n",
       "    <tr>\n",
       "      <th>3</th>\n",
       "      <td>Pile! No Pile! Pile!</td>\n",
       "      <td>spotify:track:7wu00QzPN5gnGLBdbxtXwD</td>\n",
       "      <td>Brave Little Abacus</td>\n",
       "      <td>0.683060</td>\n",
       "      <td>37</td>\n",
       "      <td>0.573747</td>\n",
       "      <td>0.776775</td>\n",
       "    </tr>\n",
       "    <tr>\n",
       "      <th>4</th>\n",
       "      <td>Do You Miss Me?</td>\n",
       "      <td>spotify:track:0iKEAMGAY5HySUJoqYg9Lq</td>\n",
       "      <td>Neverstore</td>\n",
       "      <td>0.677825</td>\n",
       "      <td>19</td>\n",
       "      <td>0.571237</td>\n",
       "      <td>0.749787</td>\n",
       "    </tr>\n",
       "    <tr>\n",
       "      <th>5</th>\n",
       "      <td>The Auld Triangle</td>\n",
       "      <td>spotify:track:3Z80Oi7leKcs5zQhKDL0GD</td>\n",
       "      <td>Damien Dempsey</td>\n",
       "      <td>0.675680</td>\n",
       "      <td>22</td>\n",
       "      <td>0.527760</td>\n",
       "      <td>0.793061</td>\n",
       "    </tr>\n",
       "    <tr>\n",
       "      <th>6</th>\n",
       "      <td>Tonight - New Version 1989</td>\n",
       "      <td>spotify:track:04K5cqXcYaDaI4d7kRnuAh</td>\n",
       "      <td>The Rubettes</td>\n",
       "      <td>0.665314</td>\n",
       "      <td>37</td>\n",
       "      <td>0.608525</td>\n",
       "      <td>0.713595</td>\n",
       "    </tr>\n",
       "    <tr>\n",
       "      <th>7</th>\n",
       "      <td>Dub Organizer</td>\n",
       "      <td>spotify:track:7kPhhekWV5aGqHswCmnTBH</td>\n",
       "      <td>Augustus Pablo</td>\n",
       "      <td>0.663478</td>\n",
       "      <td>43</td>\n",
       "      <td>0.592280</td>\n",
       "      <td>0.735270</td>\n",
       "    </tr>\n",
       "    <tr>\n",
       "      <th>8</th>\n",
       "      <td>California</td>\n",
       "      <td>spotify:track:22yJ0ejEpEz9s0WRPl2Y8D</td>\n",
       "      <td>Quasi</td>\n",
       "      <td>0.659928</td>\n",
       "      <td>19</td>\n",
       "      <td>0.694219</td>\n",
       "      <td>0.647648</td>\n",
       "    </tr>\n",
       "    <tr>\n",
       "      <th>9</th>\n",
       "      <td>Cursing Concrete</td>\n",
       "      <td>spotify:track:7Dr8fMfYoVviKMrVVMhRfw</td>\n",
       "      <td>Rumbleseat</td>\n",
       "      <td>0.658255</td>\n",
       "      <td>40</td>\n",
       "      <td>0.579705</td>\n",
       "      <td>0.724636</td>\n",
       "    </tr>\n",
       "  </tbody>\n",
       "</table>\n",
       "</div>"
      ],
      "text/plain": [
       "                   track_name                             track_uri  \\\n",
       "0             Shoot Your Shot  spotify:track:70d20IUPSFrxkg6DmeYEA5   \n",
       "1           Turn the Radio On  spotify:track:0YSHsWugAqvfIAAhVXEYla   \n",
       "2                Short Change  spotify:track:67IDs9DldgnvbSrNg6wNa3   \n",
       "3        Pile! No Pile! Pile!  spotify:track:7wu00QzPN5gnGLBdbxtXwD   \n",
       "4             Do You Miss Me?  spotify:track:0iKEAMGAY5HySUJoqYg9Lq   \n",
       "5           The Auld Triangle  spotify:track:3Z80Oi7leKcs5zQhKDL0GD   \n",
       "6  Tonight - New Version 1989  spotify:track:04K5cqXcYaDaI4d7kRnuAh   \n",
       "7               Dub Organizer  spotify:track:7kPhhekWV5aGqHswCmnTBH   \n",
       "8                  California  spotify:track:22yJ0ejEpEz9s0WRPl2Y8D   \n",
       "9            Cursing Concrete  spotify:track:7Dr8fMfYoVviKMrVVMhRfw   \n",
       "\n",
       "               artist_name  similarity  track_popularity  time_similarity  \\\n",
       "0                   Divine    0.725755                23         0.681182   \n",
       "1              The Suburbs    0.699571                18         0.659911   \n",
       "2  The Spencer Davis Group    0.684947                34         0.589661   \n",
       "3      Brave Little Abacus    0.683060                37         0.573747   \n",
       "4               Neverstore    0.677825                19         0.571237   \n",
       "5           Damien Dempsey    0.675680                22         0.527760   \n",
       "6             The Rubettes    0.665314                37         0.608525   \n",
       "7           Augustus Pablo    0.663478                43         0.592280   \n",
       "8                    Quasi    0.659928                19         0.694219   \n",
       "9               Rumbleseat    0.658255                40         0.579705   \n",
       "\n",
       "   frequency_similarity  \n",
       "0              0.758513  \n",
       "1              0.737921  \n",
       "2              0.754254  \n",
       "3              0.776775  \n",
       "4              0.749787  \n",
       "5              0.793061  \n",
       "6              0.713595  \n",
       "7              0.735270  \n",
       "8              0.647648  \n",
       "9              0.724636  "
      ]
     },
     "execution_count": 89,
     "metadata": {},
     "output_type": "execute_result"
    }
   ],
   "source": [
    "b"
   ]
  },
  {
   "cell_type": "code",
   "execution_count": 92,
   "id": "9ecdf581",
   "metadata": {},
   "outputs": [
    {
     "name": "stderr",
     "output_type": "stream",
     "text": [
      "2022-09-07 23:33:38.654 WARNING absl: Found untraced functions such as _jit_compiled_convolution_op, _jit_compiled_convolution_op, _jit_compiled_convolution_op, _jit_compiled_convolution_op, _jit_compiled_convolution_op while saving (showing 5 of 13). These functions will not be directly callable after loading.\n",
      "2022-09-07 23:33:39.506 INFO    tensorflow: Assets written to: data/test_128dim_256f/assets\n"
     ]
    },
    {
     "name": "stdout",
     "output_type": "stream",
     "text": [
      "Model saved to \"data/test_128dim_256f/\".\n",
      "saved full model\n"
     ]
    },
    {
     "name": "stderr",
     "output_type": "stream",
     "text": [
      "2022-09-07 23:33:40.478 WARNING absl: Found untraced functions such as _jit_compiled_convolution_op, _jit_compiled_convolution_op, _jit_compiled_convolution_op, _jit_compiled_convolution_op, _jit_compiled_convolution_op while saving (showing 5 of 8). These functions will not be directly callable after loading.\n",
      "2022-09-07 23:33:40.822 INFO    tensorflow: Assets written to: /var/folders/jy/34vkbxz97tbgm78bc07fmx380000gn/T/tmpybt4souc/assets\n",
      "2022-09-07 23:33:41.862939: W tensorflow/compiler/mlir/lite/python/tf_tfl_flatbuffer_helpers.cc:362] Ignored output_format.\n",
      "2022-09-07 23:33:41.862959: W tensorflow/compiler/mlir/lite/python/tf_tfl_flatbuffer_helpers.cc:365] Ignored drop_control_dependency.\n",
      "2022-09-07 23:33:41.863044: I tensorflow/cc/saved_model/reader.cc:43] Reading SavedModel from: /var/folders/jy/34vkbxz97tbgm78bc07fmx380000gn/T/tmpybt4souc\n",
      "2022-09-07 23:33:41.879787: I tensorflow/cc/saved_model/reader.cc:81] Reading meta graph with tags { serve }\n",
      "2022-09-07 23:33:41.879804: I tensorflow/cc/saved_model/reader.cc:122] Reading SavedModel debug info (if present) from: /var/folders/jy/34vkbxz97tbgm78bc07fmx380000gn/T/tmpybt4souc\n",
      "2022-09-07 23:33:41.892887: I tensorflow/cc/saved_model/loader.cc:228] Restoring SavedModel bundle.\n",
      "2022-09-07 23:33:41.945587: I tensorflow/cc/saved_model/loader.cc:212] Running initialization op on SavedModel bundle at path: /var/folders/jy/34vkbxz97tbgm78bc07fmx380000gn/T/tmpybt4souc\n",
      "2022-09-07 23:33:41.970321: I tensorflow/cc/saved_model/loader.cc:301] SavedModel load for tags { serve }; Status: success: OK. Took 107278 microseconds.\n"
     ]
    },
    {
     "name": "stdout",
     "output_type": "stream",
     "text": [
      "Encoder saved to \"data/test_128dim_256f/\".\n",
      "saved encoder\n",
      "saved database files\n",
      "Saved full model, encoder, and database files in data/test_128dim_256f/.\n"
     ]
    }
   ],
   "source": [
    "sonufy.save('data/test_128dim_256f/')"
   ]
  },
  {
   "cell_type": "code",
   "execution_count": 49,
   "id": "a06caefa",
   "metadata": {},
   "outputs": [],
   "source": [
    "similarity_img = np.concatenate([np.array(d), np.array(c[sonufy.latent_cols])])"
   ]
  },
  {
   "cell_type": "code",
   "execution_count": 50,
   "id": "1ab75303",
   "metadata": {},
   "outputs": [
    {
     "data": {
      "text/plain": [
       "<matplotlib.image.AxesImage at 0x2c35dc6a0>"
      ]
     },
     "execution_count": 50,
     "metadata": {},
     "output_type": "execute_result"
    },
    {
     "data": {
      "image/png": "[encoded data removed]",
      "text/plain": [
       "<Figure size 1440x720 with 1 Axes>"
      ]
     },
     "metadata": {
      "needs_background": "light"
     },
     "output_type": "display_data"
    }
   ],
   "source": [
    "plt.figure(figsize=(20,10))\n",
    "plt.imshow(similarity_img, aspect=5)"
   ]
  },
  {
   "cell_type": "code",
   "execution_count": 51,
   "id": "4f5ad0ba",
   "metadata": {},
   "outputs": [],
   "source": [
    "from sklearn.metrics import mean_squared_error, mean_absolute_error"
   ]
  },
  {
   "cell_type": "code",
   "execution_count": 52,
   "id": "877e6dde",
   "metadata": {},
   "outputs": [
    {
     "data": {
      "text/plain": [
       "0.0036256783996364405"
      ]
     },
     "execution_count": 52,
     "metadata": {},
     "output_type": "execute_result"
    }
   ],
   "source": [
    "mean_squared_error(test_img[0].reshape(64,64), np.array(sonufy.autoencoder(test_img)[0]).reshape(64,64))"
   ]
  },
  {
   "cell_type": "code",
   "execution_count": null,
   "id": "a797b87a",
   "metadata": {},
   "outputs": [],
   "source": []
  }
 ],
 "metadata": {
  "kernelspec": {
   "display_name": "Python 3 (ipykernel)",
   "language": "python",
   "name": "python3"
  },
  "language_info": {
   "codemirror_mode": {
    "name": "ipython",
    "version": 3
   },
   "file_extension": ".py",
   "mimetype": "text/x-python",
   "name": "python",
   "nbconvert_exporter": "python",
   "pygments_lexer": "ipython3",
   "version": "3.9.13"
  }
 },
 "nbformat": 4,
 "nbformat_minor": 5
}

{
 "cells": [
  {
   "cell_type": "code",
   "execution_count": 1,
   "id": "94312eb8",
   "metadata": {},
   "outputs": [],
   "source": [
    "from src.Sonufy import Sonufy\n",
    "\n",
    "sonufy = Sonufy(batch_size=64, latent_dims=128, output_size=(64,64), all_tracks_file='data/all_tracks_shuffled.feather')"
   ]
  },
  {
   "cell_type": "code",
   "execution_count": null,
   "id": "89ad7b75",
   "metadata": {},
   "outputs": [
    {
     "name": "stderr",
     "output_type": "stream",
     "text": [
      "/Users/michaelroth/Documents/Flatiron/Projects/song-similarity-app/src/audio_functions.py:105: RuntimeWarning: invalid value encountered in true_divide\n",
      "  specgram /= specgram.max()  # volume normalize to max 1\n"
     ]
    },
    {
     "name": "stdout",
     "output_type": "stream",
     "text": [
      "13925\r"
     ]
    },
    {
     "name": "stderr",
     "output_type": "stream",
     "text": [
      "/Users/michaelroth/Documents/Flatiron/Projects/song-similarity-app/src/audio_functions.py:105: RuntimeWarning: invalid value encountered in true_divide\n",
      "  specgram /= specgram.max()  # volume normalize to max 1\n"
     ]
    },
    {
     "name": "stdout",
     "output_type": "stream",
     "text": [
      "26234\r"
     ]
    },
    {
     "name": "stderr",
     "output_type": "stream",
     "text": [
      "/Users/michaelroth/Documents/Flatiron/Projects/song-similarity-app/src/audio_functions.py:105: RuntimeWarning: invalid value encountered in true_divide\n",
      "  specgram /= specgram.max()  # volume normalize to max 1\n"
     ]
    },
    {
     "name": "stdout",
     "output_type": "stream",
     "text": [
      "103175\r"
     ]
    },
    {
     "name": "stderr",
     "output_type": "stream",
     "text": [
      "/Users/michaelroth/Documents/Flatiron/Projects/song-similarity-app/src/audio_functions.py:105: RuntimeWarning: invalid value encountered in true_divide\n",
      "  specgram /= specgram.max()  # volume normalize to max 1\n"
     ]
    },
    {
     "name": "stdout",
     "output_type": "stream",
     "text": [
      "110946\r"
     ]
    },
    {
     "name": "stderr",
     "output_type": "stream",
     "text": [
      "/Users/michaelroth/Documents/Flatiron/Projects/song-similarity-app/src/audio_functions.py:105: RuntimeWarning: invalid value encountered in true_divide\n",
      "  specgram /= specgram.max()  # volume normalize to max 1\n"
     ]
    },
    {
     "name": "stdout",
     "output_type": "stream",
     "text": [
      "122736\r"
     ]
    },
    {
     "name": "stderr",
     "output_type": "stream",
     "text": [
      "/Users/michaelroth/Documents/Flatiron/Projects/song-similarity-app/src/audio_functions.py:105: RuntimeWarning: invalid value encountered in true_divide\n",
      "  specgram /= specgram.max()  # volume normalize to max 1\n"
     ]
    },
    {
     "name": "stdout",
     "output_type": "stream",
     "text": [
      "129079\r"
     ]
    },
    {
     "name": "stderr",
     "output_type": "stream",
     "text": [
      "/Users/michaelroth/Documents/Flatiron/Projects/song-similarity-app/src/audio_functions.py:105: RuntimeWarning: invalid value encountered in true_divide\n",
      "  specgram /= specgram.max()  # volume normalize to max 1\n"
     ]
    },
    {
     "name": "stdout",
     "output_type": "stream",
     "text": [
      "153854\r"
     ]
    }
   ],
   "source": [
    "sonufy.download_links(save_folder='data')"
   ]
  },
  {
   "cell_type": "code",
   "execution_count": null,
   "id": "ae00d508",
   "metadata": {},
   "outputs": [],
   "source": []
  }
 ],
 "metadata": {
  "kernelspec": {
   "display_name": "Python 3 (ipykernel)",
   "language": "python",
   "name": "python3"
  },
  "language_info": {
   "codemirror_mode": {
    "name": "ipython",
    "version": 3
   },
   "file_extension": ".py",
   "mimetype": "text/x-python",
   "name": "python",
   "nbconvert_exporter": "python",
   "pygments_lexer": "ipython3",
   "version": "3.9.13"
  }
 },
 "nbformat": 4,
 "nbformat_minor": 5
}

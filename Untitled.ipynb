{
 "cells": [
  {
   "cell_type": "code",
   "execution_count": 1,
   "id": "b2ff68ff",
   "metadata": {},
   "outputs": [],
   "source": [
    "from src.Sonufy import *"
   ]
  },
  {
   "cell_type": "code",
   "execution_count": 12,
   "id": "7b2d23a9",
   "metadata": {},
   "outputs": [
    {
     "name": "stdout",
     "output_type": "stream",
     "text": [
      "Found 88766 files for prediction set\n"
     ]
    }
   ],
   "source": [
    "adg = AudioDataGenerator(batch_size=32, input_size=(64,1030), output_size=(64,64), directory='data/mels')"
   ]
  },
  {
   "cell_type": "code",
   "execution_count": 13,
   "id": "4d1b8afc",
   "metadata": {},
   "outputs": [],
   "source": [
    "test_img = adg.take(0)[0]"
   ]
  },
  {
   "cell_type": "code",
   "execution_count": 14,
   "id": "f858b4d1",
   "metadata": {},
   "outputs": [
    {
     "data": {
      "text/plain": [
       "(32, 64, 64, 1)"
      ]
     },
     "execution_count": 14,
     "metadata": {},
     "output_type": "execute_result"
    }
   ],
   "source": [
    "test_img.shape"
   ]
  },
  {
   "cell_type": "code",
   "execution_count": 15,
   "id": "d414ec3c",
   "metadata": {},
   "outputs": [
    {
     "data": {
      "text/plain": [
       "<matplotlib.image.AxesImage at 0x28f729f10>"
      ]
     },
     "execution_count": 15,
     "metadata": {},
     "output_type": "execute_result"
    },
    {
     "data": {
      "image/png": "[encoded data removed]",
      "text/plain": [
       "<Figure size 432x288 with 1 Axes>"
      ]
     },
     "metadata": {
      "needs_background": "light"
     },
     "output_type": "display_data"
    }
   ],
   "source": [
    "import matplotlib.pyplot as plt\n",
    "\n",
    "plt.imshow(test_img[0])"
   ]
  },
  {
   "cell_type": "code",
   "execution_count": 16,
   "id": "e45de1ce",
   "metadata": {},
   "outputs": [],
   "source": [
    "sonufy = Sonufy(latent_dims=128, output_size=(64,64))"
   ]
  },
  {
   "cell_type": "code",
   "execution_count": 17,
   "id": "73101017",
   "metadata": {},
   "outputs": [],
   "source": [
    "sonufy.build_model()"
   ]
  },
  {
   "cell_type": "code",
   "execution_count": null,
   "id": "5e6c3db6",
   "metadata": {},
   "outputs": [
    {
     "name": "stdout",
     "output_type": "stream",
     "text": [
      "Found 71054 files for training set\n",
      "Found 17764 files for testing set\n",
      "Epoch 1/10\n"
     ]
    },
    {
     "name": "stderr",
     "output_type": "stream",
     "text": [
      "2022-09-01 22:51:16.839044: W tensorflow/core/platform/profile_utils/cpu_utils.cc:128] Failed to get CPU frequency: 0 Hz\n"
     ]
    },
    {
     "name": "stdout",
     "output_type": "stream",
     "text": [
      "555/555 [==============================] - 245s 438ms/step - loss: 0.0067 - val_loss: 0.0052\n",
      "Epoch 2/10\n",
      "555/555 [==============================] - 255s 459ms/step - loss: 0.0043 - val_loss: 0.0042\n",
      "Epoch 3/10\n",
      "460/555 [=======================>......] - ETA: 32s - loss: 0.0038"
     ]
    }
   ],
   "source": [
    "sonufy.train(mel_directory='data/mels', epochs=10)"
   ]
  },
  {
   "cell_type": "code",
   "execution_count": null,
   "id": "538c0428",
   "metadata": {},
   "outputs": [],
   "source": [
    "sonufy.save_full_model('data/test_model/')"
   ]
  },
  {
   "cell_type": "code",
   "execution_count": null,
   "id": "9d32ceaf",
   "metadata": {},
   "outputs": [],
   "source": [
    "sonufy.load_full_model('data/test_model/')"
   ]
  }
 ],
 "metadata": {
  "kernelspec": {
   "display_name": "Python 3 (ipykernel)",
   "language": "python",
   "name": "python3"
  },
  "language_info": {
   "codemirror_mode": {
    "name": "ipython",
    "version": 3
   },
   "file_extension": ".py",
   "mimetype": "text/x-python",
   "name": "python",
   "nbconvert_exporter": "python",
   "pygments_lexer": "ipython3",
   "version": "3.9.13"
  }
 },
 "nbformat": 4,
 "nbformat_minor": 5
}
